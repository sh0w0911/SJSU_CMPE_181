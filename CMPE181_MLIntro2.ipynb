{
  "nbformat": 4,
  "nbformat_minor": 0,
  "metadata": {
    "colab": {
      "name": "CMPE181-MLIntro2.ipynb",
      "provenance": [],
      "authorship_tag": "ABX9TyPNUhzOtqjF/14Ww5Lwnwlz",
      "include_colab_link": true
    },
    "kernelspec": {
      "name": "python3",
      "display_name": "Python 3"
    },
    "language_info": {
      "name": "python"
    }
  },
  "cells": [
    {
      "cell_type": "markdown",
      "metadata": {
        "id": "view-in-github",
        "colab_type": "text"
      },
      "source": [
        "<a href=\"https://colab.research.google.com/github/sh0w0911/SJSU_CMPE_181/blob/main/CMPE181_MLIntro2.ipynb\" target=\"_parent\"><img src=\"https://colab.research.google.com/assets/colab-badge.svg\" alt=\"Open In Colab\"/></a>"
      ]
    },
    {
      "cell_type": "code",
      "metadata": {
        "colab": {
          "base_uri": "https://localhost:8080/"
        },
        "id": "V6MOpjLqp_8A",
        "outputId": "4338dd0e-d53f-403a-e997-6e53be4b6f5a"
      },
      "source": [
        "#iris\n",
        "import numpy as np\n",
        "import matplotlib.pyplot as plt\n",
        "from sklearn.linear_model import LogisticRegression\n",
        "from sklearn import datasets\n",
        "\n",
        "# import some data to play with\n",
        "iris = datasets.load_iris() #https://ogrisel.github.io/scikit-learn.org/sklearn-tutorial/modules/generated/sklearn.datasets.load_iris.html\n",
        "X = iris.data[:, :2]  # we only take the first two features.\n",
        "Y = iris.target\n",
        "X.shape"
      ],
      "execution_count": 1,
      "outputs": [
        {
          "output_type": "execute_result",
          "data": {
            "text/plain": [
              "(150, 2)"
            ]
          },
          "metadata": {
            "tags": []
          },
          "execution_count": 1
        }
      ]
    },
    {
      "cell_type": "code",
      "metadata": {
        "colab": {
          "base_uri": "https://localhost:8080/"
        },
        "id": "9o-Q3jecqTWP",
        "outputId": "6a792716-3943-48cf-c05e-bf36efb20c1c"
      },
      "source": [
        "Y.shape"
      ],
      "execution_count": 3,
      "outputs": [
        {
          "output_type": "execute_result",
          "data": {
            "text/plain": [
              "(150,)"
            ]
          },
          "metadata": {
            "tags": []
          },
          "execution_count": 3
        }
      ]
    },
    {
      "cell_type": "code",
      "metadata": {
        "colab": {
          "base_uri": "https://localhost:8080/"
        },
        "id": "GPCU5RZuqTZe",
        "outputId": "f66fe4f3-e688-480b-f7f9-bd3dba3877dc"
      },
      "source": [
        "logreg = LogisticRegression()#(C=1e5)\n",
        "# Create an instance of Logistic Regression Classifier and fit the data.\n",
        "logreg.fit(X, Y)"
      ],
      "execution_count": 4,
      "outputs": [
        {
          "output_type": "execute_result",
          "data": {
            "text/plain": [
              "LogisticRegression(C=1.0, class_weight=None, dual=False, fit_intercept=True,\n",
              "                   intercept_scaling=1, l1_ratio=None, max_iter=100,\n",
              "                   multi_class='auto', n_jobs=None, penalty='l2',\n",
              "                   random_state=None, solver='lbfgs', tol=0.0001, verbose=0,\n",
              "                   warm_start=False)"
            ]
          },
          "metadata": {
            "tags": []
          },
          "execution_count": 4
        }
      ]
    },
    {
      "cell_type": "code",
      "metadata": {
        "colab": {
          "base_uri": "https://localhost:8080/"
        },
        "id": "A2Uh4zfZqTc8",
        "outputId": "c150de52-8e9f-4cf8-de93-52411df34156"
      },
      "source": [
        "# Plot the decision boundary. For that, we will assign a color to each\n",
        "# point in the mesh [x_min, x_max]x[y_min, y_max].\n",
        "x_min, x_max = X[:, 0].min() - .5, X[:, 0].max() + .5\n",
        "y_min, y_max = X[:, 1].min() - .5, X[:, 1].max() + .5\n",
        "print([x_min, x_max, y_min, y_max])\n",
        "h = .02  # step size in the mesh\n",
        "xx, yy = np.meshgrid(np.arange(x_min, x_max, h), np.arange(y_min, y_max, h))#https://numpy.org/doc/stable/reference/generated/numpy.meshgrid.html\n",
        "print(xx.shape)\n",
        "print(yy.shape)"
      ],
      "execution_count": 5,
      "outputs": [
        {
          "output_type": "stream",
          "text": [
            "[3.8, 8.4, 1.5, 4.9]\n",
            "(171, 231)\n",
            "(171, 231)\n"
          ],
          "name": "stdout"
        }
      ]
    },
    {
      "cell_type": "code",
      "metadata": {
        "colab": {
          "base_uri": "https://localhost:8080/"
        },
        "id": "zI97owzNqTfc",
        "outputId": "1ad288e4-45fa-48cf-c299-67b491b4b1e8"
      },
      "source": [
        "newxxyy=np.c_[xx.ravel(), yy.ravel()] #https://numpy.org/devdocs/reference/generated/numpy.c_.html#:~:text=numpy.,because%20of%20its%20common%20occurrence.\n",
        "newxxyy.shape"
      ],
      "execution_count": 6,
      "outputs": [
        {
          "output_type": "execute_result",
          "data": {
            "text/plain": [
              "(39501, 2)"
            ]
          },
          "metadata": {
            "tags": []
          },
          "execution_count": 6
        }
      ]
    },
    {
      "cell_type": "code",
      "metadata": {
        "colab": {
          "base_uri": "https://localhost:8080/"
        },
        "id": "b3djJhmJqcbQ",
        "outputId": "3afb2005-6bc0-4425-b278-91c74d93e79c"
      },
      "source": [
        "Z = logreg.predict(newxxyy)\n",
        "Z.shape"
      ],
      "execution_count": 7,
      "outputs": [
        {
          "output_type": "execute_result",
          "data": {
            "text/plain": [
              "(39501,)"
            ]
          },
          "metadata": {
            "tags": []
          },
          "execution_count": 7
        }
      ]
    },
    {
      "cell_type": "code",
      "metadata": {
        "colab": {
          "base_uri": "https://localhost:8080/"
        },
        "id": "SNfQeL4NqceG",
        "outputId": "8fbb0d1d-390d-47ac-d846-c7ca169788c7"
      },
      "source": [
        "from sklearn.metrics import classification_report\n",
        "y_afterpred=logreg.predict(X)\n",
        "print(classification_report(Y, y_afterpred))"
      ],
      "execution_count": 8,
      "outputs": [
        {
          "output_type": "stream",
          "text": [
            "              precision    recall  f1-score   support\n",
            "\n",
            "           0       1.00      1.00      1.00        50\n",
            "           1       0.73      0.74      0.73        50\n",
            "           2       0.73      0.72      0.73        50\n",
            "\n",
            "    accuracy                           0.82       150\n",
            "   macro avg       0.82      0.82      0.82       150\n",
            "weighted avg       0.82      0.82      0.82       150\n",
            "\n"
          ],
          "name": "stdout"
        }
      ]
    },
    {
      "cell_type": "code",
      "metadata": {
        "colab": {
          "base_uri": "https://localhost:8080/",
          "height": 228
        },
        "id": "VBgAMZWyqcgu",
        "outputId": "9869ffa3-4c76-4d4f-db5f-ed8aefabfa87"
      },
      "source": [
        "# Put the result into a color plot\n",
        "Z = Z.reshape(xx.shape)\n",
        "plt.figure(1, figsize=(4, 3))\n",
        "plt.pcolormesh(xx, yy, Z, cmap=plt.cm.Paired)"
      ],
      "execution_count": 9,
      "outputs": [
        {
          "output_type": "execute_result",
          "data": {
            "text/plain": [
              "<matplotlib.collections.QuadMesh at 0x7fbe5eacc8d0>"
            ]
          },
          "metadata": {
            "tags": []
          },
          "execution_count": 9
        },
        {
          "output_type": "display_data",
          "data": {
            "image/png": "[encoded data removed]",
            "text/plain": [
              "<Figure size 288x216 with 1 Axes>"
            ]
          },
          "metadata": {
            "tags": [],
            "needs_background": "light"
          }
        }
      ]
    },
    {
      "cell_type": "code",
      "metadata": {
        "colab": {
          "base_uri": "https://localhost:8080/",
          "height": 208
        },
        "id": "zfZ1RE_4qcjh",
        "outputId": "320c9faa-51a2-441c-9b0e-c213a7091ed6"
      },
      "source": [
        "plt.figure(1, figsize=(4, 3))\n",
        "plt.pcolormesh(xx, yy, Z, cmap=plt.cm.Paired)\n",
        "\n",
        "# Plot also the training points\n",
        "plt.scatter(X[:, 0], X[:, 1], c=Y, edgecolors='k', cmap=plt.cm.Paired)\n",
        "plt.xlabel('Sepal length')\n",
        "plt.ylabel('Sepal width')\n",
        "\n",
        "plt.xlim(xx.min(), xx.max())\n",
        "plt.ylim(yy.min(), yy.max())\n",
        "plt.xticks(())\n",
        "plt.yticks(())\n",
        "\n",
        "plt.show()"
      ],
      "execution_count": 10,
      "outputs": [
        {
          "output_type": "display_data",
          "data": {
            "image/png": "[encoded data removed]",
            "text/plain": [
              "<Figure size 288x216 with 1 Axes>"
            ]
          },
          "metadata": {
            "tags": []
          }
        }
      ]
    },
    {
      "cell_type": "code",
      "metadata": {
        "colab": {
          "base_uri": "https://localhost:8080/"
        },
        "id": "AHqeWqwLqnKP",
        "outputId": "44dc955e-eb85-4fbc-9bfd-6294430c8b08"
      },
      "source": [
        "from sklearn.neighbors import KNeighborsClassifier\n",
        "knclass = KNeighborsClassifier(3)\n",
        "# Create an instance of Logistic Regression Classifier and fit the data.\n",
        "knclass.fit(X, Y)"
      ],
      "execution_count": 11,
      "outputs": [
        {
          "output_type": "execute_result",
          "data": {
            "text/plain": [
              "KNeighborsClassifier(algorithm='auto', leaf_size=30, metric='minkowski',\n",
              "                     metric_params=None, n_jobs=None, n_neighbors=3, p=2,\n",
              "                     weights='uniform')"
            ]
          },
          "metadata": {
            "tags": []
          },
          "execution_count": 11
        }
      ]
    },
    {
      "cell_type": "code",
      "metadata": {
        "colab": {
          "base_uri": "https://localhost:8080/"
        },
        "id": "VAxxfVp6qnN1",
        "outputId": "0354d629-14df-4f67-ad4b-ba7b7e5266c4"
      },
      "source": [
        "Z = knclass.predict(newxxyy)#mesh grid\n",
        "Z.shape"
      ],
      "execution_count": 12,
      "outputs": [
        {
          "output_type": "execute_result",
          "data": {
            "text/plain": [
              "(39501,)"
            ]
          },
          "metadata": {
            "tags": []
          },
          "execution_count": 12
        }
      ]
    },
    {
      "cell_type": "code",
      "metadata": {
        "colab": {
          "base_uri": "https://localhost:8080/"
        },
        "id": "HbV6x8sRqnRM",
        "outputId": "34c899bf-8233-411b-e21c-d7ab534b72e5"
      },
      "source": [
        "from sklearn.metrics import classification_report\n",
        "y_afterpred=knclass.predict(X)\n",
        "print(classification_report(Y, y_afterpred))"
      ],
      "execution_count": 13,
      "outputs": [
        {
          "output_type": "stream",
          "text": [
            "              precision    recall  f1-score   support\n",
            "\n",
            "           0       1.00      1.00      1.00        50\n",
            "           1       0.82      0.72      0.77        50\n",
            "           2       0.75      0.84      0.79        50\n",
            "\n",
            "    accuracy                           0.85       150\n",
            "   macro avg       0.86      0.85      0.85       150\n",
            "weighted avg       0.86      0.85      0.85       150\n",
            "\n"
          ],
          "name": "stdout"
        }
      ]
    },
    {
      "cell_type": "code",
      "metadata": {
        "colab": {
          "base_uri": "https://localhost:8080/",
          "height": 208
        },
        "id": "0BLGxA3SqsKb",
        "outputId": "d3578204-d378-4c1c-83b9-8086abc754ae"
      },
      "source": [
        "# Put the result into a color plot\n",
        "Z = Z.reshape(xx.shape)\n",
        "plt.figure(1, figsize=(4, 3))\n",
        "plt.pcolormesh(xx, yy, Z, cmap=plt.cm.Paired)\n",
        "plt.figure(1, figsize=(4, 3))\n",
        "plt.pcolormesh(xx, yy, Z, cmap=plt.cm.Paired)\n",
        "\n",
        "# Plot also the training points\n",
        "plt.scatter(X[:, 0], X[:, 1], c=Y, edgecolors='k', cmap=plt.cm.Paired)\n",
        "plt.xlabel('Sepal length')\n",
        "plt.ylabel('Sepal width')\n",
        "\n",
        "plt.xlim(xx.min(), xx.max())\n",
        "plt.ylim(yy.min(), yy.max())\n",
        "plt.xticks(())\n",
        "plt.yticks(())\n",
        "\n",
        "plt.show()"
      ],
      "execution_count": 14,
      "outputs": [
        {
          "output_type": "display_data",
          "data": {
            "image/png": "[encoded data removed]",
            "text/plain": [
              "<Figure size 288x216 with 1 Axes>"
            ]
          },
          "metadata": {
            "tags": []
          }
        }
      ]
    },
    {
      "cell_type": "markdown",
      "metadata": {
        "id": "r7og8SOXq3NU"
      },
      "source": [
        "Fetch data from Bigquery\n"
      ]
    },
    {
      "cell_type": "code",
      "metadata": {
        "colab": {
          "base_uri": "https://localhost:8080/"
        },
        "id": "IsvaitvAq6RN",
        "outputId": "4bd50c15-39a4-427a-973b-5ec1c8a1fb46"
      },
      "source": [
        "from google.colab import auth\n",
        "auth.authenticate_user()\n",
        "print('Authenticated')"
      ],
      "execution_count": 15,
      "outputs": [
        {
          "output_type": "stream",
          "text": [
            "Authenticated\n"
          ],
          "name": "stdout"
        }
      ]
    },
    {
      "cell_type": "code",
      "metadata": {
        "id": "xctDYEMPq8AH"
      },
      "source": [
        "%load_ext google.colab.data_table"
      ],
      "execution_count": 16,
      "outputs": []
    },
    {
      "cell_type": "code",
      "metadata": {
        "colab": {
          "base_uri": "https://localhost:8080/"
        },
        "id": "yLgZp4DOq8C9",
        "outputId": "44aa4acf-e45b-4bf3-b80b-26e0929030e7"
      },
      "source": [
        "project_id = 'helical-client-308405'\n",
        "!gcloud config list project"
      ],
      "execution_count": 17,
      "outputs": [
        {
          "output_type": "stream",
          "text": [
            "[core]\n",
            "project (unset)\n",
            "\n",
            "Your active configuration is: [default]\n"
          ],
          "name": "stdout"
        }
      ]
    },
    {
      "cell_type": "code",
      "metadata": {
        "colab": {
          "base_uri": "https://localhost:8080/"
        },
        "id": "PTomj60tq8Ft",
        "outputId": "134a003d-c4ff-4b67-fa73-2cdd1fe27d8a"
      },
      "source": [
        "!gcloud config set project 'helical-client-308405'"
      ],
      "execution_count": 18,
      "outputs": [
        {
          "output_type": "stream",
          "text": [
            "Updated property [core/project].\n"
          ],
          "name": "stdout"
        }
      ]
    },
    {
      "cell_type": "code",
      "metadata": {
        "id": "pm1NrDFjq8IU"
      },
      "source": [
        "from google.cloud import bigquery\n",
        "\n",
        "# https://cloud.google.com/resource-manager/docs/creating-managing-projects\n",
        "project_id = 'helical-client-308405'\n",
        "client = bigquery.Client(project=project_id)"
      ],
      "execution_count": 19,
      "outputs": []
    },
    {
      "cell_type": "code",
      "metadata": {
        "colab": {
          "base_uri": "https://localhost:8080/",
          "height": 1055
        },
        "id": "e6rdfAW8rPir",
        "outputId": "9a4d73cf-31d8-4bc2-d5e5-0a9dd1442d70"
      },
      "source": [
        "sql = \"\"\"\n",
        "SELECT\n",
        "    *\n",
        "FROM\n",
        "    `bigquery-public-data.ml_datasets.census_adult_income`\n",
        "\"\"\"\n",
        "dfquery = client.query(sql)\n",
        "df_census=dfquery.to_dataframe()\n",
        "df_census.head(200)"
      ],
      "execution_count": 20,
      "outputs": [
        {
          "output_type": "execute_result",
          "data": {
            "application/vnd.google.colaboratory.module+javascript": "\n      import \"https://ssl.gstatic.com/colaboratory/data_table/a6224c040fa35dcf/data_table.js\";\n\n      window.createDataTable({\n        data: [[{\n            'v': 0,\n            'f': \"0\",\n        },\n{\n            'v': 39,\n            'f': \"39\",\n        },\n\" Private\",\n{\n            'v': 297847,\n            'f': \"297847\",\n        },\n\" 9th\",\n{\n            'v': 5,\n            'f': \"5\",\n        },\n\" Married-civ-spouse\",\n\" Other-service\",\n\" Wife\",\n\" Black\",\n\" Female\",\n{\n            'v': 3411,\n            'f': \"3411\",\n        },\n{\n            'v': 0,\n            'f': \"0\",\n        },\n{\n            'v': 34,\n            'f': \"34\",\n        },\n\" United-States\",\n\" <=50K\"],\n [{\n            'v': 1,\n            'f': \"1\",\n        },\n{\n            'v': 72,\n            'f': \"72\",\n        },\n\" Private\",\n{\n            'v': 74141,\n            'f': \"74141\",\n        },\n\" 9th\",\n{\n            'v': 5,\n            'f': \"5\",\n        },\n\" Married-civ-spouse\",\n\" Exec-managerial\",\n\" Wife\",\n\" Asian-Pac-Islander\",\n\" Female\",\n{\n            'v': 0,\n            'f': \"0\",\n        },\n{\n            'v': 0,\n            'f': \"0\",\n        },\n{\n            'v': 48,\n            'f': \"48\",\n        },\n\" United-States\",\n\" >50K\"],\n [{\n            'v': 2,\n            'f': \"2\",\n        },\n{\n            'v': 45,\n            'f': \"45\",\n        },\n\" Private\",\n{\n            'v': 178215,\n            'f': \"178215\",\n        },\n\" 9th\",\n{\n            'v': 5,\n            'f': \"5\",\n        },\n\" Married-civ-spouse\",\n\" Machine-op-inspct\",\n\" Wife\",\n\" White\",\n\" Female\",\n{\n            'v': 0,\n            'f': \"0\",\n        },\n{\n            'v': 0,\n            'f': \"0\",\n        },\n{\n            'v': 40,\n            'f': \"40\",\n        },\n\" United-States\",\n\" >50K\"],\n [{\n            'v': 3,\n            'f': \"3\",\n        },\n{\n            'v': 31,\n            'f': \"31\",\n        },\n\" Private\",\n{\n            'v': 86958,\n            'f': \"86958\",\n        },\n\" 9th\",\n{\n            'v': 5,\n            'f': \"5\",\n        },\n\" Married-civ-spouse\",\n\" Exec-managerial\",\n\" Wife\",\n\" White\",\n\" Female\",\n{\n            'v': 0,\n            'f': \"0\",\n        },\n{\n            'v': 0,\n            'f': \"0\",\n        },\n{\n            'v': 40,\n            'f': \"40\",\n        },\n\" United-States\",\n\" <=50K\"],\n [{\n            'v': 4,\n            'f': \"4\",\n        },\n{\n            'v': 55,\n            'f': \"55\",\n        },\n\" Private\",\n{\n            'v': 176012,\n            'f': \"176012\",\n        },\n\" 9th\",\n{\n            'v': 5,\n            'f': \"5\",\n        },\n\" Married-civ-spouse\",\n\" Tech-support\",\n\" Wife\",\n\" White\",\n\" Female\",\n{\n            'v': 0,\n            'f': \"0\",\n        },\n{\n            'v': 0,\n            'f': \"0\",\n        },\n{\n            'v': 23,\n            'f': \"23\",\n        },\n\" United-States\",\n\" <=50K\"],\n [{\n            'v': 5,\n            'f': \"5\",\n        },\n{\n            'v': 30,\n            'f': \"30\",\n        },\n\" Private\",\n{\n            'v': 61272,\n            'f': \"61272\",\n        },\n\" 9th\",\n{\n            'v': 5,\n            'f': \"5\",\n        },\n\" Married-civ-spouse\",\n\" Machine-op-inspct\",\n\" Wife\",\n\" White\",\n\" Female\",\n{\n            'v': 0,\n            'f': \"0\",\n        },\n{\n            'v': 0,\n            'f': \"0\",\n        },\n{\n            'v': 40,\n            'f': \"40\",\n        },\n\" Portugal\",\n\" <=50K\"],\n [{\n            'v': 6,\n            'f': \"6\",\n        },\n{\n            'v': 46,\n            'f': \"46\",\n        },\n\" Self-emp-inc\",\n{\n            'v': 161386,\n            'f': \"161386\",\n        },\n\" 9th\",\n{\n            'v': 5,\n            'f': \"5\",\n        },\n\" Married-civ-spouse\",\n\" Adm-clerical\",\n\" Wife\",\n\" White\",\n\" Female\",\n{\n            'v': 0,\n            'f': \"0\",\n        },\n{\n            'v': 0,\n            'f': \"0\",\n        },\n{\n            'v': 50,\n            'f': \"50\",\n        },\n\" United-States\",\n\" <=50K\"],\n [{\n            'v': 7,\n            'f': \"7\",\n        },\n{\n            'v': 28,\n            'f': \"28\",\n        },\n\" Private\",\n{\n            'v': 209801,\n            'f': \"209801\",\n        },\n\" 9th\",\n{\n            'v': 5,\n            'f': \"5\",\n        },\n\" Married-civ-spouse\",\n\" Machine-op-inspct\",\n\" Wife\",\n\" White\",\n\" Female\",\n{\n            'v': 0,\n            'f': \"0\",\n        },\n{\n            'v': 0,\n            'f': \"0\",\n        },\n{\n            'v': 40,\n            'f': \"40\",\n        },\n\" United-States\",\n\" <=50K\"],\n [{\n            'v': 8,\n            'f': \"8\",\n        },\n{\n            'v': 37,\n            'f': \"37\",\n        },\n\" Private\",\n{\n            'v': 171090,\n            'f': \"171090\",\n        },\n\" 9th\",\n{\n            'v': 5,\n            'f': \"5\",\n        },\n\" Married-civ-spouse\",\n\" Machine-op-inspct\",\n\" Wife\",\n\" Black\",\n\" Female\",\n{\n            'v': 0,\n            'f': \"0\",\n        },\n{\n            'v': 0,\n            'f': \"0\",\n        },\n{\n            'v': 48,\n            'f': \"48\",\n        },\n\" United-States\",\n\" <=50K\"],\n [{\n            'v': 9,\n            'f': \"9\",\n        },\n{\n            'v': 40,\n            'f': \"40\",\n        },\n\" Local-gov\",\n{\n            'v': 183096,\n            'f': \"183096\",\n        },\n\" 9th\",\n{\n            'v': 5,\n            'f': \"5\",\n        },\n\" Married-civ-spouse\",\n\" Other-service\",\n\" Wife\",\n\" White\",\n\" Female\",\n{\n            'v': 0,\n            'f': \"0\",\n        },\n{\n            'v': 0,\n            'f': \"0\",\n        },\n{\n            'v': 40,\n            'f': \"40\",\n        },\n\" Yugoslavia\",\n\" >50K\"],\n [{\n            'v': 10,\n            'f': \"10\",\n        },\n{\n            'v': 41,\n            'f': \"41\",\n        },\n\" ?\",\n{\n            'v': 217921,\n            'f': \"217921\",\n        },\n\" 9th\",\n{\n            'v': 5,\n            'f': \"5\",\n        },\n\" Married-civ-spouse\",\n\" ?\",\n\" Wife\",\n\" Asian-Pac-Islander\",\n\" Female\",\n{\n            'v': 0,\n            'f': \"0\",\n        },\n{\n            'v': 0,\n            'f': \"0\",\n        },\n{\n            'v': 40,\n            'f': \"40\",\n        },\n\" Hong\",\n\" <=50K\"],\n [{\n            'v': 11,\n            'f': \"11\",\n        },\n{\n            'v': 27,\n            'f': \"27\",\n        },\n\" Private\",\n{\n            'v': 109611,\n            'f': \"109611\",\n        },\n\" 9th\",\n{\n            'v': 5,\n            'f': \"5\",\n        },\n\" Married-civ-spouse\",\n\" Machine-op-inspct\",\n\" Wife\",\n\" White\",\n\" Female\",\n{\n            'v': 0,\n            'f': \"0\",\n        },\n{\n            'v': 0,\n            'f': \"0\",\n        },\n{\n            'v': 37,\n            'f': \"37\",\n        },\n\" Portugal\",\n\" <=50K\"],\n [{\n            'v': 12,\n            'f': \"12\",\n        },\n{\n            'v': 31,\n            'f': \"31\",\n        },\n\" Private\",\n{\n            'v': 399052,\n            'f': \"399052\",\n        },\n\" 9th\",\n{\n            'v': 5,\n            'f': \"5\",\n        },\n\" Married-civ-spouse\",\n\" Farming-fishing\",\n\" Wife\",\n\" White\",\n\" Female\",\n{\n            'v': 0,\n            'f': \"0\",\n        },\n{\n            'v': 0,\n            'f': \"0\",\n        },\n{\n            'v': 42,\n            'f': \"42\",\n        },\n\" United-States\",\n\" <=50K\"],\n [{\n            'v': 13,\n            'f': \"13\",\n        },\n{\n            'v': 46,\n            'f': \"46\",\n        },\n\" Private\",\n{\n            'v': 184883,\n            'f': \"184883\",\n        },\n\" 9th\",\n{\n            'v': 5,\n            'f': \"5\",\n        },\n\" Married-civ-spouse\",\n\" Machine-op-inspct\",\n\" Wife\",\n\" White\",\n\" Female\",\n{\n            'v': 0,\n            'f': \"0\",\n        },\n{\n            'v': 0,\n            'f': \"0\",\n        },\n{\n            'v': 40,\n            'f': \"40\",\n        },\n\" United-States\",\n\" <=50K\"],\n [{\n            'v': 14,\n            'f': \"14\",\n        },\n{\n            'v': 70,\n            'f': \"70\",\n        },\n\" Private\",\n{\n            'v': 216390,\n            'f': \"216390\",\n        },\n\" 9th\",\n{\n            'v': 5,\n            'f': \"5\",\n        },\n\" Married-civ-spouse\",\n\" Machine-op-inspct\",\n\" Wife\",\n\" White\",\n\" Female\",\n{\n            'v': 2653,\n            'f': \"2653\",\n        },\n{\n            'v': 0,\n            'f': \"0\",\n        },\n{\n            'v': 40,\n            'f': \"40\",\n        },\n\" United-States\",\n\" <=50K\"],\n [{\n            'v': 15,\n            'f': \"15\",\n        },\n{\n            'v': 77,\n            'f': \"77\",\n        },\n\" Private\",\n{\n            'v': 344425,\n            'f': \"344425\",\n        },\n\" 9th\",\n{\n            'v': 5,\n            'f': \"5\",\n        },\n\" Married-civ-spouse\",\n\" Priv-house-serv\",\n\" Wife\",\n\" Black\",\n\" Female\",\n{\n            'v': 0,\n            'f': \"0\",\n        },\n{\n            'v': 0,\n            'f': \"0\",\n        },\n{\n            'v': 10,\n            'f': \"10\",\n        },\n\" United-States\",\n\" <=50K\"],\n [{\n            'v': 16,\n            'f': \"16\",\n        },\n{\n            'v': 38,\n            'f': \"38\",\n        },\n\" Private\",\n{\n            'v': 131461,\n            'f': \"131461\",\n        },\n\" 9th\",\n{\n            'v': 5,\n            'f': \"5\",\n        },\n\" Married-civ-spouse\",\n\" Other-service\",\n\" Wife\",\n\" Black\",\n\" Female\",\n{\n            'v': 0,\n            'f': \"0\",\n        },\n{\n            'v': 0,\n            'f': \"0\",\n        },\n{\n            'v': 24,\n            'f': \"24\",\n        },\n\" Haiti\",\n\" <=50K\"],\n [{\n            'v': 17,\n            'f': \"17\",\n        },\n{\n            'v': 41,\n            'f': \"41\",\n        },\n\" Self-emp-inc\",\n{\n            'v': 299813,\n            'f': \"299813\",\n        },\n\" 9th\",\n{\n            'v': 5,\n            'f': \"5\",\n        },\n\" Married-civ-spouse\",\n\" Sales\",\n\" Wife\",\n\" White\",\n\" Female\",\n{\n            'v': 0,\n            'f': \"0\",\n        },\n{\n            'v': 0,\n            'f': \"0\",\n        },\n{\n            'v': 70,\n            'f': \"70\",\n        },\n\" Dominican-Republic\",\n\" <=50K\"],\n [{\n            'v': 18,\n            'f': \"18\",\n        },\n{\n            'v': 52,\n            'f': \"52\",\n        },\n\" Local-gov\",\n{\n            'v': 330799,\n            'f': \"330799\",\n        },\n\" 9th\",\n{\n            'v': 5,\n            'f': \"5\",\n        },\n\" Married-civ-spouse\",\n\" Other-service\",\n\" Wife\",\n\" White\",\n\" Female\",\n{\n            'v': 0,\n            'f': \"0\",\n        },\n{\n            'v': 0,\n            'f': \"0\",\n        },\n{\n            'v': 40,\n            'f': \"40\",\n        },\n\" United-States\",\n\" <=50K\"],\n [{\n            'v': 19,\n            'f': \"19\",\n        },\n{\n            'v': 35,\n            'f': \"35\",\n        },\n\" ?\",\n{\n            'v': 374716,\n            'f': \"374716\",\n        },\n\" 9th\",\n{\n            'v': 5,\n            'f': \"5\",\n        },\n\" Married-civ-spouse\",\n\" ?\",\n\" Wife\",\n\" White\",\n\" Female\",\n{\n            'v': 0,\n            'f': \"0\",\n        },\n{\n            'v': 0,\n            'f': \"0\",\n        },\n{\n            'v': 35,\n            'f': \"35\",\n        },\n\" United-States\",\n\" <=50K\"],\n [{\n            'v': 20,\n            'f': \"20\",\n        },\n{\n            'v': 28,\n            'f': \"28\",\n        },\n\" Private\",\n{\n            'v': 190350,\n            'f': \"190350\",\n        },\n\" 9th\",\n{\n            'v': 5,\n            'f': \"5\",\n        },\n\" Married-civ-spouse\",\n\" Protective-serv\",\n\" Wife\",\n\" Black\",\n\" Female\",\n{\n            'v': 0,\n            'f': \"0\",\n        },\n{\n            'v': 0,\n            'f': \"0\",\n        },\n{\n            'v': 40,\n            'f': \"40\",\n        },\n\" United-States\",\n\" <=50K\"],\n [{\n            'v': 21,\n            'f': \"21\",\n        },\n{\n            'v': 36,\n            'f': \"36\",\n        },\n\" Private\",\n{\n            'v': 348022,\n            'f': \"348022\",\n        },\n\" 10th\",\n{\n            'v': 6,\n            'f': \"6\",\n        },\n\" Married-civ-spouse\",\n\" Other-service\",\n\" Wife\",\n\" White\",\n\" Female\",\n{\n            'v': 0,\n            'f': \"0\",\n        },\n{\n            'v': 0,\n            'f': \"0\",\n        },\n{\n            'v': 24,\n            'f': \"24\",\n        },\n\" United-States\",\n\" <=50K\"],\n [{\n            'v': 22,\n            'f': \"22\",\n        },\n{\n            'v': 58,\n            'f': \"58\",\n        },\n\" Private\",\n{\n            'v': 51662,\n            'f': \"51662\",\n        },\n\" 10th\",\n{\n            'v': 6,\n            'f': \"6\",\n        },\n\" Married-civ-spouse\",\n\" Other-service\",\n\" Wife\",\n\" White\",\n\" Female\",\n{\n            'v': 0,\n            'f': \"0\",\n        },\n{\n            'v': 0,\n            'f': \"0\",\n        },\n{\n            'v': 8,\n            'f': \"8\",\n        },\n\" United-States\",\n\" <=50K\"],\n [{\n            'v': 23,\n            'f': \"23\",\n        },\n{\n            'v': 48,\n            'f': \"48\",\n        },\n\" Private\",\n{\n            'v': 207848,\n            'f': \"207848\",\n        },\n\" 10th\",\n{\n            'v': 6,\n            'f': \"6\",\n        },\n\" Married-civ-spouse\",\n\" Adm-clerical\",\n\" Wife\",\n\" White\",\n\" Female\",\n{\n            'v': 0,\n            'f': \"0\",\n        },\n{\n            'v': 0,\n            'f': \"0\",\n        },\n{\n            'v': 40,\n            'f': \"40\",\n        },\n\" United-States\",\n\" <=50K\"],\n [{\n            'v': 24,\n            'f': \"24\",\n        },\n{\n            'v': 58,\n            'f': \"58\",\n        },\n\" Self-emp-inc\",\n{\n            'v': 183870,\n            'f': \"183870\",\n        },\n\" 10th\",\n{\n            'v': 6,\n            'f': \"6\",\n        },\n\" Married-civ-spouse\",\n\" Transport-moving\",\n\" Wife\",\n\" White\",\n\" Female\",\n{\n            'v': 0,\n            'f': \"0\",\n        },\n{\n            'v': 0,\n            'f': \"0\",\n        },\n{\n            'v': 40,\n            'f': \"40\",\n        },\n\" United-States\",\n\" <=50K\"],\n [{\n            'v': 25,\n            'f': \"25\",\n        },\n{\n            'v': 22,\n            'f': \"22\",\n        },\n\" Private\",\n{\n            'v': 214731,\n            'f': \"214731\",\n        },\n\" 10th\",\n{\n            'v': 6,\n            'f': \"6\",\n        },\n\" Married-civ-spouse\",\n\" Machine-op-inspct\",\n\" Wife\",\n\" White\",\n\" Female\",\n{\n            'v': 0,\n            'f': \"0\",\n        },\n{\n            'v': 0,\n            'f': \"0\",\n        },\n{\n            'v': 40,\n            'f': \"40\",\n        },\n\" United-States\",\n\" <=50K\"],\n [{\n            'v': 26,\n            'f': \"26\",\n        },\n{\n            'v': 29,\n            'f': \"29\",\n        },\n\" Private\",\n{\n            'v': 100405,\n            'f': \"100405\",\n        },\n\" 10th\",\n{\n            'v': 6,\n            'f': \"6\",\n        },\n\" Married-civ-spouse\",\n\" Farming-fishing\",\n\" Wife\",\n\" Amer-Indian-Eskimo\",\n\" Female\",\n{\n            'v': 0,\n            'f': \"0\",\n        },\n{\n            'v': 0,\n            'f': \"0\",\n        },\n{\n            'v': 40,\n            'f': \"40\",\n        },\n\" United-States\",\n\" <=50K\"],\n [{\n            'v': 27,\n            'f': \"27\",\n        },\n{\n            'v': 27,\n            'f': \"27\",\n        },\n\" Private\",\n{\n            'v': 200641,\n            'f': \"200641\",\n        },\n\" 10th\",\n{\n            'v': 6,\n            'f': \"6\",\n        },\n\" Married-civ-spouse\",\n\" Exec-managerial\",\n\" Wife\",\n\" White\",\n\" Female\",\n{\n            'v': 0,\n            'f': \"0\",\n        },\n{\n            'v': 0,\n            'f': \"0\",\n        },\n{\n            'v': 40,\n            'f': \"40\",\n        },\n\" Mexico\",\n\" <=50K\"],\n [{\n            'v': 28,\n            'f': \"28\",\n        },\n{\n            'v': 40,\n            'f': \"40\",\n        },\n\" Private\",\n{\n            'v': 222848,\n            'f': \"222848\",\n        },\n\" 10th\",\n{\n            'v': 6,\n            'f': \"6\",\n        },\n\" Married-civ-spouse\",\n\" Other-service\",\n\" Wife\",\n\" Black\",\n\" Female\",\n{\n            'v': 0,\n            'f': \"0\",\n        },\n{\n            'v': 0,\n            'f': \"0\",\n        },\n{\n            'v': 32,\n            'f': \"32\",\n        },\n\" United-States\",\n\" <=50K\"],\n [{\n            'v': 29,\n            'f': \"29\",\n        },\n{\n            'v': 26,\n            'f': \"26\",\n        },\n\" Private\",\n{\n            'v': 515025,\n            'f': \"515025\",\n        },\n\" 10th\",\n{\n            'v': 6,\n            'f': \"6\",\n        },\n\" Married-civ-spouse\",\n\" Handlers-cleaners\",\n\" Wife\",\n\" White\",\n\" Female\",\n{\n            'v': 0,\n            'f': \"0\",\n        },\n{\n            'v': 0,\n            'f': \"0\",\n        },\n{\n            'v': 40,\n            'f': \"40\",\n        },\n\" United-States\",\n\" <=50K\"],\n [{\n            'v': 30,\n            'f': \"30\",\n        },\n{\n            'v': 26,\n            'f': \"26\",\n        },\n\" Private\",\n{\n            'v': 102106,\n            'f': \"102106\",\n        },\n\" 10th\",\n{\n            'v': 6,\n            'f': \"6\",\n        },\n\" Married-civ-spouse\",\n\" Adm-clerical\",\n\" Wife\",\n\" White\",\n\" Female\",\n{\n            'v': 0,\n            'f': \"0\",\n        },\n{\n            'v': 0,\n            'f': \"0\",\n        },\n{\n            'v': 40,\n            'f': \"40\",\n        },\n\" United-States\",\n\" <=50K\"],\n [{\n            'v': 31,\n            'f': \"31\",\n        },\n{\n            'v': 25,\n            'f': \"25\",\n        },\n\" Private\",\n{\n            'v': 431307,\n            'f': \"431307\",\n        },\n\" 10th\",\n{\n            'v': 6,\n            'f': \"6\",\n        },\n\" Married-civ-spouse\",\n\" Protective-serv\",\n\" Wife\",\n\" Black\",\n\" Female\",\n{\n            'v': 0,\n            'f': \"0\",\n        },\n{\n            'v': 0,\n            'f': \"0\",\n        },\n{\n            'v': 50,\n            'f': \"50\",\n        },\n\" United-States\",\n\" <=50K\"],\n [{\n            'v': 32,\n            'f': \"32\",\n        },\n{\n            'v': 52,\n            'f': \"52\",\n        },\n\" Private\",\n{\n            'v': 245275,\n            'f': \"245275\",\n        },\n\" 10th\",\n{\n            'v': 6,\n            'f': \"6\",\n        },\n\" Married-civ-spouse\",\n\" Other-service\",\n\" Wife\",\n\" White\",\n\" Female\",\n{\n            'v': 0,\n            'f': \"0\",\n        },\n{\n            'v': 0,\n            'f': \"0\",\n        },\n{\n            'v': 35,\n            'f': \"35\",\n        },\n\" United-States\",\n\" <=50K\"],\n [{\n            'v': 33,\n            'f': \"33\",\n        },\n{\n            'v': 24,\n            'f': \"24\",\n        },\n\" Private\",\n{\n            'v': 227070,\n            'f': \"227070\",\n        },\n\" 10th\",\n{\n            'v': 6,\n            'f': \"6\",\n        },\n\" Married-civ-spouse\",\n\" Machine-op-inspct\",\n\" Wife\",\n\" White\",\n\" Female\",\n{\n            'v': 0,\n            'f': \"0\",\n        },\n{\n            'v': 0,\n            'f': \"0\",\n        },\n{\n            'v': 40,\n            'f': \"40\",\n        },\n\" United-States\",\n\" <=50K\"],\n [{\n            'v': 34,\n            'f': \"34\",\n        },\n{\n            'v': 28,\n            'f': \"28\",\n        },\n\" Private\",\n{\n            'v': 118861,\n            'f': \"118861\",\n        },\n\" 10th\",\n{\n            'v': 6,\n            'f': \"6\",\n        },\n\" Married-civ-spouse\",\n\" Craft-repair\",\n\" Wife\",\n\" Other\",\n\" Female\",\n{\n            'v': 0,\n            'f': \"0\",\n        },\n{\n            'v': 0,\n            'f': \"0\",\n        },\n{\n            'v': 48,\n            'f': \"48\",\n        },\n\" Guatemala\",\n\" <=50K\"],\n [{\n            'v': 35,\n            'f': \"35\",\n        },\n{\n            'v': 57,\n            'f': \"57\",\n        },\n\" ?\",\n{\n            'v': 334585,\n            'f': \"334585\",\n        },\n\" 10th\",\n{\n            'v': 6,\n            'f': \"6\",\n        },\n\" Married-civ-spouse\",\n\" ?\",\n\" Wife\",\n\" White\",\n\" Female\",\n{\n            'v': 0,\n            'f': \"0\",\n        },\n{\n            'v': 0,\n            'f': \"0\",\n        },\n{\n            'v': 40,\n            'f': \"40\",\n        },\n\" United-States\",\n\" <=50K\"],\n [{\n            'v': 36,\n            'f': \"36\",\n        },\n{\n            'v': 29,\n            'f': \"29\",\n        },\n\" Private\",\n{\n            'v': 253752,\n            'f': \"253752\",\n        },\n\" 10th\",\n{\n            'v': 6,\n            'f': \"6\",\n        },\n\" Married-civ-spouse\",\n\" Farming-fishing\",\n\" Wife\",\n\" White\",\n\" Female\",\n{\n            'v': 0,\n            'f': \"0\",\n        },\n{\n            'v': 0,\n            'f': \"0\",\n        },\n{\n            'v': 40,\n            'f': \"40\",\n        },\n\" United-States\",\n\" <=50K\"],\n [{\n            'v': 37,\n            'f': \"37\",\n        },\n{\n            'v': 37,\n            'f': \"37\",\n        },\n\" Self-emp-not-inc\",\n{\n            'v': 192251,\n            'f': \"192251\",\n        },\n\" 10th\",\n{\n            'v': 6,\n            'f': \"6\",\n        },\n\" Married-civ-spouse\",\n\" Other-service\",\n\" Wife\",\n\" White\",\n\" Female\",\n{\n            'v': 2635,\n            'f': \"2635\",\n        },\n{\n            'v': 0,\n            'f': \"0\",\n        },\n{\n            'v': 40,\n            'f': \"40\",\n        },\n\" United-States\",\n\" <=50K\"],\n [{\n            'v': 38,\n            'f': \"38\",\n        },\n{\n            'v': 32,\n            'f': \"32\",\n        },\n\" Private\",\n{\n            'v': 311764,\n            'f': \"311764\",\n        },\n\" 10th\",\n{\n            'v': 6,\n            'f': \"6\",\n        },\n\" Married-civ-spouse\",\n\" Exec-managerial\",\n\" Wife\",\n\" White\",\n\" Female\",\n{\n            'v': 0,\n            'f': \"0\",\n        },\n{\n            'v': 0,\n            'f': \"0\",\n        },\n{\n            'v': 35,\n            'f': \"35\",\n        },\n\" United-States\",\n\" <=50K\"],\n [{\n            'v': 39,\n            'f': \"39\",\n        },\n{\n            'v': 47,\n            'f': \"47\",\n        },\n\" ?\",\n{\n            'v': 178013,\n            'f': \"178013\",\n        },\n\" 10th\",\n{\n            'v': 6,\n            'f': \"6\",\n        },\n\" Married-civ-spouse\",\n\" ?\",\n\" Wife\",\n\" White\",\n\" Female\",\n{\n            'v': 0,\n            'f': \"0\",\n        },\n{\n            'v': 0,\n            'f': \"0\",\n        },\n{\n            'v': 20,\n            'f': \"20\",\n        },\n\" Cuba\",\n\" <=50K\"],\n [{\n            'v': 40,\n            'f': \"40\",\n        },\n{\n            'v': 32,\n            'f': \"32\",\n        },\n\" ?\",\n{\n            'v': 143162,\n            'f': \"143162\",\n        },\n\" 10th\",\n{\n            'v': 6,\n            'f': \"6\",\n        },\n\" Married-civ-spouse\",\n\" ?\",\n\" Wife\",\n\" White\",\n\" Female\",\n{\n            'v': 0,\n            'f': \"0\",\n        },\n{\n            'v': 0,\n            'f': \"0\",\n        },\n{\n            'v': 40,\n            'f': \"40\",\n        },\n\" United-States\",\n\" <=50K\"],\n [{\n            'v': 41,\n            'f': \"41\",\n        },\n{\n            'v': 81,\n            'f': \"81\",\n        },\n\" Self-emp-inc\",\n{\n            'v': 247232,\n            'f': \"247232\",\n        },\n\" 10th\",\n{\n            'v': 6,\n            'f': \"6\",\n        },\n\" Married-civ-spouse\",\n\" Exec-managerial\",\n\" Wife\",\n\" White\",\n\" Female\",\n{\n            'v': 2936,\n            'f': \"2936\",\n        },\n{\n            'v': 0,\n            'f': \"0\",\n        },\n{\n            'v': 28,\n            'f': \"28\",\n        },\n\" United-States\",\n\" <=50K\"],\n [{\n            'v': 42,\n            'f': \"42\",\n        },\n{\n            'v': 55,\n            'f': \"55\",\n        },\n\" Private\",\n{\n            'v': 205422,\n            'f': \"205422\",\n        },\n\" 10th\",\n{\n            'v': 6,\n            'f': \"6\",\n        },\n\" Married-civ-spouse\",\n\" Other-service\",\n\" Wife\",\n\" Black\",\n\" Female\",\n{\n            'v': 0,\n            'f': \"0\",\n        },\n{\n            'v': 0,\n            'f': \"0\",\n        },\n{\n            'v': 40,\n            'f': \"40\",\n        },\n\" United-States\",\n\" <=50K\"],\n [{\n            'v': 43,\n            'f': \"43\",\n        },\n{\n            'v': 58,\n            'f': \"58\",\n        },\n\" Self-emp-not-inc\",\n{\n            'v': 147653,\n            'f': \"147653\",\n        },\n\" 10th\",\n{\n            'v': 6,\n            'f': \"6\",\n        },\n\" Married-civ-spouse\",\n\" Craft-repair\",\n\" Wife\",\n\" White\",\n\" Female\",\n{\n            'v': 0,\n            'f': \"0\",\n        },\n{\n            'v': 1977,\n            'f': \"1977\",\n        },\n{\n            'v': 35,\n            'f': \"35\",\n        },\n\" ?\",\n\" >50K\"],\n [{\n            'v': 44,\n            'f': \"44\",\n        },\n{\n            'v': 56,\n            'f': \"56\",\n        },\n\" Private\",\n{\n            'v': 99894,\n            'f': \"99894\",\n        },\n\" 10th\",\n{\n            'v': 6,\n            'f': \"6\",\n        },\n\" Married-civ-spouse\",\n\" Sales\",\n\" Wife\",\n\" Asian-Pac-Islander\",\n\" Female\",\n{\n            'v': 0,\n            'f': \"0\",\n        },\n{\n            'v': 0,\n            'f': \"0\",\n        },\n{\n            'v': 30,\n            'f': \"30\",\n        },\n\" Japan\",\n\" >50K\"],\n [{\n            'v': 45,\n            'f': \"45\",\n        },\n{\n            'v': 48,\n            'f': \"48\",\n        },\n\" ?\",\n{\n            'v': 112860,\n            'f': \"112860\",\n        },\n\" 10th\",\n{\n            'v': 6,\n            'f': \"6\",\n        },\n\" Married-civ-spouse\",\n\" ?\",\n\" Wife\",\n\" Black\",\n\" Female\",\n{\n            'v': 0,\n            'f': \"0\",\n        },\n{\n            'v': 0,\n            'f': \"0\",\n        },\n{\n            'v': 35,\n            'f': \"35\",\n        },\n\" United-States\",\n\" <=50K\"],\n [{\n            'v': 46,\n            'f': \"46\",\n        },\n{\n            'v': 59,\n            'f': \"59\",\n        },\n\" Self-emp-not-inc\",\n{\n            'v': 119344,\n            'f': \"119344\",\n        },\n\" 10th\",\n{\n            'v': 6,\n            'f': \"6\",\n        },\n\" Married-civ-spouse\",\n\" Exec-managerial\",\n\" Wife\",\n\" White\",\n\" Female\",\n{\n            'v': 0,\n            'f': \"0\",\n        },\n{\n            'v': 0,\n            'f': \"0\",\n        },\n{\n            'v': 36,\n            'f': \"36\",\n        },\n\" United-States\",\n\" <=50K\"],\n [{\n            'v': 47,\n            'f': \"47\",\n        },\n{\n            'v': 22,\n            'f': \"22\",\n        },\n\" Private\",\n{\n            'v': 134746,\n            'f': \"134746\",\n        },\n\" 10th\",\n{\n            'v': 6,\n            'f': \"6\",\n        },\n\" Married-civ-spouse\",\n\" Sales\",\n\" Wife\",\n\" White\",\n\" Female\",\n{\n            'v': 0,\n            'f': \"0\",\n        },\n{\n            'v': 0,\n            'f': \"0\",\n        },\n{\n            'v': 40,\n            'f': \"40\",\n        },\n\" United-States\",\n\" <=50K\"],\n [{\n            'v': 48,\n            'f': \"48\",\n        },\n{\n            'v': 25,\n            'f': \"25\",\n        },\n\" Private\",\n{\n            'v': 47353,\n            'f': \"47353\",\n        },\n\" 10th\",\n{\n            'v': 6,\n            'f': \"6\",\n        },\n\" Married-civ-spouse\",\n\" Other-service\",\n\" Wife\",\n\" White\",\n\" Female\",\n{\n            'v': 0,\n            'f': \"0\",\n        },\n{\n            'v': 0,\n            'f': \"0\",\n        },\n{\n            'v': 40,\n            'f': \"40\",\n        },\n\" United-States\",\n\" <=50K\"],\n [{\n            'v': 49,\n            'f': \"49\",\n        },\n{\n            'v': 28,\n            'f': \"28\",\n        },\n\" Federal-gov\",\n{\n            'v': 24153,\n            'f': \"24153\",\n        },\n\" 10th\",\n{\n            'v': 6,\n            'f': \"6\",\n        },\n\" Married-civ-spouse\",\n\" Other-service\",\n\" Wife\",\n\" Amer-Indian-Eskimo\",\n\" Female\",\n{\n            'v': 0,\n            'f': \"0\",\n        },\n{\n            'v': 0,\n            'f': \"0\",\n        },\n{\n            'v': 40,\n            'f': \"40\",\n        },\n\" United-States\",\n\" <=50K\"],\n [{\n            'v': 50,\n            'f': \"50\",\n        },\n{\n            'v': 34,\n            'f': \"34\",\n        },\n\" ?\",\n{\n            'v': 164309,\n            'f': \"164309\",\n        },\n\" 11th\",\n{\n            'v': 7,\n            'f': \"7\",\n        },\n\" Married-civ-spouse\",\n\" ?\",\n\" Wife\",\n\" White\",\n\" Female\",\n{\n            'v': 0,\n            'f': \"0\",\n        },\n{\n            'v': 0,\n            'f': \"0\",\n        },\n{\n            'v': 8,\n            'f': \"8\",\n        },\n\" United-States\",\n\" <=50K\"],\n [{\n            'v': 51,\n            'f': \"51\",\n        },\n{\n            'v': 45,\n            'f': \"45\",\n        },\n\" Private\",\n{\n            'v': 98881,\n            'f': \"98881\",\n        },\n\" 11th\",\n{\n            'v': 7,\n            'f': \"7\",\n        },\n\" Married-civ-spouse\",\n\" Other-service\",\n\" Wife\",\n\" White\",\n\" Female\",\n{\n            'v': 0,\n            'f': \"0\",\n        },\n{\n            'v': 0,\n            'f': \"0\",\n        },\n{\n            'v': 32,\n            'f': \"32\",\n        },\n\" United-States\",\n\" <=50K\"],\n [{\n            'v': 52,\n            'f': \"52\",\n        },\n{\n            'v': 42,\n            'f': \"42\",\n        },\n\" Private\",\n{\n            'v': 250121,\n            'f': \"250121\",\n        },\n\" 11th\",\n{\n            'v': 7,\n            'f': \"7\",\n        },\n\" Married-civ-spouse\",\n\" Other-service\",\n\" Wife\",\n\" White\",\n\" Female\",\n{\n            'v': 0,\n            'f': \"0\",\n        },\n{\n            'v': 0,\n            'f': \"0\",\n        },\n{\n            'v': 40,\n            'f': \"40\",\n        },\n\" United-States\",\n\" <=50K\"],\n [{\n            'v': 53,\n            'f': \"53\",\n        },\n{\n            'v': 47,\n            'f': \"47\",\n        },\n\" Private\",\n{\n            'v': 239439,\n            'f': \"239439\",\n        },\n\" 11th\",\n{\n            'v': 7,\n            'f': \"7\",\n        },\n\" Married-civ-spouse\",\n\" Machine-op-inspct\",\n\" Wife\",\n\" Black\",\n\" Female\",\n{\n            'v': 0,\n            'f': \"0\",\n        },\n{\n            'v': 0,\n            'f': \"0\",\n        },\n{\n            'v': 40,\n            'f': \"40\",\n        },\n\" United-States\",\n\" <=50K\"],\n [{\n            'v': 54,\n            'f': \"54\",\n        },\n{\n            'v': 32,\n            'f': \"32\",\n        },\n\" Private\",\n{\n            'v': 199963,\n            'f': \"199963\",\n        },\n\" 11th\",\n{\n            'v': 7,\n            'f': \"7\",\n        },\n\" Married-civ-spouse\",\n\" Machine-op-inspct\",\n\" Wife\",\n\" White\",\n\" Female\",\n{\n            'v': 0,\n            'f': \"0\",\n        },\n{\n            'v': 0,\n            'f': \"0\",\n        },\n{\n            'v': 40,\n            'f': \"40\",\n        },\n\" United-States\",\n\" <=50K\"],\n [{\n            'v': 55,\n            'f': \"55\",\n        },\n{\n            'v': 59,\n            'f': \"59\",\n        },\n\" Private\",\n{\n            'v': 191965,\n            'f': \"191965\",\n        },\n\" 11th\",\n{\n            'v': 7,\n            'f': \"7\",\n        },\n\" Married-civ-spouse\",\n\" Other-service\",\n\" Wife\",\n\" White\",\n\" Female\",\n{\n            'v': 3908,\n            'f': \"3908\",\n        },\n{\n            'v': 0,\n            'f': \"0\",\n        },\n{\n            'v': 28,\n            'f': \"28\",\n        },\n\" United-States\",\n\" <=50K\"],\n [{\n            'v': 56,\n            'f': \"56\",\n        },\n{\n            'v': 60,\n            'f': \"60\",\n        },\n\" Private\",\n{\n            'v': 166386,\n            'f': \"166386\",\n        },\n\" 11th\",\n{\n            'v': 7,\n            'f': \"7\",\n        },\n\" Married-civ-spouse\",\n\" Machine-op-inspct\",\n\" Wife\",\n\" Asian-Pac-Islander\",\n\" Female\",\n{\n            'v': 0,\n            'f': \"0\",\n        },\n{\n            'v': 0,\n            'f': \"0\",\n        },\n{\n            'v': 30,\n            'f': \"30\",\n        },\n\" Hong\",\n\" <=50K\"],\n [{\n            'v': 57,\n            'f': \"57\",\n        },\n{\n            'v': 43,\n            'f': \"43\",\n        },\n\" Private\",\n{\n            'v': 167599,\n            'f': \"167599\",\n        },\n\" 11th\",\n{\n            'v': 7,\n            'f': \"7\",\n        },\n\" Married-civ-spouse\",\n\" Handlers-cleaners\",\n\" Wife\",\n\" White\",\n\" Female\",\n{\n            'v': 0,\n            'f': \"0\",\n        },\n{\n            'v': 0,\n            'f': \"0\",\n        },\n{\n            'v': 25,\n            'f': \"25\",\n        },\n\" United-States\",\n\" <=50K\"],\n [{\n            'v': 58,\n            'f': \"58\",\n        },\n{\n            'v': 54,\n            'f': \"54\",\n        },\n\" Private\",\n{\n            'v': 29909,\n            'f': \"29909\",\n        },\n\" 11th\",\n{\n            'v': 7,\n            'f': \"7\",\n        },\n\" Married-civ-spouse\",\n\" Other-service\",\n\" Wife\",\n\" White\",\n\" Female\",\n{\n            'v': 0,\n            'f': \"0\",\n        },\n{\n            'v': 0,\n            'f': \"0\",\n        },\n{\n            'v': 43,\n            'f': \"43\",\n        },\n\" United-States\",\n\" <=50K\"],\n [{\n            'v': 59,\n            'f': \"59\",\n        },\n{\n            'v': 21,\n            'f': \"21\",\n        },\n\" ?\",\n{\n            'v': 206681,\n            'f': \"206681\",\n        },\n\" 11th\",\n{\n            'v': 7,\n            'f': \"7\",\n        },\n\" Married-civ-spouse\",\n\" ?\",\n\" Wife\",\n\" White\",\n\" Female\",\n{\n            'v': 0,\n            'f': \"0\",\n        },\n{\n            'v': 0,\n            'f': \"0\",\n        },\n{\n            'v': 40,\n            'f': \"40\",\n        },\n\" United-States\",\n\" <=50K\"],\n [{\n            'v': 60,\n            'f': \"60\",\n        },\n{\n            'v': 49,\n            'f': \"49\",\n        },\n\" Private\",\n{\n            'v': 194962,\n            'f': \"194962\",\n        },\n\" 11th\",\n{\n            'v': 7,\n            'f': \"7\",\n        },\n\" Married-civ-spouse\",\n\" Other-service\",\n\" Wife\",\n\" White\",\n\" Female\",\n{\n            'v': 0,\n            'f': \"0\",\n        },\n{\n            'v': 0,\n            'f': \"0\",\n        },\n{\n            'v': 6,\n            'f': \"6\",\n        },\n\" United-States\",\n\" <=50K\"],\n [{\n            'v': 61,\n            'f': \"61\",\n        },\n{\n            'v': 19,\n            'f': \"19\",\n        },\n\" ?\",\n{\n            'v': 109938,\n            'f': \"109938\",\n        },\n\" 11th\",\n{\n            'v': 7,\n            'f': \"7\",\n        },\n\" Married-civ-spouse\",\n\" ?\",\n\" Wife\",\n\" Asian-Pac-Islander\",\n\" Female\",\n{\n            'v': 0,\n            'f': \"0\",\n        },\n{\n            'v': 0,\n            'f': \"0\",\n        },\n{\n            'v': 40,\n            'f': \"40\",\n        },\n\" Laos\",\n\" <=50K\"],\n [{\n            'v': 62,\n            'f': \"62\",\n        },\n{\n            'v': 56,\n            'f': \"56\",\n        },\n\" Self-emp-not-inc\",\n{\n            'v': 51662,\n            'f': \"51662\",\n        },\n\" 11th\",\n{\n            'v': 7,\n            'f': \"7\",\n        },\n\" Married-civ-spouse\",\n\" Other-service\",\n\" Wife\",\n\" White\",\n\" Female\",\n{\n            'v': 0,\n            'f': \"0\",\n        },\n{\n            'v': 0,\n            'f': \"0\",\n        },\n{\n            'v': 40,\n            'f': \"40\",\n        },\n\" United-States\",\n\" <=50K\"],\n [{\n            'v': 63,\n            'f': \"63\",\n        },\n{\n            'v': 44,\n            'f': \"44\",\n        },\n\" Private\",\n{\n            'v': 175669,\n            'f': \"175669\",\n        },\n\" 11th\",\n{\n            'v': 7,\n            'f': \"7\",\n        },\n\" Married-civ-spouse\",\n\" Prof-specialty\",\n\" Wife\",\n\" White\",\n\" Female\",\n{\n            'v': 5178,\n            'f': \"5178\",\n        },\n{\n            'v': 0,\n            'f': \"0\",\n        },\n{\n            'v': 36,\n            'f': \"36\",\n        },\n\" United-States\",\n\" >50K\"],\n [{\n            'v': 64,\n            'f': \"64\",\n        },\n{\n            'v': 35,\n            'f': \"35\",\n        },\n\" Private\",\n{\n            'v': 90406,\n            'f': \"90406\",\n        },\n\" 11th\",\n{\n            'v': 7,\n            'f': \"7\",\n        },\n\" Married-civ-spouse\",\n\" Sales\",\n\" Wife\",\n\" White\",\n\" Female\",\n{\n            'v': 0,\n            'f': \"0\",\n        },\n{\n            'v': 0,\n            'f': \"0\",\n        },\n{\n            'v': 40,\n            'f': \"40\",\n        },\n\" United-States\",\n\" <=50K\"],\n [{\n            'v': 65,\n            'f': \"65\",\n        },\n{\n            'v': 48,\n            'f': \"48\",\n        },\n\" Private\",\n{\n            'v': 47686,\n            'f': \"47686\",\n        },\n\" 11th\",\n{\n            'v': 7,\n            'f': \"7\",\n        },\n\" Married-civ-spouse\",\n\" Other-service\",\n\" Wife\",\n\" White\",\n\" Female\",\n{\n            'v': 0,\n            'f': \"0\",\n        },\n{\n            'v': 0,\n            'f': \"0\",\n        },\n{\n            'v': 40,\n            'f': \"40\",\n        },\n\" United-States\",\n\" <=50K\"],\n [{\n            'v': 66,\n            'f': \"66\",\n        },\n{\n            'v': 28,\n            'f': \"28\",\n        },\n\" Private\",\n{\n            'v': 177955,\n            'f': \"177955\",\n        },\n\" 11th\",\n{\n            'v': 7,\n            'f': \"7\",\n        },\n\" Married-civ-spouse\",\n\" Adm-clerical\",\n\" Wife\",\n\" White\",\n\" Female\",\n{\n            'v': 0,\n            'f': \"0\",\n        },\n{\n            'v': 0,\n            'f': \"0\",\n        },\n{\n            'v': 40,\n            'f': \"40\",\n        },\n\" Mexico\",\n\" <=50K\"],\n [{\n            'v': 67,\n            'f': \"67\",\n        },\n{\n            'v': 38,\n            'f': \"38\",\n        },\n\" Private\",\n{\n            'v': 205359,\n            'f': \"205359\",\n        },\n\" 11th\",\n{\n            'v': 7,\n            'f': \"7\",\n        },\n\" Married-civ-spouse\",\n\" Adm-clerical\",\n\" Wife\",\n\" White\",\n\" Female\",\n{\n            'v': 0,\n            'f': \"0\",\n        },\n{\n            'v': 0,\n            'f': \"0\",\n        },\n{\n            'v': 32,\n            'f': \"32\",\n        },\n\" United-States\",\n\" <=50K\"],\n [{\n            'v': 68,\n            'f': \"68\",\n        },\n{\n            'v': 24,\n            'f': \"24\",\n        },\n\" ?\",\n{\n            'v': 174182,\n            'f': \"174182\",\n        },\n\" 11th\",\n{\n            'v': 7,\n            'f': \"7\",\n        },\n\" Married-civ-spouse\",\n\" ?\",\n\" Wife\",\n\" Other\",\n\" Female\",\n{\n            'v': 0,\n            'f': \"0\",\n        },\n{\n            'v': 0,\n            'f': \"0\",\n        },\n{\n            'v': 24,\n            'f': \"24\",\n        },\n\" United-States\",\n\" <=50K\"],\n [{\n            'v': 69,\n            'f': \"69\",\n        },\n{\n            'v': 45,\n            'f': \"45\",\n        },\n\" Local-gov\",\n{\n            'v': 53123,\n            'f': \"53123\",\n        },\n\" 11th\",\n{\n            'v': 7,\n            'f': \"7\",\n        },\n\" Married-civ-spouse\",\n\" Other-service\",\n\" Wife\",\n\" White\",\n\" Female\",\n{\n            'v': 0,\n            'f': \"0\",\n        },\n{\n            'v': 0,\n            'f': \"0\",\n        },\n{\n            'v': 25,\n            'f': \"25\",\n        },\n\" United-States\",\n\" <=50K\"],\n [{\n            'v': 70,\n            'f': \"70\",\n        },\n{\n            'v': 46,\n            'f': \"46\",\n        },\n\" Private\",\n{\n            'v': 100067,\n            'f': \"100067\",\n        },\n\" 11th\",\n{\n            'v': 7,\n            'f': \"7\",\n        },\n\" Married-civ-spouse\",\n\" Other-service\",\n\" Wife\",\n\" Black\",\n\" Female\",\n{\n            'v': 0,\n            'f': \"0\",\n        },\n{\n            'v': 0,\n            'f': \"0\",\n        },\n{\n            'v': 35,\n            'f': \"35\",\n        },\n\" United-States\",\n\" >50K\"],\n [{\n            'v': 71,\n            'f': \"71\",\n        },\n{\n            'v': 29,\n            'f': \"29\",\n        },\n\" Self-emp-not-inc\",\n{\n            'v': 85572,\n            'f': \"85572\",\n        },\n\" 11th\",\n{\n            'v': 7,\n            'f': \"7\",\n        },\n\" Married-civ-spouse\",\n\" Other-service\",\n\" Wife\",\n\" White\",\n\" Female\",\n{\n            'v': 0,\n            'f': \"0\",\n        },\n{\n            'v': 0,\n            'f': \"0\",\n        },\n{\n            'v': 5,\n            'f': \"5\",\n        },\n\" United-States\",\n\" <=50K\"],\n [{\n            'v': 72,\n            'f': \"72\",\n        },\n{\n            'v': 49,\n            'f': \"49\",\n        },\n\" Private\",\n{\n            'v': 304416,\n            'f': \"304416\",\n        },\n\" 11th\",\n{\n            'v': 7,\n            'f': \"7\",\n        },\n\" Married-civ-spouse\",\n\" Sales\",\n\" Wife\",\n\" White\",\n\" Female\",\n{\n            'v': 0,\n            'f': \"0\",\n        },\n{\n            'v': 0,\n            'f': \"0\",\n        },\n{\n            'v': 40,\n            'f': \"40\",\n        },\n\" United-States\",\n\" <=50K\"],\n [{\n            'v': 73,\n            'f': \"73\",\n        },\n{\n            'v': 32,\n            'f': \"32\",\n        },\n\" Private\",\n{\n            'v': 115989,\n            'f': \"115989\",\n        },\n\" 11th\",\n{\n            'v': 7,\n            'f': \"7\",\n        },\n\" Married-civ-spouse\",\n\" Other-service\",\n\" Wife\",\n\" White\",\n\" Female\",\n{\n            'v': 0,\n            'f': \"0\",\n        },\n{\n            'v': 0,\n            'f': \"0\",\n        },\n{\n            'v': 60,\n            'f': \"60\",\n        },\n\" United-States\",\n\" <=50K\"],\n [{\n            'v': 74,\n            'f': \"74\",\n        },\n{\n            'v': 22,\n            'f': \"22\",\n        },\n\" Private\",\n{\n            'v': 190903,\n            'f': \"190903\",\n        },\n\" 11th\",\n{\n            'v': 7,\n            'f': \"7\",\n        },\n\" Married-civ-spouse\",\n\" Adm-clerical\",\n\" Wife\",\n\" White\",\n\" Female\",\n{\n            'v': 0,\n            'f': \"0\",\n        },\n{\n            'v': 0,\n            'f': \"0\",\n        },\n{\n            'v': 20,\n            'f': \"20\",\n        },\n\" United-States\",\n\" <=50K\"],\n [{\n            'v': 75,\n            'f': \"75\",\n        },\n{\n            'v': 45,\n            'f': \"45\",\n        },\n\" Private\",\n{\n            'v': 45857,\n            'f': \"45857\",\n        },\n\" 11th\",\n{\n            'v': 7,\n            'f': \"7\",\n        },\n\" Married-civ-spouse\",\n\" Other-service\",\n\" Wife\",\n\" White\",\n\" Female\",\n{\n            'v': 0,\n            'f': \"0\",\n        },\n{\n            'v': 0,\n            'f': \"0\",\n        },\n{\n            'v': 36,\n            'f': \"36\",\n        },\n\" United-States\",\n\" <=50K\"],\n [{\n            'v': 76,\n            'f': \"76\",\n        },\n{\n            'v': 29,\n            'f': \"29\",\n        },\n\" Private\",\n{\n            'v': 157308,\n            'f': \"157308\",\n        },\n\" 11th\",\n{\n            'v': 7,\n            'f': \"7\",\n        },\n\" Married-civ-spouse\",\n\" Handlers-cleaners\",\n\" Wife\",\n\" Asian-Pac-Islander\",\n\" Female\",\n{\n            'v': 2829,\n            'f': \"2829\",\n        },\n{\n            'v': 0,\n            'f': \"0\",\n        },\n{\n            'v': 14,\n            'f': \"14\",\n        },\n\" Philippines\",\n\" <=50K\"],\n [{\n            'v': 77,\n            'f': \"77\",\n        },\n{\n            'v': 21,\n            'f': \"21\",\n        },\n\" ?\",\n{\n            'v': 212888,\n            'f': \"212888\",\n        },\n\" 11th\",\n{\n            'v': 7,\n            'f': \"7\",\n        },\n\" Married-civ-spouse\",\n\" ?\",\n\" Wife\",\n\" White\",\n\" Female\",\n{\n            'v': 0,\n            'f': \"0\",\n        },\n{\n            'v': 0,\n            'f': \"0\",\n        },\n{\n            'v': 56,\n            'f': \"56\",\n        },\n\" United-States\",\n\" <=50K\"],\n [{\n            'v': 78,\n            'f': \"78\",\n        },\n{\n            'v': 30,\n            'f': \"30\",\n        },\n\" Private\",\n{\n            'v': 311696,\n            'f': \"311696\",\n        },\n\" 11th\",\n{\n            'v': 7,\n            'f': \"7\",\n        },\n\" Married-civ-spouse\",\n\" Other-service\",\n\" Wife\",\n\" Black\",\n\" Female\",\n{\n            'v': 0,\n            'f': \"0\",\n        },\n{\n            'v': 0,\n            'f': \"0\",\n        },\n{\n            'v': 30,\n            'f': \"30\",\n        },\n\" United-States\",\n\" <=50K\"],\n [{\n            'v': 79,\n            'f': \"79\",\n        },\n{\n            'v': 54,\n            'f': \"54\",\n        },\n\" Private\",\n{\n            'v': 154949,\n            'f': \"154949\",\n        },\n\" 11th\",\n{\n            'v': 7,\n            'f': \"7\",\n        },\n\" Married-civ-spouse\",\n\" Other-service\",\n\" Wife\",\n\" Black\",\n\" Female\",\n{\n            'v': 0,\n            'f': \"0\",\n        },\n{\n            'v': 0,\n            'f': \"0\",\n        },\n{\n            'v': 40,\n            'f': \"40\",\n        },\n\" United-States\",\n\" >50K\"],\n [{\n            'v': 80,\n            'f': \"80\",\n        },\n{\n            'v': 25,\n            'f': \"25\",\n        },\n\" Private\",\n{\n            'v': 374918,\n            'f': \"374918\",\n        },\n\" 12th\",\n{\n            'v': 8,\n            'f': \"8\",\n        },\n\" Married-civ-spouse\",\n\" Other-service\",\n\" Wife\",\n\" White\",\n\" Female\",\n{\n            'v': 0,\n            'f': \"0\",\n        },\n{\n            'v': 0,\n            'f': \"0\",\n        },\n{\n            'v': 40,\n            'f': \"40\",\n        },\n\" United-States\",\n\" <=50K\"],\n [{\n            'v': 81,\n            'f': \"81\",\n        },\n{\n            'v': 35,\n            'f': \"35\",\n        },\n\" Private\",\n{\n            'v': 48123,\n            'f': \"48123\",\n        },\n\" 12th\",\n{\n            'v': 8,\n            'f': \"8\",\n        },\n\" Married-civ-spouse\",\n\" Craft-repair\",\n\" Wife\",\n\" White\",\n\" Female\",\n{\n            'v': 0,\n            'f': \"0\",\n        },\n{\n            'v': 0,\n            'f': \"0\",\n        },\n{\n            'v': 50,\n            'f': \"50\",\n        },\n\" United-States\",\n\" <=50K\"],\n [{\n            'v': 82,\n            'f': \"82\",\n        },\n{\n            'v': 41,\n            'f': \"41\",\n        },\n\" Private\",\n{\n            'v': 82319,\n            'f': \"82319\",\n        },\n\" 12th\",\n{\n            'v': 8,\n            'f': \"8\",\n        },\n\" Married-civ-spouse\",\n\" Other-service\",\n\" Wife\",\n\" White\",\n\" Female\",\n{\n            'v': 0,\n            'f': \"0\",\n        },\n{\n            'v': 0,\n            'f': \"0\",\n        },\n{\n            'v': 10,\n            'f': \"10\",\n        },\n\" United-States\",\n\" <=50K\"],\n [{\n            'v': 83,\n            'f': \"83\",\n        },\n{\n            'v': 58,\n            'f': \"58\",\n        },\n\" Private\",\n{\n            'v': 94741,\n            'f': \"94741\",\n        },\n\" 12th\",\n{\n            'v': 8,\n            'f': \"8\",\n        },\n\" Married-civ-spouse\",\n\" Other-service\",\n\" Wife\",\n\" White\",\n\" Female\",\n{\n            'v': 0,\n            'f': \"0\",\n        },\n{\n            'v': 0,\n            'f': \"0\",\n        },\n{\n            'v': 24,\n            'f': \"24\",\n        },\n\" United-States\",\n\" <=50K\"],\n [{\n            'v': 84,\n            'f': \"84\",\n        },\n{\n            'v': 37,\n            'f': \"37\",\n        },\n\" Private\",\n{\n            'v': 130620,\n            'f': \"130620\",\n        },\n\" 12th\",\n{\n            'v': 8,\n            'f': \"8\",\n        },\n\" Married-civ-spouse\",\n\" Sales\",\n\" Wife\",\n\" Asian-Pac-Islander\",\n\" Female\",\n{\n            'v': 0,\n            'f': \"0\",\n        },\n{\n            'v': 0,\n            'f': \"0\",\n        },\n{\n            'v': 33,\n            'f': \"33\",\n        },\n\" ?\",\n\" <=50K\"],\n [{\n            'v': 85,\n            'f': \"85\",\n        },\n{\n            'v': 31,\n            'f': \"31\",\n        },\n\" State-gov\",\n{\n            'v': 29152,\n            'f': \"29152\",\n        },\n\" 12th\",\n{\n            'v': 8,\n            'f': \"8\",\n        },\n\" Married-civ-spouse\",\n\" Other-service\",\n\" Wife\",\n\" White\",\n\" Female\",\n{\n            'v': 0,\n            'f': \"0\",\n        },\n{\n            'v': 0,\n            'f': \"0\",\n        },\n{\n            'v': 40,\n            'f': \"40\",\n        },\n\" United-States\",\n\" <=50K\"],\n [{\n            'v': 86,\n            'f': \"86\",\n        },\n{\n            'v': 53,\n            'f': \"53\",\n        },\n\" Private\",\n{\n            'v': 81794,\n            'f': \"81794\",\n        },\n\" 12th\",\n{\n            'v': 8,\n            'f': \"8\",\n        },\n\" Married-civ-spouse\",\n\" Adm-clerical\",\n\" Wife\",\n\" White\",\n\" Female\",\n{\n            'v': 0,\n            'f': \"0\",\n        },\n{\n            'v': 0,\n            'f': \"0\",\n        },\n{\n            'v': 40,\n            'f': \"40\",\n        },\n\" United-States\",\n\" <=50K\"],\n [{\n            'v': 87,\n            'f': \"87\",\n        },\n{\n            'v': 61,\n            'f': \"61\",\n        },\n\" Private\",\n{\n            'v': 122246,\n            'f': \"122246\",\n        },\n\" 12th\",\n{\n            'v': 8,\n            'f': \"8\",\n        },\n\" Married-civ-spouse\",\n\" Other-service\",\n\" Wife\",\n\" White\",\n\" Female\",\n{\n            'v': 0,\n            'f': \"0\",\n        },\n{\n            'v': 0,\n            'f': \"0\",\n        },\n{\n            'v': 40,\n            'f': \"40\",\n        },\n\" United-States\",\n\" <=50K\"],\n [{\n            'v': 88,\n            'f': \"88\",\n        },\n{\n            'v': 31,\n            'f': \"31\",\n        },\n\" State-gov\",\n{\n            'v': 350651,\n            'f': \"350651\",\n        },\n\" 12th\",\n{\n            'v': 8,\n            'f': \"8\",\n        },\n\" Married-civ-spouse\",\n\" Tech-support\",\n\" Wife\",\n\" White\",\n\" Female\",\n{\n            'v': 0,\n            'f': \"0\",\n        },\n{\n            'v': 0,\n            'f': \"0\",\n        },\n{\n            'v': 40,\n            'f': \"40\",\n        },\n\" United-States\",\n\" >50K\"],\n [{\n            'v': 89,\n            'f': \"89\",\n        },\n{\n            'v': 21,\n            'f': \"21\",\n        },\n\" Self-emp-not-inc\",\n{\n            'v': 103277,\n            'f': \"103277\",\n        },\n\" 12th\",\n{\n            'v': 8,\n            'f': \"8\",\n        },\n\" Married-civ-spouse\",\n\" Adm-clerical\",\n\" Wife\",\n\" White\",\n\" Female\",\n{\n            'v': 4508,\n            'f': \"4508\",\n        },\n{\n            'v': 0,\n            'f': \"0\",\n        },\n{\n            'v': 30,\n            'f': \"30\",\n        },\n\" Portugal\",\n\" <=50K\"],\n [{\n            'v': 90,\n            'f': \"90\",\n        },\n{\n            'v': 26,\n            'f': \"26\",\n        },\n\" Private\",\n{\n            'v': 39014,\n            'f': \"39014\",\n        },\n\" 12th\",\n{\n            'v': 8,\n            'f': \"8\",\n        },\n\" Married-civ-spouse\",\n\" Priv-house-serv\",\n\" Wife\",\n\" Other\",\n\" Female\",\n{\n            'v': 0,\n            'f': \"0\",\n        },\n{\n            'v': 0,\n            'f': \"0\",\n        },\n{\n            'v': 40,\n            'f': \"40\",\n        },\n\" Dominican-Republic\",\n\" <=50K\"],\n [{\n            'v': 91,\n            'f': \"91\",\n        },\n{\n            'v': 31,\n            'f': \"31\",\n        },\n\" Self-emp-not-inc\",\n{\n            'v': 162551,\n            'f': \"162551\",\n        },\n\" 12th\",\n{\n            'v': 8,\n            'f': \"8\",\n        },\n\" Married-civ-spouse\",\n\" Sales\",\n\" Wife\",\n\" Asian-Pac-Islander\",\n\" Female\",\n{\n            'v': 0,\n            'f': \"0\",\n        },\n{\n            'v': 0,\n            'f': \"0\",\n        },\n{\n            'v': 50,\n            'f': \"50\",\n        },\n\" ?\",\n\" <=50K\"],\n [{\n            'v': 92,\n            'f': \"92\",\n        },\n{\n            'v': 33,\n            'f': \"33\",\n        },\n\" Private\",\n{\n            'v': 520033,\n            'f': \"520033\",\n        },\n\" 12th\",\n{\n            'v': 8,\n            'f': \"8\",\n        },\n\" Married-civ-spouse\",\n\" Adm-clerical\",\n\" Wife\",\n\" White\",\n\" Female\",\n{\n            'v': 0,\n            'f': \"0\",\n        },\n{\n            'v': 0,\n            'f': \"0\",\n        },\n{\n            'v': 40,\n            'f': \"40\",\n        },\n\" United-States\",\n\" <=50K\"],\n [{\n            'v': 93,\n            'f': \"93\",\n        },\n{\n            'v': 28,\n            'f': \"28\",\n        },\n\" ?\",\n{\n            'v': 131310,\n            'f': \"131310\",\n        },\n\" 12th\",\n{\n            'v': 8,\n            'f': \"8\",\n        },\n\" Married-civ-spouse\",\n\" ?\",\n\" Wife\",\n\" White\",\n\" Female\",\n{\n            'v': 0,\n            'f': \"0\",\n        },\n{\n            'v': 0,\n            'f': \"0\",\n        },\n{\n            'v': 20,\n            'f': \"20\",\n        },\n\" Germany\",\n\" <=50K\"],\n [{\n            'v': 94,\n            'f': \"94\",\n        },\n{\n            'v': 45,\n            'f': \"45\",\n        },\n\" Private\",\n{\n            'v': 168598,\n            'f': \"168598\",\n        },\n\" 12th\",\n{\n            'v': 8,\n            'f': \"8\",\n        },\n\" Married-civ-spouse\",\n\" Adm-clerical\",\n\" Wife\",\n\" Black\",\n\" Female\",\n{\n            'v': 3103,\n            'f': \"3103\",\n        },\n{\n            'v': 0,\n            'f': \"0\",\n        },\n{\n            'v': 40,\n            'f': \"40\",\n        },\n\" United-States\",\n\" >50K\"],\n [{\n            'v': 95,\n            'f': \"95\",\n        },\n{\n            'v': 30,\n            'f': \"30\",\n        },\n\" Local-gov\",\n{\n            'v': 48542,\n            'f': \"48542\",\n        },\n\" 12th\",\n{\n            'v': 8,\n            'f': \"8\",\n        },\n\" Married-civ-spouse\",\n\" Adm-clerical\",\n\" Wife\",\n\" White\",\n\" Female\",\n{\n            'v': 0,\n            'f': \"0\",\n        },\n{\n            'v': 0,\n            'f': \"0\",\n        },\n{\n            'v': 40,\n            'f': \"40\",\n        },\n\" United-States\",\n\" <=50K\"],\n [{\n            'v': 96,\n            'f': \"96\",\n        },\n{\n            'v': 53,\n            'f': \"53\",\n        },\n\" ?\",\n{\n            'v': 155233,\n            'f': \"155233\",\n        },\n\" 12th\",\n{\n            'v': 8,\n            'f': \"8\",\n        },\n\" Married-civ-spouse\",\n\" ?\",\n\" Wife\",\n\" White\",\n\" Female\",\n{\n            'v': 0,\n            'f': \"0\",\n        },\n{\n            'v': 0,\n            'f': \"0\",\n        },\n{\n            'v': 40,\n            'f': \"40\",\n        },\n\" Italy\",\n\" <=50K\"],\n [{\n            'v': 97,\n            'f': \"97\",\n        },\n{\n            'v': 52,\n            'f': \"52\",\n        },\n\" ?\",\n{\n            'v': 89951,\n            'f': \"89951\",\n        },\n\" 12th\",\n{\n            'v': 8,\n            'f': \"8\",\n        },\n\" Married-civ-spouse\",\n\" ?\",\n\" Wife\",\n\" Black\",\n\" Female\",\n{\n            'v': 0,\n            'f': \"0\",\n        },\n{\n            'v': 0,\n            'f': \"0\",\n        },\n{\n            'v': 40,\n            'f': \"40\",\n        },\n\" United-States\",\n\" >50K\"],\n [{\n            'v': 98,\n            'f': \"98\",\n        },\n{\n            'v': 45,\n            'f': \"45\",\n        },\n\" Private\",\n{\n            'v': 81400,\n            'f': \"81400\",\n        },\n\" 1st-4th\",\n{\n            'v': 2,\n            'f': \"2\",\n        },\n\" Married-civ-spouse\",\n\" Other-service\",\n\" Wife\",\n\" White\",\n\" Female\",\n{\n            'v': 0,\n            'f': \"0\",\n        },\n{\n            'v': 0,\n            'f': \"0\",\n        },\n{\n            'v': 25,\n            'f': \"25\",\n        },\n\" El-Salvador\",\n\" <=50K\"],\n [{\n            'v': 99,\n            'f': \"99\",\n        },\n{\n            'v': 45,\n            'f': \"45\",\n        },\n\" Private\",\n{\n            'v': 320192,\n            'f': \"320192\",\n        },\n\" 1st-4th\",\n{\n            'v': 2,\n            'f': \"2\",\n        },\n\" Married-civ-spouse\",\n\" Other-service\",\n\" Wife\",\n\" White\",\n\" Female\",\n{\n            'v': 0,\n            'f': \"0\",\n        },\n{\n            'v': 0,\n            'f': \"0\",\n        },\n{\n            'v': 40,\n            'f': \"40\",\n        },\n\" United-States\",\n\" <=50K\"],\n [{\n            'v': 100,\n            'f': \"100\",\n        },\n{\n            'v': 44,\n            'f': \"44\",\n        },\n\" Private\",\n{\n            'v': 52028,\n            'f': \"52028\",\n        },\n\" 1st-4th\",\n{\n            'v': 2,\n            'f': \"2\",\n        },\n\" Married-civ-spouse\",\n\" Other-service\",\n\" Wife\",\n\" Asian-Pac-Islander\",\n\" Female\",\n{\n            'v': 0,\n            'f': \"0\",\n        },\n{\n            'v': 0,\n            'f': \"0\",\n        },\n{\n            'v': 40,\n            'f': \"40\",\n        },\n\" Vietnam\",\n\" <=50K\"],\n [{\n            'v': 101,\n            'f': \"101\",\n        },\n{\n            'v': 23,\n            'f': \"23\",\n        },\n\" Private\",\n{\n            'v': 180771,\n            'f': \"180771\",\n        },\n\" 1st-4th\",\n{\n            'v': 2,\n            'f': \"2\",\n        },\n\" Married-civ-spouse\",\n\" Machine-op-inspct\",\n\" Wife\",\n\" Amer-Indian-Eskimo\",\n\" Female\",\n{\n            'v': 0,\n            'f': \"0\",\n        },\n{\n            'v': 0,\n            'f': \"0\",\n        },\n{\n            'v': 35,\n            'f': \"35\",\n        },\n\" Mexico\",\n\" <=50K\"],\n [{\n            'v': 102,\n            'f': \"102\",\n        },\n{\n            'v': 42,\n            'f': \"42\",\n        },\n\" Private\",\n{\n            'v': 274198,\n            'f': \"274198\",\n        },\n\" 5th-6th\",\n{\n            'v': 3,\n            'f': \"3\",\n        },\n\" Married-civ-spouse\",\n\" Machine-op-inspct\",\n\" Wife\",\n\" White\",\n\" Female\",\n{\n            'v': 0,\n            'f': \"0\",\n        },\n{\n            'v': 0,\n            'f': \"0\",\n        },\n{\n            'v': 38,\n            'f': \"38\",\n        },\n\" Mexico\",\n\" <=50K\"],\n [{\n            'v': 103,\n            'f': \"103\",\n        },\n{\n            'v': 43,\n            'f': \"43\",\n        },\n\" Private\",\n{\n            'v': 128212,\n            'f': \"128212\",\n        },\n\" 5th-6th\",\n{\n            'v': 3,\n            'f': \"3\",\n        },\n\" Married-civ-spouse\",\n\" Machine-op-inspct\",\n\" Wife\",\n\" Asian-Pac-Islander\",\n\" Female\",\n{\n            'v': 0,\n            'f': \"0\",\n        },\n{\n            'v': 0,\n            'f': \"0\",\n        },\n{\n            'v': 40,\n            'f': \"40\",\n        },\n\" Vietnam\",\n\" >50K\"],\n [{\n            'v': 104,\n            'f': \"104\",\n        },\n{\n            'v': 46,\n            'f': \"46\",\n        },\n\" Private\",\n{\n            'v': 267107,\n            'f': \"267107\",\n        },\n\" 5th-6th\",\n{\n            'v': 3,\n            'f': \"3\",\n        },\n\" Married-civ-spouse\",\n\" Craft-repair\",\n\" Wife\",\n\" White\",\n\" Female\",\n{\n            'v': 0,\n            'f': \"0\",\n        },\n{\n            'v': 0,\n            'f': \"0\",\n        },\n{\n            'v': 45,\n            'f': \"45\",\n        },\n\" Italy\",\n\" <=50K\"],\n [{\n            'v': 105,\n            'f': \"105\",\n        },\n{\n            'v': 22,\n            'f': \"22\",\n        },\n\" ?\",\n{\n            'v': 291547,\n            'f': \"291547\",\n        },\n\" 5th-6th\",\n{\n            'v': 3,\n            'f': \"3\",\n        },\n\" Married-civ-spouse\",\n\" ?\",\n\" Wife\",\n\" Other\",\n\" Female\",\n{\n            'v': 0,\n            'f': \"0\",\n        },\n{\n            'v': 0,\n            'f': \"0\",\n        },\n{\n            'v': 40,\n            'f': \"40\",\n        },\n\" Mexico\",\n\" <=50K\"],\n [{\n            'v': 106,\n            'f': \"106\",\n        },\n{\n            'v': 43,\n            'f': \"43\",\n        },\n\" Private\",\n{\n            'v': 143582,\n            'f': \"143582\",\n        },\n\" 5th-6th\",\n{\n            'v': 3,\n            'f': \"3\",\n        },\n\" Married-civ-spouse\",\n\" Machine-op-inspct\",\n\" Wife\",\n\" Asian-Pac-Islander\",\n\" Female\",\n{\n            'v': 0,\n            'f': \"0\",\n        },\n{\n            'v': 2129,\n            'f': \"2129\",\n        },\n{\n            'v': 72,\n            'f': \"72\",\n        },\n\" ?\",\n\" <=50K\"],\n [{\n            'v': 107,\n            'f': \"107\",\n        },\n{\n            'v': 41,\n            'f': \"41\",\n        },\n\" Private\",\n{\n            'v': 277192,\n            'f': \"277192\",\n        },\n\" 5th-6th\",\n{\n            'v': 3,\n            'f': \"3\",\n        },\n\" Married-civ-spouse\",\n\" Farming-fishing\",\n\" Wife\",\n\" White\",\n\" Female\",\n{\n            'v': 0,\n            'f': \"0\",\n        },\n{\n            'v': 0,\n            'f': \"0\",\n        },\n{\n            'v': 40,\n            'f': \"40\",\n        },\n\" Mexico\",\n\" <=50K\"],\n [{\n            'v': 108,\n            'f': \"108\",\n        },\n{\n            'v': 53,\n            'f': \"53\",\n        },\n\" Private\",\n{\n            'v': 224894,\n            'f': \"224894\",\n        },\n\" 5th-6th\",\n{\n            'v': 3,\n            'f': \"3\",\n        },\n\" Married-civ-spouse\",\n\" Priv-house-serv\",\n\" Wife\",\n\" Black\",\n\" Female\",\n{\n            'v': 0,\n            'f': \"0\",\n        },\n{\n            'v': 0,\n            'f': \"0\",\n        },\n{\n            'v': 10,\n            'f': \"10\",\n        },\n\" Haiti\",\n\" <=50K\"],\n [{\n            'v': 109,\n            'f': \"109\",\n        },\n{\n            'v': 27,\n            'f': \"27\",\n        },\n\" ?\",\n{\n            'v': 175552,\n            'f': \"175552\",\n        },\n\" 5th-6th\",\n{\n            'v': 3,\n            'f': \"3\",\n        },\n\" Married-civ-spouse\",\n\" ?\",\n\" Wife\",\n\" White\",\n\" Female\",\n{\n            'v': 0,\n            'f': \"0\",\n        },\n{\n            'v': 0,\n            'f': \"0\",\n        },\n{\n            'v': 40,\n            'f': \"40\",\n        },\n\" Mexico\",\n\" <=50K\"],\n [{\n            'v': 110,\n            'f': \"110\",\n        },\n{\n            'v': 29,\n            'f': \"29\",\n        },\n\" ?\",\n{\n            'v': 189765,\n            'f': \"189765\",\n        },\n\" 5th-6th\",\n{\n            'v': 3,\n            'f': \"3\",\n        },\n\" Married-civ-spouse\",\n\" ?\",\n\" Wife\",\n\" White\",\n\" Female\",\n{\n            'v': 0,\n            'f': \"0\",\n        },\n{\n            'v': 0,\n            'f': \"0\",\n        },\n{\n            'v': 40,\n            'f': \"40\",\n        },\n\" United-States\",\n\" <=50K\"],\n [{\n            'v': 111,\n            'f': \"111\",\n        },\n{\n            'v': 46,\n            'f': \"46\",\n        },\n\" ?\",\n{\n            'v': 206357,\n            'f': \"206357\",\n        },\n\" 5th-6th\",\n{\n            'v': 3,\n            'f': \"3\",\n        },\n\" Married-civ-spouse\",\n\" ?\",\n\" Wife\",\n\" White\",\n\" Female\",\n{\n            'v': 0,\n            'f': \"0\",\n        },\n{\n            'v': 0,\n            'f': \"0\",\n        },\n{\n            'v': 40,\n            'f': \"40\",\n        },\n\" Mexico\",\n\" <=50K\"],\n [{\n            'v': 112,\n            'f': \"112\",\n        },\n{\n            'v': 50,\n            'f': \"50\",\n        },\n\" Private\",\n{\n            'v': 71898,\n            'f': \"71898\",\n        },\n\" 5th-6th\",\n{\n            'v': 3,\n            'f': \"3\",\n        },\n\" Married-civ-spouse\",\n\" Machine-op-inspct\",\n\" Wife\",\n\" Asian-Pac-Islander\",\n\" Female\",\n{\n            'v': 0,\n            'f': \"0\",\n        },\n{\n            'v': 0,\n            'f': \"0\",\n        },\n{\n            'v': 35,\n            'f': \"35\",\n        },\n\" Philippines\",\n\" <=50K\"],\n [{\n            'v': 113,\n            'f': \"113\",\n        },\n{\n            'v': 32,\n            'f': \"32\",\n        },\n\" Private\",\n{\n            'v': 102986,\n            'f': \"102986\",\n        },\n\" 5th-6th\",\n{\n            'v': 3,\n            'f': \"3\",\n        },\n\" Married-civ-spouse\",\n\" Machine-op-inspct\",\n\" Wife\",\n\" Asian-Pac-Islander\",\n\" Female\",\n{\n            'v': 0,\n            'f': \"0\",\n        },\n{\n            'v': 0,\n            'f': \"0\",\n        },\n{\n            'v': 40,\n            'f': \"40\",\n        },\n\" Laos\",\n\" >50K\"],\n [{\n            'v': 114,\n            'f': \"114\",\n        },\n{\n            'v': 52,\n            'f': \"52\",\n        },\n\" Private\",\n{\n            'v': 311931,\n            'f': \"311931\",\n        },\n\" 5th-6th\",\n{\n            'v': 3,\n            'f': \"3\",\n        },\n\" Married-civ-spouse\",\n\" Sales\",\n\" Wife\",\n\" White\",\n\" Female\",\n{\n            'v': 0,\n            'f': \"0\",\n        },\n{\n            'v': 0,\n            'f': \"0\",\n        },\n{\n            'v': 15,\n            'f': \"15\",\n        },\n\" El-Salvador\",\n\" <=50K\"],\n [{\n            'v': 115,\n            'f': \"115\",\n        },\n{\n            'v': 35,\n            'f': \"35\",\n        },\n\" Self-emp-not-inc\",\n{\n            'v': 256992,\n            'f': \"256992\",\n        },\n\" 5th-6th\",\n{\n            'v': 3,\n            'f': \"3\",\n        },\n\" Married-civ-spouse\",\n\" Other-service\",\n\" Wife\",\n\" White\",\n\" Female\",\n{\n            'v': 0,\n            'f': \"0\",\n        },\n{\n            'v': 0,\n            'f': \"0\",\n        },\n{\n            'v': 15,\n            'f': \"15\",\n        },\n\" Mexico\",\n\" <=50K\"],\n [{\n            'v': 116,\n            'f': \"116\",\n        },\n{\n            'v': 47,\n            'f': \"47\",\n        },\n\" Private\",\n{\n            'v': 73064,\n            'f': \"73064\",\n        },\n\" 7th-8th\",\n{\n            'v': 4,\n            'f': \"4\",\n        },\n\" Married-civ-spouse\",\n\" Machine-op-inspct\",\n\" Wife\",\n\" Black\",\n\" Female\",\n{\n            'v': 0,\n            'f': \"0\",\n        },\n{\n            'v': 0,\n            'f': \"0\",\n        },\n{\n            'v': 35,\n            'f': \"35\",\n        },\n\" United-States\",\n\" <=50K\"],\n [{\n            'v': 117,\n            'f': \"117\",\n        },\n{\n            'v': 38,\n            'f': \"38\",\n        },\n\" Private\",\n{\n            'v': 100295,\n            'f': \"100295\",\n        },\n\" 7th-8th\",\n{\n            'v': 4,\n            'f': \"4\",\n        },\n\" Married-civ-spouse\",\n\" Machine-op-inspct\",\n\" Wife\",\n\" White\",\n\" Female\",\n{\n            'v': 0,\n            'f': \"0\",\n        },\n{\n            'v': 0,\n            'f': \"0\",\n        },\n{\n            'v': 50,\n            'f': \"50\",\n        },\n\" Canada\",\n\" >50K\"],\n [{\n            'v': 118,\n            'f': \"118\",\n        },\n{\n            'v': 46,\n            'f': \"46\",\n        },\n\" Private\",\n{\n            'v': 116952,\n            'f': \"116952\",\n        },\n\" 7th-8th\",\n{\n            'v': 4,\n            'f': \"4\",\n        },\n\" Married-civ-spouse\",\n\" Prof-specialty\",\n\" Wife\",\n\" White\",\n\" Female\",\n{\n            'v': 0,\n            'f': \"0\",\n        },\n{\n            'v': 0,\n            'f': \"0\",\n        },\n{\n            'v': 45,\n            'f': \"45\",\n        },\n\" United-States\",\n\" <=50K\"],\n [{\n            'v': 119,\n            'f': \"119\",\n        },\n{\n            'v': 49,\n            'f': \"49\",\n        },\n\" Private\",\n{\n            'v': 169180,\n            'f': \"169180\",\n        },\n\" 7th-8th\",\n{\n            'v': 4,\n            'f': \"4\",\n        },\n\" Married-civ-spouse\",\n\" Machine-op-inspct\",\n\" Wife\",\n\" White\",\n\" Female\",\n{\n            'v': 0,\n            'f': \"0\",\n        },\n{\n            'v': 0,\n            'f': \"0\",\n        },\n{\n            'v': 40,\n            'f': \"40\",\n        },\n\" Hong\",\n\" <=50K\"],\n [{\n            'v': 120,\n            'f': \"120\",\n        },\n{\n            'v': 34,\n            'f': \"34\",\n        },\n\" Private\",\n{\n            'v': 176244,\n            'f': \"176244\",\n        },\n\" 7th-8th\",\n{\n            'v': 4,\n            'f': \"4\",\n        },\n\" Married-civ-spouse\",\n\" Other-service\",\n\" Wife\",\n\" White\",\n\" Female\",\n{\n            'v': 0,\n            'f': \"0\",\n        },\n{\n            'v': 0,\n            'f': \"0\",\n        },\n{\n            'v': 40,\n            'f': \"40\",\n        },\n\" United-States\",\n\" <=50K\"],\n [{\n            'v': 121,\n            'f': \"121\",\n        },\n{\n            'v': 56,\n            'f': \"56\",\n        },\n\" Private\",\n{\n            'v': 98809,\n            'f': \"98809\",\n        },\n\" 7th-8th\",\n{\n            'v': 4,\n            'f': \"4\",\n        },\n\" Married-civ-spouse\",\n\" Machine-op-inspct\",\n\" Wife\",\n\" White\",\n\" Female\",\n{\n            'v': 5013,\n            'f': \"5013\",\n        },\n{\n            'v': 0,\n            'f': \"0\",\n        },\n{\n            'v': 45,\n            'f': \"45\",\n        },\n\" United-States\",\n\" <=50K\"],\n [{\n            'v': 122,\n            'f': \"122\",\n        },\n{\n            'v': 29,\n            'f': \"29\",\n        },\n\" Private\",\n{\n            'v': 375078,\n            'f': \"375078\",\n        },\n\" 7th-8th\",\n{\n            'v': 4,\n            'f': \"4\",\n        },\n\" Married-civ-spouse\",\n\" Other-service\",\n\" Wife\",\n\" White\",\n\" Female\",\n{\n            'v': 0,\n            'f': \"0\",\n        },\n{\n            'v': 0,\n            'f': \"0\",\n        },\n{\n            'v': 40,\n            'f': \"40\",\n        },\n\" Mexico\",\n\" <=50K\"],\n [{\n            'v': 123,\n            'f': \"123\",\n        },\n{\n            'v': 29,\n            'f': \"29\",\n        },\n\" Private\",\n{\n            'v': 130045,\n            'f': \"130045\",\n        },\n\" 7th-8th\",\n{\n            'v': 4,\n            'f': \"4\",\n        },\n\" Married-civ-spouse\",\n\" Other-service\",\n\" Wife\",\n\" White\",\n\" Female\",\n{\n            'v': 0,\n            'f': \"0\",\n        },\n{\n            'v': 0,\n            'f': \"0\",\n        },\n{\n            'v': 40,\n            'f': \"40\",\n        },\n\" United-States\",\n\" <=50K\"],\n [{\n            'v': 124,\n            'f': \"124\",\n        },\n{\n            'v': 47,\n            'f': \"47\",\n        },\n\" Private\",\n{\n            'v': 103020,\n            'f': \"103020\",\n        },\n\" 7th-8th\",\n{\n            'v': 4,\n            'f': \"4\",\n        },\n\" Married-civ-spouse\",\n\" Machine-op-inspct\",\n\" Wife\",\n\" Other\",\n\" Female\",\n{\n            'v': 0,\n            'f': \"0\",\n        },\n{\n            'v': 0,\n            'f': \"0\",\n        },\n{\n            'v': 40,\n            'f': \"40\",\n        },\n\" Puerto-Rico\",\n\" <=50K\"],\n [{\n            'v': 125,\n            'f': \"125\",\n        },\n{\n            'v': 59,\n            'f': \"59\",\n        },\n\" Private\",\n{\n            'v': 106748,\n            'f': \"106748\",\n        },\n\" 7th-8th\",\n{\n            'v': 4,\n            'f': \"4\",\n        },\n\" Married-civ-spouse\",\n\" Other-service\",\n\" Wife\",\n\" White\",\n\" Female\",\n{\n            'v': 0,\n            'f': \"0\",\n        },\n{\n            'v': 0,\n            'f': \"0\",\n        },\n{\n            'v': 99,\n            'f': \"99\",\n        },\n\" United-States\",\n\" <=50K\"],\n [{\n            'v': 126,\n            'f': \"126\",\n        },\n{\n            'v': 60,\n            'f': \"60\",\n        },\n\" Private\",\n{\n            'v': 186446,\n            'f': \"186446\",\n        },\n\" 7th-8th\",\n{\n            'v': 4,\n            'f': \"4\",\n        },\n\" Married-civ-spouse\",\n\" Machine-op-inspct\",\n\" Wife\",\n\" White\",\n\" Female\",\n{\n            'v': 0,\n            'f': \"0\",\n        },\n{\n            'v': 0,\n            'f': \"0\",\n        },\n{\n            'v': 40,\n            'f': \"40\",\n        },\n\" United-States\",\n\" <=50K\"],\n [{\n            'v': 127,\n            'f': \"127\",\n        },\n{\n            'v': 52,\n            'f': \"52\",\n        },\n\" Private\",\n{\n            'v': 194259,\n            'f': \"194259\",\n        },\n\" 7th-8th\",\n{\n            'v': 4,\n            'f': \"4\",\n        },\n\" Married-civ-spouse\",\n\" Exec-managerial\",\n\" Wife\",\n\" White\",\n\" Female\",\n{\n            'v': 0,\n            'f': \"0\",\n        },\n{\n            'v': 0,\n            'f': \"0\",\n        },\n{\n            'v': 50,\n            'f': \"50\",\n        },\n\" United-States\",\n\" <=50K\"],\n [{\n            'v': 128,\n            'f': \"128\",\n        },\n{\n            'v': 42,\n            'f': \"42\",\n        },\n\" Self-emp-not-inc\",\n{\n            'v': 82297,\n            'f': \"82297\",\n        },\n\" 7th-8th\",\n{\n            'v': 4,\n            'f': \"4\",\n        },\n\" Married-civ-spouse\",\n\" Other-service\",\n\" Wife\",\n\" Black\",\n\" Female\",\n{\n            'v': 0,\n            'f': \"0\",\n        },\n{\n            'v': 0,\n            'f': \"0\",\n        },\n{\n            'v': 50,\n            'f': \"50\",\n        },\n\" United-States\",\n\" <=50K\"],\n [{\n            'v': 129,\n            'f': \"129\",\n        },\n{\n            'v': 27,\n            'f': \"27\",\n        },\n\" Private\",\n{\n            'v': 100168,\n            'f': \"100168\",\n        },\n\" 7th-8th\",\n{\n            'v': 4,\n            'f': \"4\",\n        },\n\" Married-civ-spouse\",\n\" Other-service\",\n\" Wife\",\n\" White\",\n\" Female\",\n{\n            'v': 0,\n            'f': \"0\",\n        },\n{\n            'v': 0,\n            'f': \"0\",\n        },\n{\n            'v': 40,\n            'f': \"40\",\n        },\n\" United-States\",\n\" <=50K\"],\n [{\n            'v': 130,\n            'f': \"130\",\n        },\n{\n            'v': 60,\n            'f': \"60\",\n        },\n\" Private\",\n{\n            'v': 320376,\n            'f': \"320376\",\n        },\n\" 7th-8th\",\n{\n            'v': 4,\n            'f': \"4\",\n        },\n\" Married-civ-spouse\",\n\" Machine-op-inspct\",\n\" Wife\",\n\" White\",\n\" Female\",\n{\n            'v': 0,\n            'f': \"0\",\n        },\n{\n            'v': 0,\n            'f': \"0\",\n        },\n{\n            'v': 40,\n            'f': \"40\",\n        },\n\" United-States\",\n\" <=50K\"],\n [{\n            'v': 131,\n            'f': \"131\",\n        },\n{\n            'v': 44,\n            'f': \"44\",\n        },\n\" Private\",\n{\n            'v': 159911,\n            'f': \"159911\",\n        },\n\" 7th-8th\",\n{\n            'v': 4,\n            'f': \"4\",\n        },\n\" Married-civ-spouse\",\n\" Other-service\",\n\" Wife\",\n\" White\",\n\" Female\",\n{\n            'v': 0,\n            'f': \"0\",\n        },\n{\n            'v': 0,\n            'f': \"0\",\n        },\n{\n            'v': 55,\n            'f': \"55\",\n        },\n\" United-States\",\n\" <=50K\"],\n [{\n            'v': 132,\n            'f': \"132\",\n        },\n{\n            'v': 57,\n            'f': \"57\",\n        },\n\" ?\",\n{\n            'v': 202903,\n            'f': \"202903\",\n        },\n\" 7th-8th\",\n{\n            'v': 4,\n            'f': \"4\",\n        },\n\" Married-civ-spouse\",\n\" ?\",\n\" Wife\",\n\" White\",\n\" Female\",\n{\n            'v': 1173,\n            'f': \"1173\",\n        },\n{\n            'v': 0,\n            'f': \"0\",\n        },\n{\n            'v': 45,\n            'f': \"45\",\n        },\n\" Puerto-Rico\",\n\" <=50K\"],\n [{\n            'v': 133,\n            'f': \"133\",\n        },\n{\n            'v': 50,\n            'f': \"50\",\n        },\n\" Private\",\n{\n            'v': 205100,\n            'f': \"205100\",\n        },\n\" 7th-8th\",\n{\n            'v': 4,\n            'f': \"4\",\n        },\n\" Married-civ-spouse\",\n\" Other-service\",\n\" Wife\",\n\" White\",\n\" Female\",\n{\n            'v': 0,\n            'f': \"0\",\n        },\n{\n            'v': 0,\n            'f': \"0\",\n        },\n{\n            'v': 35,\n            'f': \"35\",\n        },\n\" ?\",\n\" <=50K\"],\n [{\n            'v': 134,\n            'f': \"134\",\n        },\n{\n            'v': 44,\n            'f': \"44\",\n        },\n\" Private\",\n{\n            'v': 228057,\n            'f': \"228057\",\n        },\n\" 7th-8th\",\n{\n            'v': 4,\n            'f': \"4\",\n        },\n\" Married-civ-spouse\",\n\" Machine-op-inspct\",\n\" Wife\",\n\" White\",\n\" Female\",\n{\n            'v': 0,\n            'f': \"0\",\n        },\n{\n            'v': 0,\n            'f': \"0\",\n        },\n{\n            'v': 40,\n            'f': \"40\",\n        },\n\" Dominican-Republic\",\n\" <=50K\"],\n [{\n            'v': 135,\n            'f': \"135\",\n        },\n{\n            'v': 64,\n            'f': \"64\",\n        },\n\" State-gov\",\n{\n            'v': 222966,\n            'f': \"222966\",\n        },\n\" 7th-8th\",\n{\n            'v': 4,\n            'f': \"4\",\n        },\n\" Married-civ-spouse\",\n\" Other-service\",\n\" Wife\",\n\" Black\",\n\" Female\",\n{\n            'v': 0,\n            'f': \"0\",\n        },\n{\n            'v': 0,\n            'f': \"0\",\n        },\n{\n            'v': 40,\n            'f': \"40\",\n        },\n\" United-States\",\n\" <=50K\"],\n [{\n            'v': 136,\n            'f': \"136\",\n        },\n{\n            'v': 19,\n            'f': \"19\",\n        },\n\" Private\",\n{\n            'v': 544091,\n            'f': \"544091\",\n        },\n\" HS-grad\",\n{\n            'v': 9,\n            'f': \"9\",\n        },\n\" Married-AF-spouse\",\n\" Adm-clerical\",\n\" Wife\",\n\" White\",\n\" Female\",\n{\n            'v': 0,\n            'f': \"0\",\n        },\n{\n            'v': 0,\n            'f': \"0\",\n        },\n{\n            'v': 25,\n            'f': \"25\",\n        },\n\" United-States\",\n\" <=50K\"],\n [{\n            'v': 137,\n            'f': \"137\",\n        },\n{\n            'v': 53,\n            'f': \"53\",\n        },\n\" Private\",\n{\n            'v': 169846,\n            'f': \"169846\",\n        },\n\" HS-grad\",\n{\n            'v': 9,\n            'f': \"9\",\n        },\n\" Married-civ-spouse\",\n\" Adm-clerical\",\n\" Wife\",\n\" White\",\n\" Female\",\n{\n            'v': 0,\n            'f': \"0\",\n        },\n{\n            'v': 0,\n            'f': \"0\",\n        },\n{\n            'v': 40,\n            'f': \"40\",\n        },\n\" United-States\",\n\" >50K\"],\n [{\n            'v': 138,\n            'f': \"138\",\n        },\n{\n            'v': 46,\n            'f': \"46\",\n        },\n\" Private\",\n{\n            'v': 51618,\n            'f': \"51618\",\n        },\n\" HS-grad\",\n{\n            'v': 9,\n            'f': \"9\",\n        },\n\" Married-civ-spouse\",\n\" Other-service\",\n\" Wife\",\n\" White\",\n\" Female\",\n{\n            'v': 0,\n            'f': \"0\",\n        },\n{\n            'v': 0,\n            'f': \"0\",\n        },\n{\n            'v': 40,\n            'f': \"40\",\n        },\n\" United-States\",\n\" <=50K\"],\n [{\n            'v': 139,\n            'f': \"139\",\n        },\n{\n            'v': 30,\n            'f': \"30\",\n        },\n\" Private\",\n{\n            'v': 117747,\n            'f': \"117747\",\n        },\n\" HS-grad\",\n{\n            'v': 9,\n            'f': \"9\",\n        },\n\" Married-civ-spouse\",\n\" Sales\",\n\" Wife\",\n\" Asian-Pac-Islander\",\n\" Female\",\n{\n            'v': 0,\n            'f': \"0\",\n        },\n{\n            'v': 1573,\n            'f': \"1573\",\n        },\n{\n            'v': 35,\n            'f': \"35\",\n        },\n\" ?\",\n\" <=50K\"],\n [{\n            'v': 140,\n            'f': \"140\",\n        },\n{\n            'v': 58,\n            'f': \"58\",\n        },\n\" Self-emp-inc\",\n{\n            'v': 210563,\n            'f': \"210563\",\n        },\n\" HS-grad\",\n{\n            'v': 9,\n            'f': \"9\",\n        },\n\" Married-civ-spouse\",\n\" Sales\",\n\" Wife\",\n\" White\",\n\" Female\",\n{\n            'v': 15024,\n            'f': \"15024\",\n        },\n{\n            'v': 0,\n            'f': \"0\",\n        },\n{\n            'v': 35,\n            'f': \"35\",\n        },\n\" United-States\",\n\" >50K\"],\n [{\n            'v': 141,\n            'f': \"141\",\n        },\n{\n            'v': 41,\n            'f': \"41\",\n        },\n\" Self-emp-not-inc\",\n{\n            'v': 196001,\n            'f': \"196001\",\n        },\n\" HS-grad\",\n{\n            'v': 9,\n            'f': \"9\",\n        },\n\" Married-civ-spouse\",\n\" Other-service\",\n\" Wife\",\n\" White\",\n\" Female\",\n{\n            'v': 0,\n            'f': \"0\",\n        },\n{\n            'v': 0,\n            'f': \"0\",\n        },\n{\n            'v': 20,\n            'f': \"20\",\n        },\n\" United-States\",\n\" <=50K\"],\n [{\n            'v': 142,\n            'f': \"142\",\n        },\n{\n            'v': 33,\n            'f': \"33\",\n        },\n\" Private\",\n{\n            'v': 222205,\n            'f': \"222205\",\n        },\n\" HS-grad\",\n{\n            'v': 9,\n            'f': \"9\",\n        },\n\" Married-civ-spouse\",\n\" Craft-repair\",\n\" Wife\",\n\" White\",\n\" Female\",\n{\n            'v': 0,\n            'f': \"0\",\n        },\n{\n            'v': 0,\n            'f': \"0\",\n        },\n{\n            'v': 40,\n            'f': \"40\",\n        },\n\" United-States\",\n\" >50K\"],\n [{\n            'v': 143,\n            'f': \"143\",\n        },\n{\n            'v': 42,\n            'f': \"42\",\n        },\n\" Private\",\n{\n            'v': 111949,\n            'f': \"111949\",\n        },\n\" HS-grad\",\n{\n            'v': 9,\n            'f': \"9\",\n        },\n\" Married-civ-spouse\",\n\" Adm-clerical\",\n\" Wife\",\n\" White\",\n\" Female\",\n{\n            'v': 0,\n            'f': \"0\",\n        },\n{\n            'v': 0,\n            'f': \"0\",\n        },\n{\n            'v': 35,\n            'f': \"35\",\n        },\n\" United-States\",\n\" <=50K\"],\n [{\n            'v': 144,\n            'f': \"144\",\n        },\n{\n            'v': 33,\n            'f': \"33\",\n        },\n\" Private\",\n{\n            'v': 267404,\n            'f': \"267404\",\n        },\n\" HS-grad\",\n{\n            'v': 9,\n            'f': \"9\",\n        },\n\" Married-civ-spouse\",\n\" Craft-repair\",\n\" Wife\",\n\" White\",\n\" Female\",\n{\n            'v': 0,\n            'f': \"0\",\n        },\n{\n            'v': 0,\n            'f': \"0\",\n        },\n{\n            'v': 40,\n            'f': \"40\",\n        },\n\" United-States\",\n\" <=50K\"],\n [{\n            'v': 145,\n            'f': \"145\",\n        },\n{\n            'v': 35,\n            'f': \"35\",\n        },\n\" Private\",\n{\n            'v': 220098,\n            'f': \"220098\",\n        },\n\" HS-grad\",\n{\n            'v': 9,\n            'f': \"9\",\n        },\n\" Married-civ-spouse\",\n\" Other-service\",\n\" Wife\",\n\" White\",\n\" Female\",\n{\n            'v': 0,\n            'f': \"0\",\n        },\n{\n            'v': 0,\n            'f': \"0\",\n        },\n{\n            'v': 40,\n            'f': \"40\",\n        },\n\" United-States\",\n\" >50K\"],\n [{\n            'v': 146,\n            'f': \"146\",\n        },\n{\n            'v': 44,\n            'f': \"44\",\n        },\n\" Self-emp-not-inc\",\n{\n            'v': 234885,\n            'f': \"234885\",\n        },\n\" HS-grad\",\n{\n            'v': 9,\n            'f': \"9\",\n        },\n\" Married-civ-spouse\",\n\" Sales\",\n\" Wife\",\n\" White\",\n\" Female\",\n{\n            'v': 0,\n            'f': \"0\",\n        },\n{\n            'v': 0,\n            'f': \"0\",\n        },\n{\n            'v': 40,\n            'f': \"40\",\n        },\n\" United-States\",\n\" >50K\"],\n [{\n            'v': 147,\n            'f': \"147\",\n        },\n{\n            'v': 30,\n            'f': \"30\",\n        },\n\" Private\",\n{\n            'v': 180374,\n            'f': \"180374\",\n        },\n\" HS-grad\",\n{\n            'v': 9,\n            'f': \"9\",\n        },\n\" Married-civ-spouse\",\n\" Exec-managerial\",\n\" Wife\",\n\" White\",\n\" Female\",\n{\n            'v': 0,\n            'f': \"0\",\n        },\n{\n            'v': 0,\n            'f': \"0\",\n        },\n{\n            'v': 40,\n            'f': \"40\",\n        },\n\" United-States\",\n\" <=50K\"],\n [{\n            'v': 148,\n            'f': \"148\",\n        },\n{\n            'v': 37,\n            'f': \"37\",\n        },\n\" Private\",\n{\n            'v': 126708,\n            'f': \"126708\",\n        },\n\" HS-grad\",\n{\n            'v': 9,\n            'f': \"9\",\n        },\n\" Married-civ-spouse\",\n\" Adm-clerical\",\n\" Wife\",\n\" White\",\n\" Female\",\n{\n            'v': 0,\n            'f': \"0\",\n        },\n{\n            'v': 0,\n            'f': \"0\",\n        },\n{\n            'v': 60,\n            'f': \"60\",\n        },\n\" United-States\",\n\" <=50K\"],\n [{\n            'v': 149,\n            'f': \"149\",\n        },\n{\n            'v': 35,\n            'f': \"35\",\n        },\n\" Private\",\n{\n            'v': 229328,\n            'f': \"229328\",\n        },\n\" HS-grad\",\n{\n            'v': 9,\n            'f': \"9\",\n        },\n\" Married-civ-spouse\",\n\" Machine-op-inspct\",\n\" Wife\",\n\" Black\",\n\" Female\",\n{\n            'v': 0,\n            'f': \"0\",\n        },\n{\n            'v': 0,\n            'f': \"0\",\n        },\n{\n            'v': 40,\n            'f': \"40\",\n        },\n\" United-States\",\n\" <=50K\"],\n [{\n            'v': 150,\n            'f': \"150\",\n        },\n{\n            'v': 34,\n            'f': \"34\",\n        },\n\" Private\",\n{\n            'v': 148291,\n            'f': \"148291\",\n        },\n\" HS-grad\",\n{\n            'v': 9,\n            'f': \"9\",\n        },\n\" Married-civ-spouse\",\n\" Tech-support\",\n\" Wife\",\n\" White\",\n\" Female\",\n{\n            'v': 0,\n            'f': \"0\",\n        },\n{\n            'v': 0,\n            'f': \"0\",\n        },\n{\n            'v': 32,\n            'f': \"32\",\n        },\n\" United-States\",\n\" <=50K\"],\n [{\n            'v': 151,\n            'f': \"151\",\n        },\n{\n            'v': 55,\n            'f': \"55\",\n        },\n\" ?\",\n{\n            'v': 105138,\n            'f': \"105138\",\n        },\n\" HS-grad\",\n{\n            'v': 9,\n            'f': \"9\",\n        },\n\" Married-civ-spouse\",\n\" ?\",\n\" Wife\",\n\" Asian-Pac-Islander\",\n\" Female\",\n{\n            'v': 0,\n            'f': \"0\",\n        },\n{\n            'v': 0,\n            'f': \"0\",\n        },\n{\n            'v': 40,\n            'f': \"40\",\n        },\n\" United-States\",\n\" <=50K\"],\n [{\n            'v': 152,\n            'f': \"152\",\n        },\n{\n            'v': 44,\n            'f': \"44\",\n        },\n\" Private\",\n{\n            'v': 111502,\n            'f': \"111502\",\n        },\n\" HS-grad\",\n{\n            'v': 9,\n            'f': \"9\",\n        },\n\" Married-civ-spouse\",\n\" Sales\",\n\" Wife\",\n\" White\",\n\" Female\",\n{\n            'v': 0,\n            'f': \"0\",\n        },\n{\n            'v': 0,\n            'f': \"0\",\n        },\n{\n            'v': 40,\n            'f': \"40\",\n        },\n\" United-States\",\n\" <=50K\"],\n [{\n            'v': 153,\n            'f': \"153\",\n        },\n{\n            'v': 46,\n            'f': \"46\",\n        },\n\" Federal-gov\",\n{\n            'v': 167381,\n            'f': \"167381\",\n        },\n\" HS-grad\",\n{\n            'v': 9,\n            'f': \"9\",\n        },\n\" Married-civ-spouse\",\n\" Adm-clerical\",\n\" Wife\",\n\" White\",\n\" Female\",\n{\n            'v': 0,\n            'f': \"0\",\n        },\n{\n            'v': 0,\n            'f': \"0\",\n        },\n{\n            'v': 40,\n            'f': \"40\",\n        },\n\" United-States\",\n\" >50K\"],\n [{\n            'v': 154,\n            'f': \"154\",\n        },\n{\n            'v': 59,\n            'f': \"59\",\n        },\n\" Local-gov\",\n{\n            'v': 420537,\n            'f': \"420537\",\n        },\n\" HS-grad\",\n{\n            'v': 9,\n            'f': \"9\",\n        },\n\" Married-civ-spouse\",\n\" Adm-clerical\",\n\" Wife\",\n\" White\",\n\" Female\",\n{\n            'v': 0,\n            'f': \"0\",\n        },\n{\n            'v': 0,\n            'f': \"0\",\n        },\n{\n            'v': 38,\n            'f': \"38\",\n        },\n\" United-States\",\n\" >50K\"],\n [{\n            'v': 155,\n            'f': \"155\",\n        },\n{\n            'v': 47,\n            'f': \"47\",\n        },\n\" Self-emp-not-inc\",\n{\n            'v': 93208,\n            'f': \"93208\",\n        },\n\" HS-grad\",\n{\n            'v': 9,\n            'f': \"9\",\n        },\n\" Married-civ-spouse\",\n\" Other-service\",\n\" Wife\",\n\" White\",\n\" Female\",\n{\n            'v': 0,\n            'f': \"0\",\n        },\n{\n            'v': 0,\n            'f': \"0\",\n        },\n{\n            'v': 75,\n            'f': \"75\",\n        },\n\" Italy\",\n\" <=50K\"],\n [{\n            'v': 156,\n            'f': \"156\",\n        },\n{\n            'v': 23,\n            'f': \"23\",\n        },\n\" Private\",\n{\n            'v': 375871,\n            'f': \"375871\",\n        },\n\" HS-grad\",\n{\n            'v': 9,\n            'f': \"9\",\n        },\n\" Married-civ-spouse\",\n\" Adm-clerical\",\n\" Wife\",\n\" White\",\n\" Female\",\n{\n            'v': 0,\n            'f': \"0\",\n        },\n{\n            'v': 0,\n            'f': \"0\",\n        },\n{\n            'v': 40,\n            'f': \"40\",\n        },\n\" Mexico\",\n\" <=50K\"],\n [{\n            'v': 157,\n            'f': \"157\",\n        },\n{\n            'v': 44,\n            'f': \"44\",\n        },\n\" State-gov\",\n{\n            'v': 174675,\n            'f': \"174675\",\n        },\n\" HS-grad\",\n{\n            'v': 9,\n            'f': \"9\",\n        },\n\" Married-civ-spouse\",\n\" Prof-specialty\",\n\" Wife\",\n\" White\",\n\" Female\",\n{\n            'v': 0,\n            'f': \"0\",\n        },\n{\n            'v': 0,\n            'f': \"0\",\n        },\n{\n            'v': 40,\n            'f': \"40\",\n        },\n\" United-States\",\n\" >50K\"],\n [{\n            'v': 158,\n            'f': \"158\",\n        },\n{\n            'v': 38,\n            'f': \"38\",\n        },\n\" State-gov\",\n{\n            'v': 343642,\n            'f': \"343642\",\n        },\n\" HS-grad\",\n{\n            'v': 9,\n            'f': \"9\",\n        },\n\" Married-civ-spouse\",\n\" Prof-specialty\",\n\" Wife\",\n\" White\",\n\" Female\",\n{\n            'v': 0,\n            'f': \"0\",\n        },\n{\n            'v': 0,\n            'f': \"0\",\n        },\n{\n            'v': 40,\n            'f': \"40\",\n        },\n\" United-States\",\n\" >50K\"],\n [{\n            'v': 159,\n            'f': \"159\",\n        },\n{\n            'v': 29,\n            'f': \"29\",\n        },\n\" Self-emp-inc\",\n{\n            'v': 260729,\n            'f': \"260729\",\n        },\n\" HS-grad\",\n{\n            'v': 9,\n            'f': \"9\",\n        },\n\" Married-civ-spouse\",\n\" Sales\",\n\" Wife\",\n\" White\",\n\" Female\",\n{\n            'v': 0,\n            'f': \"0\",\n        },\n{\n            'v': 1977,\n            'f': \"1977\",\n        },\n{\n            'v': 25,\n            'f': \"25\",\n        },\n\" United-States\",\n\" >50K\"],\n [{\n            'v': 160,\n            'f': \"160\",\n        },\n{\n            'v': 69,\n            'f': \"69\",\n        },\n\" Private\",\n{\n            'v': 168139,\n            'f': \"168139\",\n        },\n\" HS-grad\",\n{\n            'v': 9,\n            'f': \"9\",\n        },\n\" Married-civ-spouse\",\n\" Sales\",\n\" Wife\",\n\" White\",\n\" Female\",\n{\n            'v': 0,\n            'f': \"0\",\n        },\n{\n            'v': 0,\n            'f': \"0\",\n        },\n{\n            'v': 40,\n            'f': \"40\",\n        },\n\" United-States\",\n\" <=50K\"],\n [{\n            'v': 161,\n            'f': \"161\",\n        },\n{\n            'v': 34,\n            'f': \"34\",\n        },\n\" Private\",\n{\n            'v': 190040,\n            'f': \"190040\",\n        },\n\" HS-grad\",\n{\n            'v': 9,\n            'f': \"9\",\n        },\n\" Married-civ-spouse\",\n\" Adm-clerical\",\n\" Wife\",\n\" White\",\n\" Female\",\n{\n            'v': 0,\n            'f': \"0\",\n        },\n{\n            'v': 0,\n            'f': \"0\",\n        },\n{\n            'v': 40,\n            'f': \"40\",\n        },\n\" United-States\",\n\" <=50K\"],\n [{\n            'v': 162,\n            'f': \"162\",\n        },\n{\n            'v': 50,\n            'f': \"50\",\n        },\n\" Private\",\n{\n            'v': 88926,\n            'f': \"88926\",\n        },\n\" HS-grad\",\n{\n            'v': 9,\n            'f': \"9\",\n        },\n\" Married-civ-spouse\",\n\" Adm-clerical\",\n\" Wife\",\n\" White\",\n\" Female\",\n{\n            'v': 5178,\n            'f': \"5178\",\n        },\n{\n            'v': 0,\n            'f': \"0\",\n        },\n{\n            'v': 40,\n            'f': \"40\",\n        },\n\" United-States\",\n\" >50K\"],\n [{\n            'v': 163,\n            'f': \"163\",\n        },\n{\n            'v': 49,\n            'f': \"49\",\n        },\n\" Private\",\n{\n            'v': 125421,\n            'f': \"125421\",\n        },\n\" HS-grad\",\n{\n            'v': 9,\n            'f': \"9\",\n        },\n\" Married-civ-spouse\",\n\" Craft-repair\",\n\" Wife\",\n\" White\",\n\" Female\",\n{\n            'v': 0,\n            'f': \"0\",\n        },\n{\n            'v': 0,\n            'f': \"0\",\n        },\n{\n            'v': 40,\n            'f': \"40\",\n        },\n\" United-States\",\n\" >50K\"],\n [{\n            'v': 164,\n            'f': \"164\",\n        },\n{\n            'v': 49,\n            'f': \"49\",\n        },\n\" Private\",\n{\n            'v': 171301,\n            'f': \"171301\",\n        },\n\" HS-grad\",\n{\n            'v': 9,\n            'f': \"9\",\n        },\n\" Married-civ-spouse\",\n\" Machine-op-inspct\",\n\" Wife\",\n\" Black\",\n\" Female\",\n{\n            'v': 0,\n            'f': \"0\",\n        },\n{\n            'v': 0,\n            'f': \"0\",\n        },\n{\n            'v': 40,\n            'f': \"40\",\n        },\n\" United-States\",\n\" <=50K\"],\n [{\n            'v': 165,\n            'f': \"165\",\n        },\n{\n            'v': 33,\n            'f': \"33\",\n        },\n\" Local-gov\",\n{\n            'v': 119829,\n            'f': \"119829\",\n        },\n\" HS-grad\",\n{\n            'v': 9,\n            'f': \"9\",\n        },\n\" Married-civ-spouse\",\n\" Adm-clerical\",\n\" Wife\",\n\" White\",\n\" Female\",\n{\n            'v': 0,\n            'f': \"0\",\n        },\n{\n            'v': 0,\n            'f': \"0\",\n        },\n{\n            'v': 60,\n            'f': \"60\",\n        },\n\" United-States\",\n\" <=50K\"],\n [{\n            'v': 166,\n            'f': \"166\",\n        },\n{\n            'v': 45,\n            'f': \"45\",\n        },\n\" Private\",\n{\n            'v': 428350,\n            'f': \"428350\",\n        },\n\" HS-grad\",\n{\n            'v': 9,\n            'f': \"9\",\n        },\n\" Married-civ-spouse\",\n\" Machine-op-inspct\",\n\" Wife\",\n\" White\",\n\" Female\",\n{\n            'v': 0,\n            'f': \"0\",\n        },\n{\n            'v': 1740,\n            'f': \"1740\",\n        },\n{\n            'v': 40,\n            'f': \"40\",\n        },\n\" United-States\",\n\" <=50K\"],\n [{\n            'v': 167,\n            'f': \"167\",\n        },\n{\n            'v': 71,\n            'f': \"71\",\n        },\n\" Self-emp-inc\",\n{\n            'v': 133821,\n            'f': \"133821\",\n        },\n\" HS-grad\",\n{\n            'v': 9,\n            'f': \"9\",\n        },\n\" Married-civ-spouse\",\n\" Adm-clerical\",\n\" Wife\",\n\" White\",\n\" Female\",\n{\n            'v': 0,\n            'f': \"0\",\n        },\n{\n            'v': 0,\n            'f': \"0\",\n        },\n{\n            'v': 20,\n            'f': \"20\",\n        },\n\" United-States\",\n\" >50K\"],\n [{\n            'v': 168,\n            'f': \"168\",\n        },\n{\n            'v': 50,\n            'f': \"50\",\n        },\n\" Private\",\n{\n            'v': 140592,\n            'f': \"140592\",\n        },\n\" HS-grad\",\n{\n            'v': 9,\n            'f': \"9\",\n        },\n\" Married-civ-spouse\",\n\" Machine-op-inspct\",\n\" Wife\",\n\" White\",\n\" Female\",\n{\n            'v': 0,\n            'f': \"0\",\n        },\n{\n            'v': 0,\n            'f': \"0\",\n        },\n{\n            'v': 40,\n            'f': \"40\",\n        },\n\" United-States\",\n\" <=50K\"],\n [{\n            'v': 169,\n            'f': \"169\",\n        },\n{\n            'v': 53,\n            'f': \"53\",\n        },\n\" State-gov\",\n{\n            'v': 281590,\n            'f': \"281590\",\n        },\n\" HS-grad\",\n{\n            'v': 9,\n            'f': \"9\",\n        },\n\" Married-civ-spouse\",\n\" Exec-managerial\",\n\" Wife\",\n\" White\",\n\" Female\",\n{\n            'v': 15024,\n            'f': \"15024\",\n        },\n{\n            'v': 0,\n            'f': \"0\",\n        },\n{\n            'v': 40,\n            'f': \"40\",\n        },\n\" United-States\",\n\" >50K\"],\n [{\n            'v': 170,\n            'f': \"170\",\n        },\n{\n            'v': 49,\n            'f': \"49\",\n        },\n\" Private\",\n{\n            'v': 32212,\n            'f': \"32212\",\n        },\n\" HS-grad\",\n{\n            'v': 9,\n            'f': \"9\",\n        },\n\" Married-civ-spouse\",\n\" Exec-managerial\",\n\" Wife\",\n\" White\",\n\" Female\",\n{\n            'v': 0,\n            'f': \"0\",\n        },\n{\n            'v': 0,\n            'f': \"0\",\n        },\n{\n            'v': 43,\n            'f': \"43\",\n        },\n\" United-States\",\n\" <=50K\"],\n [{\n            'v': 171,\n            'f': \"171\",\n        },\n{\n            'v': 49,\n            'f': \"49\",\n        },\n\" Private\",\n{\n            'v': 169818,\n            'f': \"169818\",\n        },\n\" HS-grad\",\n{\n            'v': 9,\n            'f': \"9\",\n        },\n\" Married-civ-spouse\",\n\" Other-service\",\n\" Wife\",\n\" Black\",\n\" Female\",\n{\n            'v': 0,\n            'f': \"0\",\n        },\n{\n            'v': 0,\n            'f': \"0\",\n        },\n{\n            'v': 40,\n            'f': \"40\",\n        },\n\" United-States\",\n\" >50K\"],\n [{\n            'v': 172,\n            'f': \"172\",\n        },\n{\n            'v': 44,\n            'f': \"44\",\n        },\n\" Self-emp-not-inc\",\n{\n            'v': 246862,\n            'f': \"246862\",\n        },\n\" HS-grad\",\n{\n            'v': 9,\n            'f': \"9\",\n        },\n\" Married-civ-spouse\",\n\" Prof-specialty\",\n\" Wife\",\n\" White\",\n\" Female\",\n{\n            'v': 0,\n            'f': \"0\",\n        },\n{\n            'v': 0,\n            'f': \"0\",\n        },\n{\n            'v': 40,\n            'f': \"40\",\n        },\n\" Italy\",\n\" >50K\"],\n [{\n            'v': 173,\n            'f': \"173\",\n        },\n{\n            'v': 46,\n            'f': \"46\",\n        },\n\" Private\",\n{\n            'v': 243190,\n            'f': \"243190\",\n        },\n\" HS-grad\",\n{\n            'v': 9,\n            'f': \"9\",\n        },\n\" Married-civ-spouse\",\n\" Adm-clerical\",\n\" Wife\",\n\" White\",\n\" Female\",\n{\n            'v': 7688,\n            'f': \"7688\",\n        },\n{\n            'v': 0,\n            'f': \"0\",\n        },\n{\n            'v': 40,\n            'f': \"40\",\n        },\n\" United-States\",\n\" >50K\"],\n [{\n            'v': 174,\n            'f': \"174\",\n        },\n{\n            'v': 28,\n            'f': \"28\",\n        },\n\" ?\",\n{\n            'v': 308493,\n            'f': \"308493\",\n        },\n\" HS-grad\",\n{\n            'v': 9,\n            'f': \"9\",\n        },\n\" Married-civ-spouse\",\n\" ?\",\n\" Wife\",\n\" White\",\n\" Female\",\n{\n            'v': 0,\n            'f': \"0\",\n        },\n{\n            'v': 0,\n            'f': \"0\",\n        },\n{\n            'v': 17,\n            'f': \"17\",\n        },\n\" Honduras\",\n\" <=50K\"],\n [{\n            'v': 175,\n            'f': \"175\",\n        },\n{\n            'v': 31,\n            'f': \"31\",\n        },\n\" Federal-gov\",\n{\n            'v': 207301,\n            'f': \"207301\",\n        },\n\" HS-grad\",\n{\n            'v': 9,\n            'f': \"9\",\n        },\n\" Married-civ-spouse\",\n\" Adm-clerical\",\n\" Wife\",\n\" White\",\n\" Female\",\n{\n            'v': 0,\n            'f': \"0\",\n        },\n{\n            'v': 0,\n            'f': \"0\",\n        },\n{\n            'v': 40,\n            'f': \"40\",\n        },\n\" United-States\",\n\" >50K\"],\n [{\n            'v': 176,\n            'f': \"176\",\n        },\n{\n            'v': 42,\n            'f': \"42\",\n        },\n\" Private\",\n{\n            'v': 193626,\n            'f': \"193626\",\n        },\n\" HS-grad\",\n{\n            'v': 9,\n            'f': \"9\",\n        },\n\" Married-civ-spouse\",\n\" Adm-clerical\",\n\" Wife\",\n\" White\",\n\" Female\",\n{\n            'v': 0,\n            'f': \"0\",\n        },\n{\n            'v': 0,\n            'f': \"0\",\n        },\n{\n            'v': 53,\n            'f': \"53\",\n        },\n\" United-States\",\n\" <=50K\"],\n [{\n            'v': 177,\n            'f': \"177\",\n        },\n{\n            'v': 44,\n            'f': \"44\",\n        },\n\" Local-gov\",\n{\n            'v': 145178,\n            'f': \"145178\",\n        },\n\" HS-grad\",\n{\n            'v': 9,\n            'f': \"9\",\n        },\n\" Married-civ-spouse\",\n\" Other-service\",\n\" Wife\",\n\" Black\",\n\" Female\",\n{\n            'v': 0,\n            'f': \"0\",\n        },\n{\n            'v': 0,\n            'f': \"0\",\n        },\n{\n            'v': 38,\n            'f': \"38\",\n        },\n\" Jamaica\",\n\" >50K\"],\n [{\n            'v': 178,\n            'f': \"178\",\n        },\n{\n            'v': 47,\n            'f': \"47\",\n        },\n\" ?\",\n{\n            'v': 331650,\n            'f': \"331650\",\n        },\n\" HS-grad\",\n{\n            'v': 9,\n            'f': \"9\",\n        },\n\" Married-civ-spouse\",\n\" ?\",\n\" Wife\",\n\" White\",\n\" Female\",\n{\n            'v': 0,\n            'f': \"0\",\n        },\n{\n            'v': 0,\n            'f': \"0\",\n        },\n{\n            'v': 8,\n            'f': \"8\",\n        },\n\" United-States\",\n\" >50K\"],\n [{\n            'v': 179,\n            'f': \"179\",\n        },\n{\n            'v': 47,\n            'f': \"47\",\n        },\n\" Private\",\n{\n            'v': 211668,\n            'f': \"211668\",\n        },\n\" HS-grad\",\n{\n            'v': 9,\n            'f': \"9\",\n        },\n\" Married-civ-spouse\",\n\" Machine-op-inspct\",\n\" Wife\",\n\" Black\",\n\" Female\",\n{\n            'v': 0,\n            'f': \"0\",\n        },\n{\n            'v': 0,\n            'f': \"0\",\n        },\n{\n            'v': 40,\n            'f': \"40\",\n        },\n\" United-States\",\n\" >50K\"],\n [{\n            'v': 180,\n            'f': \"180\",\n        },\n{\n            'v': 60,\n            'f': \"60\",\n        },\n\" Private\",\n{\n            'v': 207665,\n            'f': \"207665\",\n        },\n\" HS-grad\",\n{\n            'v': 9,\n            'f': \"9\",\n        },\n\" Married-civ-spouse\",\n\" Tech-support\",\n\" Wife\",\n\" White\",\n\" Female\",\n{\n            'v': 0,\n            'f': \"0\",\n        },\n{\n            'v': 0,\n            'f': \"0\",\n        },\n{\n            'v': 40,\n            'f': \"40\",\n        },\n\" United-States\",\n\" >50K\"],\n [{\n            'v': 181,\n            'f': \"181\",\n        },\n{\n            'v': 24,\n            'f': \"24\",\n        },\n\" Self-emp-not-inc\",\n{\n            'v': 174391,\n            'f': \"174391\",\n        },\n\" HS-grad\",\n{\n            'v': 9,\n            'f': \"9\",\n        },\n\" Married-civ-spouse\",\n\" Adm-clerical\",\n\" Wife\",\n\" White\",\n\" Female\",\n{\n            'v': 0,\n            'f': \"0\",\n        },\n{\n            'v': 0,\n            'f': \"0\",\n        },\n{\n            'v': 40,\n            'f': \"40\",\n        },\n\" United-States\",\n\" <=50K\"],\n [{\n            'v': 182,\n            'f': \"182\",\n        },\n{\n            'v': 39,\n            'f': \"39\",\n        },\n\" Self-emp-not-inc\",\n{\n            'v': 237532,\n            'f': \"237532\",\n        },\n\" HS-grad\",\n{\n            'v': 9,\n            'f': \"9\",\n        },\n\" Married-civ-spouse\",\n\" Sales\",\n\" Wife\",\n\" Black\",\n\" Female\",\n{\n            'v': 0,\n            'f': \"0\",\n        },\n{\n            'v': 0,\n            'f': \"0\",\n        },\n{\n            'v': 54,\n            'f': \"54\",\n        },\n\" Dominican-Republic\",\n\" >50K\"],\n [{\n            'v': 183,\n            'f': \"183\",\n        },\n{\n            'v': 28,\n            'f': \"28\",\n        },\n\" Private\",\n{\n            'v': 185957,\n            'f': \"185957\",\n        },\n\" HS-grad\",\n{\n            'v': 9,\n            'f': \"9\",\n        },\n\" Married-civ-spouse\",\n\" Adm-clerical\",\n\" Wife\",\n\" White\",\n\" Female\",\n{\n            'v': 0,\n            'f': \"0\",\n        },\n{\n            'v': 0,\n            'f': \"0\",\n        },\n{\n            'v': 40,\n            'f': \"40\",\n        },\n\" United-States\",\n\" <=50K\"],\n [{\n            'v': 184,\n            'f': \"184\",\n        },\n{\n            'v': 40,\n            'f': \"40\",\n        },\n\" Private\",\n{\n            'v': 105936,\n            'f': \"105936\",\n        },\n\" HS-grad\",\n{\n            'v': 9,\n            'f': \"9\",\n        },\n\" Married-civ-spouse\",\n\" Sales\",\n\" Wife\",\n\" White\",\n\" Female\",\n{\n            'v': 5013,\n            'f': \"5013\",\n        },\n{\n            'v': 0,\n            'f': \"0\",\n        },\n{\n            'v': 20,\n            'f': \"20\",\n        },\n\" United-States\",\n\" <=50K\"],\n [{\n            'v': 185,\n            'f': \"185\",\n        },\n{\n            'v': 38,\n            'f': \"38\",\n        },\n\" Private\",\n{\n            'v': 187264,\n            'f': \"187264\",\n        },\n\" HS-grad\",\n{\n            'v': 9,\n            'f': \"9\",\n        },\n\" Married-civ-spouse\",\n\" Exec-managerial\",\n\" Wife\",\n\" White\",\n\" Female\",\n{\n            'v': 0,\n            'f': \"0\",\n        },\n{\n            'v': 0,\n            'f': \"0\",\n        },\n{\n            'v': 55,\n            'f': \"55\",\n        },\n\" United-States\",\n\" <=50K\"],\n [{\n            'v': 186,\n            'f': \"186\",\n        },\n{\n            'v': 54,\n            'f': \"54\",\n        },\n\" Self-emp-not-inc\",\n{\n            'v': 32778,\n            'f': \"32778\",\n        },\n\" HS-grad\",\n{\n            'v': 9,\n            'f': \"9\",\n        },\n\" Married-civ-spouse\",\n\" Sales\",\n\" Wife\",\n\" White\",\n\" Female\",\n{\n            'v': 0,\n            'f': \"0\",\n        },\n{\n            'v': 0,\n            'f': \"0\",\n        },\n{\n            'v': 30,\n            'f': \"30\",\n        },\n\" United-States\",\n\" <=50K\"],\n [{\n            'v': 187,\n            'f': \"187\",\n        },\n{\n            'v': 19,\n            'f': \"19\",\n        },\n\" Federal-gov\",\n{\n            'v': 30559,\n            'f': \"30559\",\n        },\n\" HS-grad\",\n{\n            'v': 9,\n            'f': \"9\",\n        },\n\" Married-AF-spouse\",\n\" Sales\",\n\" Wife\",\n\" White\",\n\" Female\",\n{\n            'v': 0,\n            'f': \"0\",\n        },\n{\n            'v': 0,\n            'f': \"0\",\n        },\n{\n            'v': 40,\n            'f': \"40\",\n        },\n\" United-States\",\n\" <=50K\"],\n [{\n            'v': 188,\n            'f': \"188\",\n        },\n{\n            'v': 22,\n            'f': \"22\",\n        },\n\" ?\",\n{\n            'v': 35448,\n            'f': \"35448\",\n        },\n\" HS-grad\",\n{\n            'v': 9,\n            'f': \"9\",\n        },\n\" Married-civ-spouse\",\n\" ?\",\n\" Wife\",\n\" White\",\n\" Female\",\n{\n            'v': 0,\n            'f': \"0\",\n        },\n{\n            'v': 0,\n            'f': \"0\",\n        },\n{\n            'v': 22,\n            'f': \"22\",\n        },\n\" United-States\",\n\" <=50K\"],\n [{\n            'v': 189,\n            'f': \"189\",\n        },\n{\n            'v': 44,\n            'f': \"44\",\n        },\n\" Self-emp-inc\",\n{\n            'v': 168845,\n            'f': \"168845\",\n        },\n\" HS-grad\",\n{\n            'v': 9,\n            'f': \"9\",\n        },\n\" Married-civ-spouse\",\n\" Sales\",\n\" Wife\",\n\" White\",\n\" Female\",\n{\n            'v': 0,\n            'f': \"0\",\n        },\n{\n            'v': 0,\n            'f': \"0\",\n        },\n{\n            'v': 60,\n            'f': \"60\",\n        },\n\" United-States\",\n\" <=50K\"],\n [{\n            'v': 190,\n            'f': \"190\",\n        },\n{\n            'v': 26,\n            'f': \"26\",\n        },\n\" Private\",\n{\n            'v': 31290,\n            'f': \"31290\",\n        },\n\" HS-grad\",\n{\n            'v': 9,\n            'f': \"9\",\n        },\n\" Married-civ-spouse\",\n\" Adm-clerical\",\n\" Wife\",\n\" White\",\n\" Female\",\n{\n            'v': 0,\n            'f': \"0\",\n        },\n{\n            'v': 0,\n            'f': \"0\",\n        },\n{\n            'v': 40,\n            'f': \"40\",\n        },\n\" United-States\",\n\" >50K\"],\n [{\n            'v': 191,\n            'f': \"191\",\n        },\n{\n            'v': 53,\n            'f': \"53\",\n        },\n\" Local-gov\",\n{\n            'v': 110510,\n            'f': \"110510\",\n        },\n\" HS-grad\",\n{\n            'v': 9,\n            'f': \"9\",\n        },\n\" Married-civ-spouse\",\n\" Exec-managerial\",\n\" Wife\",\n\" White\",\n\" Female\",\n{\n            'v': 0,\n            'f': \"0\",\n        },\n{\n            'v': 0,\n            'f': \"0\",\n        },\n{\n            'v': 50,\n            'f': \"50\",\n        },\n\" United-States\",\n\" >50K\"],\n [{\n            'v': 192,\n            'f': \"192\",\n        },\n{\n            'v': 39,\n            'f': \"39\",\n        },\n\" Private\",\n{\n            'v': 208778,\n            'f': \"208778\",\n        },\n\" HS-grad\",\n{\n            'v': 9,\n            'f': \"9\",\n        },\n\" Married-civ-spouse\",\n\" Machine-op-inspct\",\n\" Wife\",\n\" White\",\n\" Female\",\n{\n            'v': 0,\n            'f': \"0\",\n        },\n{\n            'v': 0,\n            'f': \"0\",\n        },\n{\n            'v': 40,\n            'f': \"40\",\n        },\n\" United-States\",\n\" >50K\"],\n [{\n            'v': 193,\n            'f': \"193\",\n        },\n{\n            'v': 64,\n            'f': \"64\",\n        },\n\" Self-emp-inc\",\n{\n            'v': 132832,\n            'f': \"132832\",\n        },\n\" HS-grad\",\n{\n            'v': 9,\n            'f': \"9\",\n        },\n\" Married-civ-spouse\",\n\" Adm-clerical\",\n\" Wife\",\n\" White\",\n\" Female\",\n{\n            'v': 20051,\n            'f': \"20051\",\n        },\n{\n            'v': 0,\n            'f': \"0\",\n        },\n{\n            'v': 40,\n            'f': \"40\",\n        },\n\" ?\",\n\" >50K\"],\n [{\n            'v': 194,\n            'f': \"194\",\n        },\n{\n            'v': 21,\n            'f': \"21\",\n        },\n\" ?\",\n{\n            'v': 224209,\n            'f': \"224209\",\n        },\n\" HS-grad\",\n{\n            'v': 9,\n            'f': \"9\",\n        },\n\" Married-civ-spouse\",\n\" ?\",\n\" Wife\",\n\" Black\",\n\" Female\",\n{\n            'v': 0,\n            'f': \"0\",\n        },\n{\n            'v': 0,\n            'f': \"0\",\n        },\n{\n            'v': 30,\n            'f': \"30\",\n        },\n\" United-States\",\n\" <=50K\"],\n [{\n            'v': 195,\n            'f': \"195\",\n        },\n{\n            'v': 33,\n            'f': \"33\",\n        },\n\" Private\",\n{\n            'v': 262439,\n            'f': \"262439\",\n        },\n\" HS-grad\",\n{\n            'v': 9,\n            'f': \"9\",\n        },\n\" Married-civ-spouse\",\n\" Adm-clerical\",\n\" Wife\",\n\" White\",\n\" Female\",\n{\n            'v': 0,\n            'f': \"0\",\n        },\n{\n            'v': 0,\n            'f': \"0\",\n        },\n{\n            'v': 35,\n            'f': \"35\",\n        },\n\" United-States\",\n\" >50K\"],\n [{\n            'v': 196,\n            'f': \"196\",\n        },\n{\n            'v': 31,\n            'f': \"31\",\n        },\n\" Private\",\n{\n            'v': 196788,\n            'f': \"196788\",\n        },\n\" HS-grad\",\n{\n            'v': 9,\n            'f': \"9\",\n        },\n\" Married-civ-spouse\",\n\" Adm-clerical\",\n\" Wife\",\n\" White\",\n\" Female\",\n{\n            'v': 0,\n            'f': \"0\",\n        },\n{\n            'v': 0,\n            'f': \"0\",\n        },\n{\n            'v': 40,\n            'f': \"40\",\n        },\n\" United-States\",\n\" <=50K\"],\n [{\n            'v': 197,\n            'f': \"197\",\n        },\n{\n            'v': 47,\n            'f': \"47\",\n        },\n\" Private\",\n{\n            'v': 151267,\n            'f': \"151267\",\n        },\n\" HS-grad\",\n{\n            'v': 9,\n            'f': \"9\",\n        },\n\" Married-civ-spouse\",\n\" Machine-op-inspct\",\n\" Wife\",\n\" Black\",\n\" Female\",\n{\n            'v': 15024,\n            'f': \"15024\",\n        },\n{\n            'v': 0,\n            'f': \"0\",\n        },\n{\n            'v': 40,\n            'f': \"40\",\n        },\n\" United-States\",\n\" >50K\"],\n [{\n            'v': 198,\n            'f': \"198\",\n        },\n{\n            'v': 35,\n            'f': \"35\",\n        },\n\" Private\",\n{\n            'v': 148903,\n            'f': \"148903\",\n        },\n\" HS-grad\",\n{\n            'v': 9,\n            'f': \"9\",\n        },\n\" Married-civ-spouse\",\n\" Other-service\",\n\" Wife\",\n\" White\",\n\" Female\",\n{\n            'v': 0,\n            'f': \"0\",\n        },\n{\n            'v': 0,\n            'f': \"0\",\n        },\n{\n            'v': 16,\n            'f': \"16\",\n        },\n\" United-States\",\n\" >50K\"],\n [{\n            'v': 199,\n            'f': \"199\",\n        },\n{\n            'v': 61,\n            'f': \"61\",\n        },\n\" Self-emp-not-inc\",\n{\n            'v': 32423,\n            'f': \"32423\",\n        },\n\" HS-grad\",\n{\n            'v': 9,\n            'f': \"9\",\n        },\n\" Married-civ-spouse\",\n\" Farming-fishing\",\n\" Wife\",\n\" White\",\n\" Female\",\n{\n            'v': 22040,\n            'f': \"22040\",\n        },\n{\n            'v': 0,\n            'f': \"0\",\n        },\n{\n            'v': 40,\n            'f': \"40\",\n        },\n\" United-States\",\n\" <=50K\"]],\n        columns: [[\"number\", \"index\"], [\"number\", \"age\"], [\"string\", \"workclass\"], [\"number\", \"functional_weight\"], [\"string\", \"education\"], [\"number\", \"education_num\"], [\"string\", \"marital_status\"], [\"string\", \"occupation\"], [\"string\", \"relationship\"], [\"string\", \"race\"], [\"string\", \"sex\"], [\"number\", \"capital_gain\"], [\"number\", \"capital_loss\"], [\"number\", \"hours_per_week\"], [\"string\", \"native_country\"], [\"string\", \"income_bracket\"]],\n        columnOptions: [{\"width\": \"1px\", \"className\": \"index_column\"}],\n        rowsPerPage: 25,\n        helpUrl: \"https://colab.research.google.com/notebooks/data_table.ipynb\",\n        suppressOutputScrolling: true,\n        minimumWidth: undefined,\n      });\n    ",
            "text/html": [
              "<div>\n",
              "<style scoped>\n",
              "    .dataframe tbody tr th:only-of-type {\n",
              "        vertical-align: middle;\n",
              "    }\n",
              "\n",
              "    .dataframe tbody tr th {\n",
              "        vertical-align: top;\n",
              "    }\n",
              "\n",
              "    .dataframe thead th {\n",
              "        text-align: right;\n",
              "    }\n",
              "</style>\n",
              "<table border=\"1\" class=\"dataframe\">\n",
              "  <thead>\n",
              "    <tr style=\"text-align: right;\">\n",
              "      <th></th>\n",
              "      <th>age</th>\n",
              "      <th>workclass</th>\n",
              "      <th>functional_weight</th>\n",
              "      <th>education</th>\n",
              "      <th>education_num</th>\n",
              "      <th>marital_status</th>\n",
              "      <th>occupation</th>\n",
              "      <th>relationship</th>\n",
              "      <th>race</th>\n",
              "      <th>sex</th>\n",
              "      <th>capital_gain</th>\n",
              "      <th>capital_loss</th>\n",
              "      <th>hours_per_week</th>\n",
              "      <th>native_country</th>\n",
              "      <th>income_bracket</th>\n",
              "    </tr>\n",
              "  </thead>\n",
              "  <tbody>\n",
              "    <tr>\n",
              "      <th>0</th>\n",
              "      <td>39</td>\n",
              "      <td>Private</td>\n",
              "      <td>297847</td>\n",
              "      <td>9th</td>\n",
              "      <td>5</td>\n",
              "      <td>Married-civ-spouse</td>\n",
              "      <td>Other-service</td>\n",
              "      <td>Wife</td>\n",
              "      <td>Black</td>\n",
              "      <td>Female</td>\n",
              "      <td>3411</td>\n",
              "      <td>0</td>\n",
              "      <td>34</td>\n",
              "      <td>United-States</td>\n",
              "      <td>&lt;=50K</td>\n",
              "    </tr>\n",
              "    <tr>\n",
              "      <th>1</th>\n",
              "      <td>72</td>\n",
              "      <td>Private</td>\n",
              "      <td>74141</td>\n",
              "      <td>9th</td>\n",
              "      <td>5</td>\n",
              "      <td>Married-civ-spouse</td>\n",
              "      <td>Exec-managerial</td>\n",
              "      <td>Wife</td>\n",
              "      <td>Asian-Pac-Islander</td>\n",
              "      <td>Female</td>\n",
              "      <td>0</td>\n",
              "      <td>0</td>\n",
              "      <td>48</td>\n",
              "      <td>United-States</td>\n",
              "      <td>&gt;50K</td>\n",
              "    </tr>\n",
              "    <tr>\n",
              "      <th>2</th>\n",
              "      <td>45</td>\n",
              "      <td>Private</td>\n",
              "      <td>178215</td>\n",
              "      <td>9th</td>\n",
              "      <td>5</td>\n",
              "      <td>Married-civ-spouse</td>\n",
              "      <td>Machine-op-inspct</td>\n",
              "      <td>Wife</td>\n",
              "      <td>White</td>\n",
              "      <td>Female</td>\n",
              "      <td>0</td>\n",
              "      <td>0</td>\n",
              "      <td>40</td>\n",
              "      <td>United-States</td>\n",
              "      <td>&gt;50K</td>\n",
              "    </tr>\n",
              "    <tr>\n",
              "      <th>3</th>\n",
              "      <td>31</td>\n",
              "      <td>Private</td>\n",
              "      <td>86958</td>\n",
              "      <td>9th</td>\n",
              "      <td>5</td>\n",
              "      <td>Married-civ-spouse</td>\n",
              "      <td>Exec-managerial</td>\n",
              "      <td>Wife</td>\n",
              "      <td>White</td>\n",
              "      <td>Female</td>\n",
              "      <td>0</td>\n",
              "      <td>0</td>\n",
              "      <td>40</td>\n",
              "      <td>United-States</td>\n",
              "      <td>&lt;=50K</td>\n",
              "    </tr>\n",
              "    <tr>\n",
              "      <th>4</th>\n",
              "      <td>55</td>\n",
              "      <td>Private</td>\n",
              "      <td>176012</td>\n",
              "      <td>9th</td>\n",
              "      <td>5</td>\n",
              "      <td>Married-civ-spouse</td>\n",
              "      <td>Tech-support</td>\n",
              "      <td>Wife</td>\n",
              "      <td>White</td>\n",
              "      <td>Female</td>\n",
              "      <td>0</td>\n",
              "      <td>0</td>\n",
              "      <td>23</td>\n",
              "      <td>United-States</td>\n",
              "      <td>&lt;=50K</td>\n",
              "    </tr>\n",
              "    <tr>\n",
              "      <th>...</th>\n",
              "      <td>...</td>\n",
              "      <td>...</td>\n",
              "      <td>...</td>\n",
              "      <td>...</td>\n",
              "      <td>...</td>\n",
              "      <td>...</td>\n",
              "      <td>...</td>\n",
              "      <td>...</td>\n",
              "      <td>...</td>\n",
              "      <td>...</td>\n",
              "      <td>...</td>\n",
              "      <td>...</td>\n",
              "      <td>...</td>\n",
              "      <td>...</td>\n",
              "      <td>...</td>\n",
              "    </tr>\n",
              "    <tr>\n",
              "      <th>195</th>\n",
              "      <td>33</td>\n",
              "      <td>Private</td>\n",
              "      <td>262439</td>\n",
              "      <td>HS-grad</td>\n",
              "      <td>9</td>\n",
              "      <td>Married-civ-spouse</td>\n",
              "      <td>Adm-clerical</td>\n",
              "      <td>Wife</td>\n",
              "      <td>White</td>\n",
              "      <td>Female</td>\n",
              "      <td>0</td>\n",
              "      <td>0</td>\n",
              "      <td>35</td>\n",
              "      <td>United-States</td>\n",
              "      <td>&gt;50K</td>\n",
              "    </tr>\n",
              "    <tr>\n",
              "      <th>196</th>\n",
              "      <td>31</td>\n",
              "      <td>Private</td>\n",
              "      <td>196788</td>\n",
              "      <td>HS-grad</td>\n",
              "      <td>9</td>\n",
              "      <td>Married-civ-spouse</td>\n",
              "      <td>Adm-clerical</td>\n",
              "      <td>Wife</td>\n",
              "      <td>White</td>\n",
              "      <td>Female</td>\n",
              "      <td>0</td>\n",
              "      <td>0</td>\n",
              "      <td>40</td>\n",
              "      <td>United-States</td>\n",
              "      <td>&lt;=50K</td>\n",
              "    </tr>\n",
              "    <tr>\n",
              "      <th>197</th>\n",
              "      <td>47</td>\n",
              "      <td>Private</td>\n",
              "      <td>151267</td>\n",
              "      <td>HS-grad</td>\n",
              "      <td>9</td>\n",
              "      <td>Married-civ-spouse</td>\n",
              "      <td>Machine-op-inspct</td>\n",
              "      <td>Wife</td>\n",
              "      <td>Black</td>\n",
              "      <td>Female</td>\n",
              "      <td>15024</td>\n",
              "      <td>0</td>\n",
              "      <td>40</td>\n",
              "      <td>United-States</td>\n",
              "      <td>&gt;50K</td>\n",
              "    </tr>\n",
              "    <tr>\n",
              "      <th>198</th>\n",
              "      <td>35</td>\n",
              "      <td>Private</td>\n",
              "      <td>148903</td>\n",
              "      <td>HS-grad</td>\n",
              "      <td>9</td>\n",
              "      <td>Married-civ-spouse</td>\n",
              "      <td>Other-service</td>\n",
              "      <td>Wife</td>\n",
              "      <td>White</td>\n",
              "      <td>Female</td>\n",
              "      <td>0</td>\n",
              "      <td>0</td>\n",
              "      <td>16</td>\n",
              "      <td>United-States</td>\n",
              "      <td>&gt;50K</td>\n",
              "    </tr>\n",
              "    <tr>\n",
              "      <th>199</th>\n",
              "      <td>61</td>\n",
              "      <td>Self-emp-not-inc</td>\n",
              "      <td>32423</td>\n",
              "      <td>HS-grad</td>\n",
              "      <td>9</td>\n",
              "      <td>Married-civ-spouse</td>\n",
              "      <td>Farming-fishing</td>\n",
              "      <td>Wife</td>\n",
              "      <td>White</td>\n",
              "      <td>Female</td>\n",
              "      <td>22040</td>\n",
              "      <td>0</td>\n",
              "      <td>40</td>\n",
              "      <td>United-States</td>\n",
              "      <td>&lt;=50K</td>\n",
              "    </tr>\n",
              "  </tbody>\n",
              "</table>\n",
              "<p>200 rows × 15 columns</p>\n",
              "</div>"
            ],
            "text/plain": [
              "     age          workclass  ...  native_country income_bracket\n",
              "0     39            Private  ...   United-States          <=50K\n",
              "1     72            Private  ...   United-States           >50K\n",
              "2     45            Private  ...   United-States           >50K\n",
              "3     31            Private  ...   United-States          <=50K\n",
              "4     55            Private  ...   United-States          <=50K\n",
              "..   ...                ...  ...             ...            ...\n",
              "195   33            Private  ...   United-States           >50K\n",
              "196   31            Private  ...   United-States          <=50K\n",
              "197   47            Private  ...   United-States           >50K\n",
              "198   35            Private  ...   United-States           >50K\n",
              "199   61   Self-emp-not-inc  ...   United-States          <=50K\n",
              "\n",
              "[200 rows x 15 columns]"
            ]
          },
          "metadata": {
            "tags": []
          },
          "execution_count": 20
        }
      ]
    },
    {
      "cell_type": "code",
      "metadata": {
        "colab": {
          "base_uri": "https://localhost:8080/"
        },
        "id": "oabUxTzWrTSG",
        "outputId": "15fe8d6e-c1a4-4a4d-edd5-494ce7effd47"
      },
      "source": [
        "print(len(df_census))"
      ],
      "execution_count": 21,
      "outputs": [
        {
          "output_type": "stream",
          "text": [
            "32561\n"
          ],
          "name": "stdout"
        }
      ]
    },
    {
      "cell_type": "code",
      "metadata": {
        "colab": {
          "base_uri": "https://localhost:8080/"
        },
        "id": "_Ekvhc1WrVWe",
        "outputId": "f7b2014b-0961-4d95-940a-2cf62ea2b788"
      },
      "source": [
        "df_census.dtypes"
      ],
      "execution_count": 22,
      "outputs": [
        {
          "output_type": "execute_result",
          "data": {
            "text/plain": [
              "age                   int64\n",
              "workclass            object\n",
              "functional_weight     int64\n",
              "education            object\n",
              "education_num         int64\n",
              "marital_status       object\n",
              "occupation           object\n",
              "relationship         object\n",
              "race                 object\n",
              "sex                  object\n",
              "capital_gain          int64\n",
              "capital_loss          int64\n",
              "hours_per_week        int64\n",
              "native_country       object\n",
              "income_bracket       object\n",
              "dtype: object"
            ]
          },
          "metadata": {
            "tags": []
          },
          "execution_count": 22
        }
      ]
    },
    {
      "cell_type": "markdown",
      "metadata": {
        "id": "gyGYMtIHryrp"
      },
      "source": [
        "Feature Extraction "
      ]
    },
    {
      "cell_type": "code",
      "metadata": {
        "colab": {
          "base_uri": "https://localhost:8080/"
        },
        "id": "0TLGP1Xrr1Za",
        "outputId": "65e09de9-75be-4375-f942-630b8f47a51f"
      },
      "source": [
        "df_census_sex=df_census['sex']\n",
        "df_census_sex.head()"
      ],
      "execution_count": 24,
      "outputs": [
        {
          "output_type": "execute_result",
          "data": {
            "text/plain": [
              "0     Female\n",
              "1     Female\n",
              "2     Female\n",
              "3     Female\n",
              "4     Female\n",
              "Name: sex, dtype: object"
            ]
          },
          "metadata": {
            "tags": []
          },
          "execution_count": 24
        }
      ]
    },
    {
      "cell_type": "code",
      "metadata": {
        "colab": {
          "base_uri": "https://localhost:8080/"
        },
        "id": "CYGNvqbvr3XS",
        "outputId": "195f0917-ea00-4b3c-ba21-a11a41bb3417"
      },
      "source": [
        "from sklearn.preprocessing import LabelEncoder\n",
        "gender = LabelEncoder()\n",
        "gender.fit(df_census_sex)\n",
        "print(gender.classes_)"
      ],
      "execution_count": 25,
      "outputs": [
        {
          "output_type": "stream",
          "text": [
            "[' Female' ' Male']\n"
          ],
          "name": "stdout"
        }
      ]
    },
    {
      "cell_type": "code",
      "metadata": {
        "colab": {
          "base_uri": "https://localhost:8080/"
        },
        "id": "QPizisY0r3Zy",
        "outputId": "93346a7d-fbaa-4f1f-e0ab-3de9706307b9"
      },
      "source": [
        "# transform a simple simulation data\n",
        "print(gender.transform([\n",
        "    ' Female', ' Female', ' Male', ' Female', ' Male'\n",
        "]))"
      ],
      "execution_count": 26,
      "outputs": [
        {
          "output_type": "stream",
          "text": [
            "[0 0 1 0 1]\n"
          ],
          "name": "stdout"
        }
      ]
    },
    {
      "cell_type": "code",
      "metadata": {
        "id": "F8MzhSGXr3cJ"
      },
      "source": [
        "#In order to create a multicolumn LabelEncoder, we’ll have to extend the TransformerMixin in Scikit-Learn to create a transformer class of our own\n",
        "from sklearn.base import BaseEstimator, TransformerMixin\n",
        "class EncodeCategorical(BaseEstimator, TransformerMixin):\n",
        "    \"\"\"\n",
        "    Encodes a specified list of columns or all columns if None.\n",
        "    \"\"\"\n",
        "    def __init__(self, columns=None):\n",
        "        self.columns  = columns\n",
        "        self.encoders = None\n",
        "    def fit(self, data, target=None):\n",
        "        \"\"\"\n",
        "        Expects a data frame with named columns to encode.\n",
        "        \"\"\"\n",
        "        # Encode all columns if columns is None\n",
        "        if self.columns is None:\n",
        "            self.columns = data.columns\n",
        "        # Fit a label encoder for each column in the data frame\n",
        "        self.encoders = {\n",
        "            column: LabelEncoder().fit(data[column])\n",
        "            for column in self.columns\n",
        "        }\n",
        "        return self\n",
        "    def transform(self, data):\n",
        "        \"\"\"\n",
        "        Uses the encoders to transform a data frame.\n",
        "        \"\"\"\n",
        "        output = data.copy()\n",
        "        for column, encoder in self.encoders.items():\n",
        "            output[column] = encoder.transform(data[column])\n",
        "        return output"
      ],
      "execution_count": 27,
      "outputs": []
    },
    {
      "cell_type": "code",
      "metadata": {
        "colab": {
          "base_uri": "https://localhost:8080/"
        },
        "id": "zWvhLHUOr3ef",
        "outputId": "e8d1b1c9-9c9a-4222-98a1-f812ae2cd37e"
      },
      "source": [
        "numeric_columns = df_census.select_dtypes(['int64']).columns\n",
        "numeric_columns"
      ],
      "execution_count": 28,
      "outputs": [
        {
          "output_type": "execute_result",
          "data": {
            "text/plain": [
              "Index(['age', 'functional_weight', 'education_num', 'capital_gain',\n",
              "       'capital_loss', 'hours_per_week'],\n",
              "      dtype='object')"
            ]
          },
          "metadata": {
            "tags": []
          },
          "execution_count": 28
        }
      ]
    },
    {
      "cell_type": "code",
      "metadata": {
        "id": "cs1cK5aSr3g3"
      },
      "source": [
        "# Convert integer valued (numeric) columns to floating point\n",
        "df_census[numeric_columns] = df_census[numeric_columns].astype('float32') # change to float"
      ],
      "execution_count": 29,
      "outputs": []
    },
    {
      "cell_type": "code",
      "metadata": {
        "colab": {
          "base_uri": "https://localhost:8080/",
          "height": 290
        },
        "id": "5CGgGgrlsAmf",
        "outputId": "7a3ee770-8cc5-4b5b-cafd-0a4eff8db8a5"
      },
      "source": [
        "df_census.head()"
      ],
      "execution_count": 30,
      "outputs": [
        {
          "output_type": "execute_result",
          "data": {
            "application/vnd.google.colaboratory.module+javascript": "\n      import \"https://ssl.gstatic.com/colaboratory/data_table/a6224c040fa35dcf/data_table.js\";\n\n      window.createDataTable({\n        data: [[{\n            'v': 0,\n            'f': \"0\",\n        },\n{\n            'v': 39.0,\n            'f': \"39.0\",\n        },\n\" Private\",\n{\n            'v': 297847.0,\n            'f': \"297847.0\",\n        },\n\" 9th\",\n{\n            'v': 5.0,\n            'f': \"5.0\",\n        },\n\" Married-civ-spouse\",\n\" Other-service\",\n\" Wife\",\n\" Black\",\n\" Female\",\n{\n            'v': 3411.0,\n            'f': \"3411.0\",\n        },\n{\n            'v': 0.0,\n            'f': \"0.0\",\n        },\n{\n            'v': 34.0,\n            'f': \"34.0\",\n        },\n\" United-States\",\n\" <=50K\"],\n [{\n            'v': 1,\n            'f': \"1\",\n        },\n{\n            'v': 72.0,\n            'f': \"72.0\",\n        },\n\" Private\",\n{\n            'v': 74141.0,\n            'f': \"74141.0\",\n        },\n\" 9th\",\n{\n            'v': 5.0,\n            'f': \"5.0\",\n        },\n\" Married-civ-spouse\",\n\" Exec-managerial\",\n\" Wife\",\n\" Asian-Pac-Islander\",\n\" Female\",\n{\n            'v': 0.0,\n            'f': \"0.0\",\n        },\n{\n            'v': 0.0,\n            'f': \"0.0\",\n        },\n{\n            'v': 48.0,\n            'f': \"48.0\",\n        },\n\" United-States\",\n\" >50K\"],\n [{\n            'v': 2,\n            'f': \"2\",\n        },\n{\n            'v': 45.0,\n            'f': \"45.0\",\n        },\n\" Private\",\n{\n            'v': 178215.0,\n            'f': \"178215.0\",\n        },\n\" 9th\",\n{\n            'v': 5.0,\n            'f': \"5.0\",\n        },\n\" Married-civ-spouse\",\n\" Machine-op-inspct\",\n\" Wife\",\n\" White\",\n\" Female\",\n{\n            'v': 0.0,\n            'f': \"0.0\",\n        },\n{\n            'v': 0.0,\n            'f': \"0.0\",\n        },\n{\n            'v': 40.0,\n            'f': \"40.0\",\n        },\n\" United-States\",\n\" >50K\"],\n [{\n            'v': 3,\n            'f': \"3\",\n        },\n{\n            'v': 31.0,\n            'f': \"31.0\",\n        },\n\" Private\",\n{\n            'v': 86958.0,\n            'f': \"86958.0\",\n        },\n\" 9th\",\n{\n            'v': 5.0,\n            'f': \"5.0\",\n        },\n\" Married-civ-spouse\",\n\" Exec-managerial\",\n\" Wife\",\n\" White\",\n\" Female\",\n{\n            'v': 0.0,\n            'f': \"0.0\",\n        },\n{\n            'v': 0.0,\n            'f': \"0.0\",\n        },\n{\n            'v': 40.0,\n            'f': \"40.0\",\n        },\n\" United-States\",\n\" <=50K\"],\n [{\n            'v': 4,\n            'f': \"4\",\n        },\n{\n            'v': 55.0,\n            'f': \"55.0\",\n        },\n\" Private\",\n{\n            'v': 176012.0,\n            'f': \"176012.0\",\n        },\n\" 9th\",\n{\n            'v': 5.0,\n            'f': \"5.0\",\n        },\n\" Married-civ-spouse\",\n\" Tech-support\",\n\" Wife\",\n\" White\",\n\" Female\",\n{\n            'v': 0.0,\n            'f': \"0.0\",\n        },\n{\n            'v': 0.0,\n            'f': \"0.0\",\n        },\n{\n            'v': 23.0,\n            'f': \"23.0\",\n        },\n\" United-States\",\n\" <=50K\"]],\n        columns: [[\"number\", \"index\"], [\"number\", \"age\"], [\"string\", \"workclass\"], [\"number\", \"functional_weight\"], [\"string\", \"education\"], [\"number\", \"education_num\"], [\"string\", \"marital_status\"], [\"string\", \"occupation\"], [\"string\", \"relationship\"], [\"string\", \"race\"], [\"string\", \"sex\"], [\"number\", \"capital_gain\"], [\"number\", \"capital_loss\"], [\"number\", \"hours_per_week\"], [\"string\", \"native_country\"], [\"string\", \"income_bracket\"]],\n        columnOptions: [{\"width\": \"1px\", \"className\": \"index_column\"}],\n        rowsPerPage: 25,\n        helpUrl: \"https://colab.research.google.com/notebooks/data_table.ipynb\",\n        suppressOutputScrolling: true,\n        minimumWidth: undefined,\n      });\n    ",
            "text/html": [
              "<div>\n",
              "<style scoped>\n",
              "    .dataframe tbody tr th:only-of-type {\n",
              "        vertical-align: middle;\n",
              "    }\n",
              "\n",
              "    .dataframe tbody tr th {\n",
              "        vertical-align: top;\n",
              "    }\n",
              "\n",
              "    .dataframe thead th {\n",
              "        text-align: right;\n",
              "    }\n",
              "</style>\n",
              "<table border=\"1\" class=\"dataframe\">\n",
              "  <thead>\n",
              "    <tr style=\"text-align: right;\">\n",
              "      <th></th>\n",
              "      <th>age</th>\n",
              "      <th>workclass</th>\n",
              "      <th>functional_weight</th>\n",
              "      <th>education</th>\n",
              "      <th>education_num</th>\n",
              "      <th>marital_status</th>\n",
              "      <th>occupation</th>\n",
              "      <th>relationship</th>\n",
              "      <th>race</th>\n",
              "      <th>sex</th>\n",
              "      <th>capital_gain</th>\n",
              "      <th>capital_loss</th>\n",
              "      <th>hours_per_week</th>\n",
              "      <th>native_country</th>\n",
              "      <th>income_bracket</th>\n",
              "    </tr>\n",
              "  </thead>\n",
              "  <tbody>\n",
              "    <tr>\n",
              "      <th>0</th>\n",
              "      <td>39.0</td>\n",
              "      <td>Private</td>\n",
              "      <td>297847.0</td>\n",
              "      <td>9th</td>\n",
              "      <td>5.0</td>\n",
              "      <td>Married-civ-spouse</td>\n",
              "      <td>Other-service</td>\n",
              "      <td>Wife</td>\n",
              "      <td>Black</td>\n",
              "      <td>Female</td>\n",
              "      <td>3411.0</td>\n",
              "      <td>0.0</td>\n",
              "      <td>34.0</td>\n",
              "      <td>United-States</td>\n",
              "      <td>&lt;=50K</td>\n",
              "    </tr>\n",
              "    <tr>\n",
              "      <th>1</th>\n",
              "      <td>72.0</td>\n",
              "      <td>Private</td>\n",
              "      <td>74141.0</td>\n",
              "      <td>9th</td>\n",
              "      <td>5.0</td>\n",
              "      <td>Married-civ-spouse</td>\n",
              "      <td>Exec-managerial</td>\n",
              "      <td>Wife</td>\n",
              "      <td>Asian-Pac-Islander</td>\n",
              "      <td>Female</td>\n",
              "      <td>0.0</td>\n",
              "      <td>0.0</td>\n",
              "      <td>48.0</td>\n",
              "      <td>United-States</td>\n",
              "      <td>&gt;50K</td>\n",
              "    </tr>\n",
              "    <tr>\n",
              "      <th>2</th>\n",
              "      <td>45.0</td>\n",
              "      <td>Private</td>\n",
              "      <td>178215.0</td>\n",
              "      <td>9th</td>\n",
              "      <td>5.0</td>\n",
              "      <td>Married-civ-spouse</td>\n",
              "      <td>Machine-op-inspct</td>\n",
              "      <td>Wife</td>\n",
              "      <td>White</td>\n",
              "      <td>Female</td>\n",
              "      <td>0.0</td>\n",
              "      <td>0.0</td>\n",
              "      <td>40.0</td>\n",
              "      <td>United-States</td>\n",
              "      <td>&gt;50K</td>\n",
              "    </tr>\n",
              "    <tr>\n",
              "      <th>3</th>\n",
              "      <td>31.0</td>\n",
              "      <td>Private</td>\n",
              "      <td>86958.0</td>\n",
              "      <td>9th</td>\n",
              "      <td>5.0</td>\n",
              "      <td>Married-civ-spouse</td>\n",
              "      <td>Exec-managerial</td>\n",
              "      <td>Wife</td>\n",
              "      <td>White</td>\n",
              "      <td>Female</td>\n",
              "      <td>0.0</td>\n",
              "      <td>0.0</td>\n",
              "      <td>40.0</td>\n",
              "      <td>United-States</td>\n",
              "      <td>&lt;=50K</td>\n",
              "    </tr>\n",
              "    <tr>\n",
              "      <th>4</th>\n",
              "      <td>55.0</td>\n",
              "      <td>Private</td>\n",
              "      <td>176012.0</td>\n",
              "      <td>9th</td>\n",
              "      <td>5.0</td>\n",
              "      <td>Married-civ-spouse</td>\n",
              "      <td>Tech-support</td>\n",
              "      <td>Wife</td>\n",
              "      <td>White</td>\n",
              "      <td>Female</td>\n",
              "      <td>0.0</td>\n",
              "      <td>0.0</td>\n",
              "      <td>23.0</td>\n",
              "      <td>United-States</td>\n",
              "      <td>&lt;=50K</td>\n",
              "    </tr>\n",
              "  </tbody>\n",
              "</table>\n",
              "</div>"
            ],
            "text/plain": [
              "    age workclass  ...  native_country income_bracket\n",
              "0  39.0   Private  ...   United-States          <=50K\n",
              "1  72.0   Private  ...   United-States           >50K\n",
              "2  45.0   Private  ...   United-States           >50K\n",
              "3  31.0   Private  ...   United-States          <=50K\n",
              "4  55.0   Private  ...   United-States          <=50K\n",
              "\n",
              "[5 rows x 15 columns]"
            ]
          },
          "metadata": {
            "tags": []
          },
          "execution_count": 30
        }
      ]
    },
    {
      "cell_type": "code",
      "metadata": {
        "colab": {
          "base_uri": "https://localhost:8080/"
        },
        "id": "L647H0SCsAo8",
        "outputId": "6eadde6d-dd80-4682-d4ee-a80bbcee2748"
      },
      "source": [
        "cat_columns = df_census.select_dtypes(['object']).columns\n",
        "cat_columns"
      ],
      "execution_count": 31,
      "outputs": [
        {
          "output_type": "execute_result",
          "data": {
            "text/plain": [
              "Index(['workclass', 'education', 'marital_status', 'occupation',\n",
              "       'relationship', 'race', 'sex', 'native_country', 'income_bracket'],\n",
              "      dtype='object')"
            ]
          },
          "metadata": {
            "tags": []
          },
          "execution_count": 31
        }
      ]
    },
    {
      "cell_type": "code",
      "metadata": {
        "colab": {
          "base_uri": "https://localhost:8080/"
        },
        "id": "iFrQqCicsArx",
        "outputId": "30ab1a0c-fd10-4b42-9695-e65524eaaea3"
      },
      "source": [
        "test = LabelEncoder()\n",
        "test.fit(df_census[cat_columns[0]])\n",
        "print(test.classes_)"
      ],
      "execution_count": 32,
      "outputs": [
        {
          "output_type": "stream",
          "text": [
            "[' ?' ' Federal-gov' ' Local-gov' ' Never-worked' ' Private'\n",
            " ' Self-emp-inc' ' Self-emp-not-inc' ' State-gov' ' Without-pay']\n"
          ],
          "name": "stdout"
        }
      ]
    },
    {
      "cell_type": "code",
      "metadata": {
        "colab": {
          "base_uri": "https://localhost:8080/"
        },
        "id": "LYBvMTMQsH78",
        "outputId": "61ef9cf5-8ba8-461a-d5a3-1029f3770831"
      },
      "source": [
        "test.fit(df_census[cat_columns[1]])\n",
        "print(test.classes_)"
      ],
      "execution_count": 33,
      "outputs": [
        {
          "output_type": "stream",
          "text": [
            "[' 10th' ' 11th' ' 12th' ' 1st-4th' ' 5th-6th' ' 7th-8th' ' 9th'\n",
            " ' Assoc-acdm' ' Assoc-voc' ' Bachelors' ' Doctorate' ' HS-grad'\n",
            " ' Masters' ' Preschool' ' Prof-school' ' Some-college']\n"
          ],
          "name": "stdout"
        }
      ]
    },
    {
      "cell_type": "code",
      "metadata": {
        "colab": {
          "base_uri": "https://localhost:8080/"
        },
        "id": "BPSQ-_omsH-i",
        "outputId": "cf1f514f-141c-4175-d8fb-9d89aeebf0a0"
      },
      "source": [
        "test.fit(df_census[cat_columns[2]])\n",
        "print(test.classes_)"
      ],
      "execution_count": 34,
      "outputs": [
        {
          "output_type": "stream",
          "text": [
            "[' Divorced' ' Married-AF-spouse' ' Married-civ-spouse'\n",
            " ' Married-spouse-absent' ' Never-married' ' Separated' ' Widowed']\n"
          ],
          "name": "stdout"
        }
      ]
    },
    {
      "cell_type": "code",
      "metadata": {
        "colab": {
          "base_uri": "https://localhost:8080/"
        },
        "id": "4U6EczdqsIBP",
        "outputId": "c2ad4a83-c7d2-4de8-eb23-ffd663b0b8b4"
      },
      "source": [
        "test.fit(df_census[cat_columns[3]])\n",
        "print(test.classes_)"
      ],
      "execution_count": 35,
      "outputs": [
        {
          "output_type": "stream",
          "text": [
            "[' ?' ' Adm-clerical' ' Armed-Forces' ' Craft-repair' ' Exec-managerial'\n",
            " ' Farming-fishing' ' Handlers-cleaners' ' Machine-op-inspct'\n",
            " ' Other-service' ' Priv-house-serv' ' Prof-specialty' ' Protective-serv'\n",
            " ' Sales' ' Tech-support' ' Transport-moving']\n"
          ],
          "name": "stdout"
        }
      ]
    },
    {
      "cell_type": "code",
      "metadata": {
        "colab": {
          "base_uri": "https://localhost:8080/"
        },
        "id": "tmS4MOUHsIDz",
        "outputId": "ffd58e5b-656c-4dda-a2eb-b3ffffdd6bf3"
      },
      "source": [
        "test.fit(df_census[cat_columns[4]])\n",
        "print(test.classes_)"
      ],
      "execution_count": 36,
      "outputs": [
        {
          "output_type": "stream",
          "text": [
            "[' Husband' ' Not-in-family' ' Other-relative' ' Own-child' ' Unmarried'\n",
            " ' Wife']\n"
          ],
          "name": "stdout"
        }
      ]
    },
    {
      "cell_type": "code",
      "metadata": {
        "colab": {
          "base_uri": "https://localhost:8080/"
        },
        "id": "XPv8Zf2ksIGf",
        "outputId": "c8f343fc-fc75-4b4e-e3b5-2940f2a19406"
      },
      "source": [
        "test.fit(df_census[cat_columns[5]])\n",
        "print(test.classes_)"
      ],
      "execution_count": 37,
      "outputs": [
        {
          "output_type": "stream",
          "text": [
            "[' Amer-Indian-Eskimo' ' Asian-Pac-Islander' ' Black' ' Other' ' White']\n"
          ],
          "name": "stdout"
        }
      ]
    },
    {
      "cell_type": "code",
      "metadata": {
        "colab": {
          "base_uri": "https://localhost:8080/"
        },
        "id": "kwZ_JaJQsIJB",
        "outputId": "71774518-1dee-4260-fe1d-62c70317f61a"
      },
      "source": [
        "test.fit(df_census[cat_columns[7]])\n",
        "print(test.classes_)"
      ],
      "execution_count": 38,
      "outputs": [
        {
          "output_type": "stream",
          "text": [
            "[' ?' ' Cambodia' ' Canada' ' China' ' Columbia' ' Cuba'\n",
            " ' Dominican-Republic' ' Ecuador' ' El-Salvador' ' England' ' France'\n",
            " ' Germany' ' Greece' ' Guatemala' ' Haiti' ' Holand-Netherlands'\n",
            " ' Honduras' ' Hong' ' Hungary' ' India' ' Iran' ' Ireland' ' Italy'\n",
            " ' Jamaica' ' Japan' ' Laos' ' Mexico' ' Nicaragua'\n",
            " ' Outlying-US(Guam-USVI-etc)' ' Peru' ' Philippines' ' Poland'\n",
            " ' Portugal' ' Puerto-Rico' ' Scotland' ' South' ' Taiwan' ' Thailand'\n",
            " ' Trinadad&Tobago' ' United-States' ' Vietnam' ' Yugoslavia']\n"
          ],
          "name": "stdout"
        }
      ]
    },
    {
      "cell_type": "code",
      "metadata": {
        "colab": {
          "base_uri": "https://localhost:8080/",
          "height": 194
        },
        "id": "dBVDCuXrsAuL",
        "outputId": "79aa26ab-f522-4e21-e581-98cdeb236ba7"
      },
      "source": [
        "encoder = EncodeCategorical(cat_columns)\n",
        "df_census_encoded = encoder.fit_transform(df_census)\n",
        "df_census_encoded.head()"
      ],
      "execution_count": 39,
      "outputs": [
        {
          "output_type": "execute_result",
          "data": {
            "application/vnd.google.colaboratory.module+javascript": "\n      import \"https://ssl.gstatic.com/colaboratory/data_table/a6224c040fa35dcf/data_table.js\";\n\n      window.createDataTable({\n        data: [[{\n            'v': 0,\n            'f': \"0\",\n        },\n{\n            'v': 39.0,\n            'f': \"39.0\",\n        },\n{\n            'v': 4,\n            'f': \"4\",\n        },\n{\n            'v': 297847.0,\n            'f': \"297847.0\",\n        },\n{\n            'v': 6,\n            'f': \"6\",\n        },\n{\n            'v': 5.0,\n            'f': \"5.0\",\n        },\n{\n            'v': 2,\n            'f': \"2\",\n        },\n{\n            'v': 8,\n            'f': \"8\",\n        },\n{\n            'v': 5,\n            'f': \"5\",\n        },\n{\n            'v': 2,\n            'f': \"2\",\n        },\n{\n            'v': 0,\n            'f': \"0\",\n        },\n{\n            'v': 3411.0,\n            'f': \"3411.0\",\n        },\n{\n            'v': 0.0,\n            'f': \"0.0\",\n        },\n{\n            'v': 34.0,\n            'f': \"34.0\",\n        },\n{\n            'v': 39,\n            'f': \"39\",\n        },\n{\n            'v': 0,\n            'f': \"0\",\n        }],\n [{\n            'v': 1,\n            'f': \"1\",\n        },\n{\n            'v': 72.0,\n            'f': \"72.0\",\n        },\n{\n            'v': 4,\n            'f': \"4\",\n        },\n{\n            'v': 74141.0,\n            'f': \"74141.0\",\n        },\n{\n            'v': 6,\n            'f': \"6\",\n        },\n{\n            'v': 5.0,\n            'f': \"5.0\",\n        },\n{\n            'v': 2,\n            'f': \"2\",\n        },\n{\n            'v': 4,\n            'f': \"4\",\n        },\n{\n            'v': 5,\n            'f': \"5\",\n        },\n{\n            'v': 1,\n            'f': \"1\",\n        },\n{\n            'v': 0,\n            'f': \"0\",\n        },\n{\n            'v': 0.0,\n            'f': \"0.0\",\n        },\n{\n            'v': 0.0,\n            'f': \"0.0\",\n        },\n{\n            'v': 48.0,\n            'f': \"48.0\",\n        },\n{\n            'v': 39,\n            'f': \"39\",\n        },\n{\n            'v': 1,\n            'f': \"1\",\n        }],\n [{\n            'v': 2,\n            'f': \"2\",\n        },\n{\n            'v': 45.0,\n            'f': \"45.0\",\n        },\n{\n            'v': 4,\n            'f': \"4\",\n        },\n{\n            'v': 178215.0,\n            'f': \"178215.0\",\n        },\n{\n            'v': 6,\n            'f': \"6\",\n        },\n{\n            'v': 5.0,\n            'f': \"5.0\",\n        },\n{\n            'v': 2,\n            'f': \"2\",\n        },\n{\n            'v': 7,\n            'f': \"7\",\n        },\n{\n            'v': 5,\n            'f': \"5\",\n        },\n{\n            'v': 4,\n            'f': \"4\",\n        },\n{\n            'v': 0,\n            'f': \"0\",\n        },\n{\n            'v': 0.0,\n            'f': \"0.0\",\n        },\n{\n            'v': 0.0,\n            'f': \"0.0\",\n        },\n{\n            'v': 40.0,\n            'f': \"40.0\",\n        },\n{\n            'v': 39,\n            'f': \"39\",\n        },\n{\n            'v': 1,\n            'f': \"1\",\n        }],\n [{\n            'v': 3,\n            'f': \"3\",\n        },\n{\n            'v': 31.0,\n            'f': \"31.0\",\n        },\n{\n            'v': 4,\n            'f': \"4\",\n        },\n{\n            'v': 86958.0,\n            'f': \"86958.0\",\n        },\n{\n            'v': 6,\n            'f': \"6\",\n        },\n{\n            'v': 5.0,\n            'f': \"5.0\",\n        },\n{\n            'v': 2,\n            'f': \"2\",\n        },\n{\n            'v': 4,\n            'f': \"4\",\n        },\n{\n            'v': 5,\n            'f': \"5\",\n        },\n{\n            'v': 4,\n            'f': \"4\",\n        },\n{\n            'v': 0,\n            'f': \"0\",\n        },\n{\n            'v': 0.0,\n            'f': \"0.0\",\n        },\n{\n            'v': 0.0,\n            'f': \"0.0\",\n        },\n{\n            'v': 40.0,\n            'f': \"40.0\",\n        },\n{\n            'v': 39,\n            'f': \"39\",\n        },\n{\n            'v': 0,\n            'f': \"0\",\n        }],\n [{\n            'v': 4,\n            'f': \"4\",\n        },\n{\n            'v': 55.0,\n            'f': \"55.0\",\n        },\n{\n            'v': 4,\n            'f': \"4\",\n        },\n{\n            'v': 176012.0,\n            'f': \"176012.0\",\n        },\n{\n            'v': 6,\n            'f': \"6\",\n        },\n{\n            'v': 5.0,\n            'f': \"5.0\",\n        },\n{\n            'v': 2,\n            'f': \"2\",\n        },\n{\n            'v': 13,\n            'f': \"13\",\n        },\n{\n            'v': 5,\n            'f': \"5\",\n        },\n{\n            'v': 4,\n            'f': \"4\",\n        },\n{\n            'v': 0,\n            'f': \"0\",\n        },\n{\n            'v': 0.0,\n            'f': \"0.0\",\n        },\n{\n            'v': 0.0,\n            'f': \"0.0\",\n        },\n{\n            'v': 23.0,\n            'f': \"23.0\",\n        },\n{\n            'v': 39,\n            'f': \"39\",\n        },\n{\n            'v': 0,\n            'f': \"0\",\n        }]],\n        columns: [[\"number\", \"index\"], [\"number\", \"age\"], [\"number\", \"workclass\"], [\"number\", \"functional_weight\"], [\"number\", \"education\"], [\"number\", \"education_num\"], [\"number\", \"marital_status\"], [\"number\", \"occupation\"], [\"number\", \"relationship\"], [\"number\", \"race\"], [\"number\", \"sex\"], [\"number\", \"capital_gain\"], [\"number\", \"capital_loss\"], [\"number\", \"hours_per_week\"], [\"number\", \"native_country\"], [\"number\", \"income_bracket\"]],\n        columnOptions: [{\"width\": \"1px\", \"className\": \"index_column\"}],\n        rowsPerPage: 25,\n        helpUrl: \"https://colab.research.google.com/notebooks/data_table.ipynb\",\n        suppressOutputScrolling: true,\n        minimumWidth: undefined,\n      });\n    ",
            "text/html": [
              "<div>\n",
              "<style scoped>\n",
              "    .dataframe tbody tr th:only-of-type {\n",
              "        vertical-align: middle;\n",
              "    }\n",
              "\n",
              "    .dataframe tbody tr th {\n",
              "        vertical-align: top;\n",
              "    }\n",
              "\n",
              "    .dataframe thead th {\n",
              "        text-align: right;\n",
              "    }\n",
              "</style>\n",
              "<table border=\"1\" class=\"dataframe\">\n",
              "  <thead>\n",
              "    <tr style=\"text-align: right;\">\n",
              "      <th></th>\n",
              "      <th>age</th>\n",
              "      <th>workclass</th>\n",
              "      <th>functional_weight</th>\n",
              "      <th>education</th>\n",
              "      <th>education_num</th>\n",
              "      <th>marital_status</th>\n",
              "      <th>occupation</th>\n",
              "      <th>relationship</th>\n",
              "      <th>race</th>\n",
              "      <th>sex</th>\n",
              "      <th>capital_gain</th>\n",
              "      <th>capital_loss</th>\n",
              "      <th>hours_per_week</th>\n",
              "      <th>native_country</th>\n",
              "      <th>income_bracket</th>\n",
              "    </tr>\n",
              "  </thead>\n",
              "  <tbody>\n",
              "    <tr>\n",
              "      <th>0</th>\n",
              "      <td>39.0</td>\n",
              "      <td>4</td>\n",
              "      <td>297847.0</td>\n",
              "      <td>6</td>\n",
              "      <td>5.0</td>\n",
              "      <td>2</td>\n",
              "      <td>8</td>\n",
              "      <td>5</td>\n",
              "      <td>2</td>\n",
              "      <td>0</td>\n",
              "      <td>3411.0</td>\n",
              "      <td>0.0</td>\n",
              "      <td>34.0</td>\n",
              "      <td>39</td>\n",
              "      <td>0</td>\n",
              "    </tr>\n",
              "    <tr>\n",
              "      <th>1</th>\n",
              "      <td>72.0</td>\n",
              "      <td>4</td>\n",
              "      <td>74141.0</td>\n",
              "      <td>6</td>\n",
              "      <td>5.0</td>\n",
              "      <td>2</td>\n",
              "      <td>4</td>\n",
              "      <td>5</td>\n",
              "      <td>1</td>\n",
              "      <td>0</td>\n",
              "      <td>0.0</td>\n",
              "      <td>0.0</td>\n",
              "      <td>48.0</td>\n",
              "      <td>39</td>\n",
              "      <td>1</td>\n",
              "    </tr>\n",
              "    <tr>\n",
              "      <th>2</th>\n",
              "      <td>45.0</td>\n",
              "      <td>4</td>\n",
              "      <td>178215.0</td>\n",
              "      <td>6</td>\n",
              "      <td>5.0</td>\n",
              "      <td>2</td>\n",
              "      <td>7</td>\n",
              "      <td>5</td>\n",
              "      <td>4</td>\n",
              "      <td>0</td>\n",
              "      <td>0.0</td>\n",
              "      <td>0.0</td>\n",
              "      <td>40.0</td>\n",
              "      <td>39</td>\n",
              "      <td>1</td>\n",
              "    </tr>\n",
              "    <tr>\n",
              "      <th>3</th>\n",
              "      <td>31.0</td>\n",
              "      <td>4</td>\n",
              "      <td>86958.0</td>\n",
              "      <td>6</td>\n",
              "      <td>5.0</td>\n",
              "      <td>2</td>\n",
              "      <td>4</td>\n",
              "      <td>5</td>\n",
              "      <td>4</td>\n",
              "      <td>0</td>\n",
              "      <td>0.0</td>\n",
              "      <td>0.0</td>\n",
              "      <td>40.0</td>\n",
              "      <td>39</td>\n",
              "      <td>0</td>\n",
              "    </tr>\n",
              "    <tr>\n",
              "      <th>4</th>\n",
              "      <td>55.0</td>\n",
              "      <td>4</td>\n",
              "      <td>176012.0</td>\n",
              "      <td>6</td>\n",
              "      <td>5.0</td>\n",
              "      <td>2</td>\n",
              "      <td>13</td>\n",
              "      <td>5</td>\n",
              "      <td>4</td>\n",
              "      <td>0</td>\n",
              "      <td>0.0</td>\n",
              "      <td>0.0</td>\n",
              "      <td>23.0</td>\n",
              "      <td>39</td>\n",
              "      <td>0</td>\n",
              "    </tr>\n",
              "  </tbody>\n",
              "</table>\n",
              "</div>"
            ],
            "text/plain": [
              "    age  workclass  ...  native_country  income_bracket\n",
              "0  39.0          4  ...              39               0\n",
              "1  72.0          4  ...              39               1\n",
              "2  45.0          4  ...              39               1\n",
              "3  31.0          4  ...              39               0\n",
              "4  55.0          4  ...              39               0\n",
              "\n",
              "[5 rows x 15 columns]"
            ]
          },
          "metadata": {
            "tags": []
          },
          "execution_count": 39
        }
      ]
    },
    {
      "cell_type": "code",
      "metadata": {
        "colab": {
          "base_uri": "https://localhost:8080/"
        },
        "id": "u82liP6XsVGf",
        "outputId": "2ed4ecd5-bb82-49e3-af99-b8ab7939e8c5"
      },
      "source": [
        "df_census.isnull().sum()"
      ],
      "execution_count": 40,
      "outputs": [
        {
          "output_type": "execute_result",
          "data": {
            "text/plain": [
              "age                  0\n",
              "workclass            0\n",
              "functional_weight    0\n",
              "education            0\n",
              "education_num        0\n",
              "marital_status       0\n",
              "occupation           0\n",
              "relationship         0\n",
              "race                 0\n",
              "sex                  0\n",
              "capital_gain         0\n",
              "capital_loss         0\n",
              "hours_per_week       0\n",
              "native_country       0\n",
              "income_bracket       0\n",
              "dtype: int64"
            ]
          },
          "metadata": {
            "tags": []
          },
          "execution_count": 40
        }
      ]
    },
    {
      "cell_type": "code",
      "metadata": {
        "colab": {
          "base_uri": "https://localhost:8080/",
          "height": 35
        },
        "id": "iR0a_yGqsVJU",
        "outputId": "a7fe7da1-2b9d-405f-9aa8-5ea8d6649b13"
      },
      "source": [
        "cat_columns[7]"
      ],
      "execution_count": 41,
      "outputs": [
        {
          "output_type": "execute_result",
          "data": {
            "application/vnd.google.colaboratory.intrinsic+json": {
              "type": "string"
            },
            "text/plain": [
              "'native_country'"
            ]
          },
          "metadata": {
            "tags": []
          },
          "execution_count": 41
        }
      ]
    },
    {
      "cell_type": "code",
      "metadata": {
        "colab": {
          "base_uri": "https://localhost:8080/",
          "height": 35
        },
        "id": "KwvgrGt_sVL2",
        "outputId": "46411c0c-9cb7-4f0f-a880-5b86d03d0f3e"
      },
      "source": [
        "cat_columns[3]"
      ],
      "execution_count": 42,
      "outputs": [
        {
          "output_type": "execute_result",
          "data": {
            "application/vnd.google.colaboratory.intrinsic+json": {
              "type": "string"
            },
            "text/plain": [
              "'occupation'"
            ]
          },
          "metadata": {
            "tags": []
          },
          "execution_count": 42
        }
      ]
    },
    {
      "cell_type": "code",
      "metadata": {
        "colab": {
          "base_uri": "https://localhost:8080/",
          "height": 35
        },
        "id": "m07afuHrsVOK",
        "outputId": "f27351fd-4569-4ff9-a537-39cad04cd6c3"
      },
      "source": [
        "cat_columns[0]"
      ],
      "execution_count": 43,
      "outputs": [
        {
          "output_type": "execute_result",
          "data": {
            "application/vnd.google.colaboratory.intrinsic+json": {
              "type": "string"
            },
            "text/plain": [
              "'workclass'"
            ]
          },
          "metadata": {
            "tags": []
          },
          "execution_count": 43
        }
      ]
    },
    {
      "cell_type": "code",
      "metadata": {
        "id": "n4rIM9IdscII"
      },
      "source": [
        "from sklearn.impute import SimpleImputer\n",
        "#https://scikit-learn.org/stable/modules/generated/sklearn.impute.SimpleImputer.html\n",
        "\n",
        "class ImputeCategorical(BaseEstimator, TransformerMixin):\n",
        "    \"\"\"\n",
        "    Encodes a specified list of columns or all columns if None.\n",
        "    \"\"\"\n",
        "    def __init__(self, columns=None):\n",
        "        self.columns = columns\n",
        "        self.imputer = None\n",
        "    def fit(self, data, target=None):\n",
        "        \"\"\"\n",
        "        Expects a data frame with named columns to impute.\n",
        "        \"\"\"\n",
        "        # Encode all columns if columns is None\n",
        "        if self.columns is None:\n",
        "            self.columns = data.columns\n",
        "        # Fit an imputer for each column in the data frame\n",
        "        self.imputer = SimpleImputer(missing_values=0, strategy='most_frequent')\n",
        "        self.imputer.fit(data[self.columns])\n",
        "        return self\n",
        "    def transform(self, data):\n",
        "        \"\"\"\n",
        "        Uses the encoders to transform a data frame.\n",
        "        \"\"\"\n",
        "        output = data.copy()\n",
        "        output[self.columns] = self.imputer.transform(output[self.columns])\n",
        "        return output\n"
      ],
      "execution_count": 44,
      "outputs": []
    },
    {
      "cell_type": "code",
      "metadata": {
        "id": "lyevX-3GscJJ"
      },
      "source": [
        "imputer = ImputeCategorical(['workclass', 'native_country', 'occupation'])\n",
        "df_census_encoded = imputer.fit_transform(df_census_encoded)"
      ],
      "execution_count": 45,
      "outputs": []
    },
    {
      "cell_type": "code",
      "metadata": {
        "colab": {
          "base_uri": "https://localhost:8080/",
          "height": 623
        },
        "id": "x7pdjzpWsgAO",
        "outputId": "c30e40ec-a50b-44ac-eda4-1330020526fc"
      },
      "source": [
        "df_census_encoded.head(50)"
      ],
      "execution_count": 46,
      "outputs": [
        {
          "output_type": "execute_result",
          "data": {
            "application/vnd.google.colaboratory.module+javascript": "\n      import \"https://ssl.gstatic.com/colaboratory/data_table/a6224c040fa35dcf/data_table.js\";\n\n      window.createDataTable({\n        data: [[{\n            'v': 0,\n            'f': \"0\",\n        },\n{\n            'v': 39.0,\n            'f': \"39.0\",\n        },\n{\n            'v': 4,\n            'f': \"4\",\n        },\n{\n            'v': 297847.0,\n            'f': \"297847.0\",\n        },\n{\n            'v': 6,\n            'f': \"6\",\n        },\n{\n            'v': 5.0,\n            'f': \"5.0\",\n        },\n{\n            'v': 2,\n            'f': \"2\",\n        },\n{\n            'v': 8,\n            'f': \"8\",\n        },\n{\n            'v': 5,\n            'f': \"5\",\n        },\n{\n            'v': 2,\n            'f': \"2\",\n        },\n{\n            'v': 0,\n            'f': \"0\",\n        },\n{\n            'v': 3411.0,\n            'f': \"3411.0\",\n        },\n{\n            'v': 0.0,\n            'f': \"0.0\",\n        },\n{\n            'v': 34.0,\n            'f': \"34.0\",\n        },\n{\n            'v': 39,\n            'f': \"39\",\n        },\n{\n            'v': 0,\n            'f': \"0\",\n        }],\n [{\n            'v': 1,\n            'f': \"1\",\n        },\n{\n            'v': 72.0,\n            'f': \"72.0\",\n        },\n{\n            'v': 4,\n            'f': \"4\",\n        },\n{\n            'v': 74141.0,\n            'f': \"74141.0\",\n        },\n{\n            'v': 6,\n            'f': \"6\",\n        },\n{\n            'v': 5.0,\n            'f': \"5.0\",\n        },\n{\n            'v': 2,\n            'f': \"2\",\n        },\n{\n            'v': 4,\n            'f': \"4\",\n        },\n{\n            'v': 5,\n            'f': \"5\",\n        },\n{\n            'v': 1,\n            'f': \"1\",\n        },\n{\n            'v': 0,\n            'f': \"0\",\n        },\n{\n            'v': 0.0,\n            'f': \"0.0\",\n        },\n{\n            'v': 0.0,\n            'f': \"0.0\",\n        },\n{\n            'v': 48.0,\n            'f': \"48.0\",\n        },\n{\n            'v': 39,\n            'f': \"39\",\n        },\n{\n            'v': 1,\n            'f': \"1\",\n        }],\n [{\n            'v': 2,\n            'f': \"2\",\n        },\n{\n            'v': 45.0,\n            'f': \"45.0\",\n        },\n{\n            'v': 4,\n            'f': \"4\",\n        },\n{\n            'v': 178215.0,\n            'f': \"178215.0\",\n        },\n{\n            'v': 6,\n            'f': \"6\",\n        },\n{\n            'v': 5.0,\n            'f': \"5.0\",\n        },\n{\n            'v': 2,\n            'f': \"2\",\n        },\n{\n            'v': 7,\n            'f': \"7\",\n        },\n{\n            'v': 5,\n            'f': \"5\",\n        },\n{\n            'v': 4,\n            'f': \"4\",\n        },\n{\n            'v': 0,\n            'f': \"0\",\n        },\n{\n            'v': 0.0,\n            'f': \"0.0\",\n        },\n{\n            'v': 0.0,\n            'f': \"0.0\",\n        },\n{\n            'v': 40.0,\n            'f': \"40.0\",\n        },\n{\n            'v': 39,\n            'f': \"39\",\n        },\n{\n            'v': 1,\n            'f': \"1\",\n        }],\n [{\n            'v': 3,\n            'f': \"3\",\n        },\n{\n            'v': 31.0,\n            'f': \"31.0\",\n        },\n{\n            'v': 4,\n            'f': \"4\",\n        },\n{\n            'v': 86958.0,\n            'f': \"86958.0\",\n        },\n{\n            'v': 6,\n            'f': \"6\",\n        },\n{\n            'v': 5.0,\n            'f': \"5.0\",\n        },\n{\n            'v': 2,\n            'f': \"2\",\n        },\n{\n            'v': 4,\n            'f': \"4\",\n        },\n{\n            'v': 5,\n            'f': \"5\",\n        },\n{\n            'v': 4,\n            'f': \"4\",\n        },\n{\n            'v': 0,\n            'f': \"0\",\n        },\n{\n            'v': 0.0,\n            'f': \"0.0\",\n        },\n{\n            'v': 0.0,\n            'f': \"0.0\",\n        },\n{\n            'v': 40.0,\n            'f': \"40.0\",\n        },\n{\n            'v': 39,\n            'f': \"39\",\n        },\n{\n            'v': 0,\n            'f': \"0\",\n        }],\n [{\n            'v': 4,\n            'f': \"4\",\n        },\n{\n            'v': 55.0,\n            'f': \"55.0\",\n        },\n{\n            'v': 4,\n            'f': \"4\",\n        },\n{\n            'v': 176012.0,\n            'f': \"176012.0\",\n        },\n{\n            'v': 6,\n            'f': \"6\",\n        },\n{\n            'v': 5.0,\n            'f': \"5.0\",\n        },\n{\n            'v': 2,\n            'f': \"2\",\n        },\n{\n            'v': 13,\n            'f': \"13\",\n        },\n{\n            'v': 5,\n            'f': \"5\",\n        },\n{\n            'v': 4,\n            'f': \"4\",\n        },\n{\n            'v': 0,\n            'f': \"0\",\n        },\n{\n            'v': 0.0,\n            'f': \"0.0\",\n        },\n{\n            'v': 0.0,\n            'f': \"0.0\",\n        },\n{\n            'v': 23.0,\n            'f': \"23.0\",\n        },\n{\n            'v': 39,\n            'f': \"39\",\n        },\n{\n            'v': 0,\n            'f': \"0\",\n        }],\n [{\n            'v': 5,\n            'f': \"5\",\n        },\n{\n            'v': 30.0,\n            'f': \"30.0\",\n        },\n{\n            'v': 4,\n            'f': \"4\",\n        },\n{\n            'v': 61272.0,\n            'f': \"61272.0\",\n        },\n{\n            'v': 6,\n            'f': \"6\",\n        },\n{\n            'v': 5.0,\n            'f': \"5.0\",\n        },\n{\n            'v': 2,\n            'f': \"2\",\n        },\n{\n            'v': 7,\n            'f': \"7\",\n        },\n{\n            'v': 5,\n            'f': \"5\",\n        },\n{\n            'v': 4,\n            'f': \"4\",\n        },\n{\n            'v': 0,\n            'f': \"0\",\n        },\n{\n            'v': 0.0,\n            'f': \"0.0\",\n        },\n{\n            'v': 0.0,\n            'f': \"0.0\",\n        },\n{\n            'v': 40.0,\n            'f': \"40.0\",\n        },\n{\n            'v': 32,\n            'f': \"32\",\n        },\n{\n            'v': 0,\n            'f': \"0\",\n        }],\n [{\n            'v': 6,\n            'f': \"6\",\n        },\n{\n            'v': 46.0,\n            'f': \"46.0\",\n        },\n{\n            'v': 5,\n            'f': \"5\",\n        },\n{\n            'v': 161386.0,\n            'f': \"161386.0\",\n        },\n{\n            'v': 6,\n            'f': \"6\",\n        },\n{\n            'v': 5.0,\n            'f': \"5.0\",\n        },\n{\n            'v': 2,\n            'f': \"2\",\n        },\n{\n            'v': 1,\n            'f': \"1\",\n        },\n{\n            'v': 5,\n            'f': \"5\",\n        },\n{\n            'v': 4,\n            'f': \"4\",\n        },\n{\n            'v': 0,\n            'f': \"0\",\n        },\n{\n            'v': 0.0,\n            'f': \"0.0\",\n        },\n{\n            'v': 0.0,\n            'f': \"0.0\",\n        },\n{\n            'v': 50.0,\n            'f': \"50.0\",\n        },\n{\n            'v': 39,\n            'f': \"39\",\n        },\n{\n            'v': 0,\n            'f': \"0\",\n        }],\n [{\n            'v': 7,\n            'f': \"7\",\n        },\n{\n            'v': 28.0,\n            'f': \"28.0\",\n        },\n{\n            'v': 4,\n            'f': \"4\",\n        },\n{\n            'v': 209801.0,\n            'f': \"209801.0\",\n        },\n{\n            'v': 6,\n            'f': \"6\",\n        },\n{\n            'v': 5.0,\n            'f': \"5.0\",\n        },\n{\n            'v': 2,\n            'f': \"2\",\n        },\n{\n            'v': 7,\n            'f': \"7\",\n        },\n{\n            'v': 5,\n            'f': \"5\",\n        },\n{\n            'v': 4,\n            'f': \"4\",\n        },\n{\n            'v': 0,\n            'f': \"0\",\n        },\n{\n            'v': 0.0,\n            'f': \"0.0\",\n        },\n{\n            'v': 0.0,\n            'f': \"0.0\",\n        },\n{\n            'v': 40.0,\n            'f': \"40.0\",\n        },\n{\n            'v': 39,\n            'f': \"39\",\n        },\n{\n            'v': 0,\n            'f': \"0\",\n        }],\n [{\n            'v': 8,\n            'f': \"8\",\n        },\n{\n            'v': 37.0,\n            'f': \"37.0\",\n        },\n{\n            'v': 4,\n            'f': \"4\",\n        },\n{\n            'v': 171090.0,\n            'f': \"171090.0\",\n        },\n{\n            'v': 6,\n            'f': \"6\",\n        },\n{\n            'v': 5.0,\n            'f': \"5.0\",\n        },\n{\n            'v': 2,\n            'f': \"2\",\n        },\n{\n            'v': 7,\n            'f': \"7\",\n        },\n{\n            'v': 5,\n            'f': \"5\",\n        },\n{\n            'v': 2,\n            'f': \"2\",\n        },\n{\n            'v': 0,\n            'f': \"0\",\n        },\n{\n            'v': 0.0,\n            'f': \"0.0\",\n        },\n{\n            'v': 0.0,\n            'f': \"0.0\",\n        },\n{\n            'v': 48.0,\n            'f': \"48.0\",\n        },\n{\n            'v': 39,\n            'f': \"39\",\n        },\n{\n            'v': 0,\n            'f': \"0\",\n        }],\n [{\n            'v': 9,\n            'f': \"9\",\n        },\n{\n            'v': 40.0,\n            'f': \"40.0\",\n        },\n{\n            'v': 2,\n            'f': \"2\",\n        },\n{\n            'v': 183096.0,\n            'f': \"183096.0\",\n        },\n{\n            'v': 6,\n            'f': \"6\",\n        },\n{\n            'v': 5.0,\n            'f': \"5.0\",\n        },\n{\n            'v': 2,\n            'f': \"2\",\n        },\n{\n            'v': 8,\n            'f': \"8\",\n        },\n{\n            'v': 5,\n            'f': \"5\",\n        },\n{\n            'v': 4,\n            'f': \"4\",\n        },\n{\n            'v': 0,\n            'f': \"0\",\n        },\n{\n            'v': 0.0,\n            'f': \"0.0\",\n        },\n{\n            'v': 0.0,\n            'f': \"0.0\",\n        },\n{\n            'v': 40.0,\n            'f': \"40.0\",\n        },\n{\n            'v': 41,\n            'f': \"41\",\n        },\n{\n            'v': 1,\n            'f': \"1\",\n        }],\n [{\n            'v': 10,\n            'f': \"10\",\n        },\n{\n            'v': 41.0,\n            'f': \"41.0\",\n        },\n{\n            'v': 4,\n            'f': \"4\",\n        },\n{\n            'v': 217921.0,\n            'f': \"217921.0\",\n        },\n{\n            'v': 6,\n            'f': \"6\",\n        },\n{\n            'v': 5.0,\n            'f': \"5.0\",\n        },\n{\n            'v': 2,\n            'f': \"2\",\n        },\n{\n            'v': 10,\n            'f': \"10\",\n        },\n{\n            'v': 5,\n            'f': \"5\",\n        },\n{\n            'v': 1,\n            'f': \"1\",\n        },\n{\n            'v': 0,\n            'f': \"0\",\n        },\n{\n            'v': 0.0,\n            'f': \"0.0\",\n        },\n{\n            'v': 0.0,\n            'f': \"0.0\",\n        },\n{\n            'v': 40.0,\n            'f': \"40.0\",\n        },\n{\n            'v': 17,\n            'f': \"17\",\n        },\n{\n            'v': 0,\n            'f': \"0\",\n        }],\n [{\n            'v': 11,\n            'f': \"11\",\n        },\n{\n            'v': 27.0,\n            'f': \"27.0\",\n        },\n{\n            'v': 4,\n            'f': \"4\",\n        },\n{\n            'v': 109611.0,\n            'f': \"109611.0\",\n        },\n{\n            'v': 6,\n            'f': \"6\",\n        },\n{\n            'v': 5.0,\n            'f': \"5.0\",\n        },\n{\n            'v': 2,\n            'f': \"2\",\n        },\n{\n            'v': 7,\n            'f': \"7\",\n        },\n{\n            'v': 5,\n            'f': \"5\",\n        },\n{\n            'v': 4,\n            'f': \"4\",\n        },\n{\n            'v': 0,\n            'f': \"0\",\n        },\n{\n            'v': 0.0,\n            'f': \"0.0\",\n        },\n{\n            'v': 0.0,\n            'f': \"0.0\",\n        },\n{\n            'v': 37.0,\n            'f': \"37.0\",\n        },\n{\n            'v': 32,\n            'f': \"32\",\n        },\n{\n            'v': 0,\n            'f': \"0\",\n        }],\n [{\n            'v': 12,\n            'f': \"12\",\n        },\n{\n            'v': 31.0,\n            'f': \"31.0\",\n        },\n{\n            'v': 4,\n            'f': \"4\",\n        },\n{\n            'v': 399052.0,\n            'f': \"399052.0\",\n        },\n{\n            'v': 6,\n            'f': \"6\",\n        },\n{\n            'v': 5.0,\n            'f': \"5.0\",\n        },\n{\n            'v': 2,\n            'f': \"2\",\n        },\n{\n            'v': 5,\n            'f': \"5\",\n        },\n{\n            'v': 5,\n            'f': \"5\",\n        },\n{\n            'v': 4,\n            'f': \"4\",\n        },\n{\n            'v': 0,\n            'f': \"0\",\n        },\n{\n            'v': 0.0,\n            'f': \"0.0\",\n        },\n{\n            'v': 0.0,\n            'f': \"0.0\",\n        },\n{\n            'v': 42.0,\n            'f': \"42.0\",\n        },\n{\n            'v': 39,\n            'f': \"39\",\n        },\n{\n            'v': 0,\n            'f': \"0\",\n        }],\n [{\n            'v': 13,\n            'f': \"13\",\n        },\n{\n            'v': 46.0,\n            'f': \"46.0\",\n        },\n{\n            'v': 4,\n            'f': \"4\",\n        },\n{\n            'v': 184883.0,\n            'f': \"184883.0\",\n        },\n{\n            'v': 6,\n            'f': \"6\",\n        },\n{\n            'v': 5.0,\n            'f': \"5.0\",\n        },\n{\n            'v': 2,\n            'f': \"2\",\n        },\n{\n            'v': 7,\n            'f': \"7\",\n        },\n{\n            'v': 5,\n            'f': \"5\",\n        },\n{\n            'v': 4,\n            'f': \"4\",\n        },\n{\n            'v': 0,\n            'f': \"0\",\n        },\n{\n            'v': 0.0,\n            'f': \"0.0\",\n        },\n{\n            'v': 0.0,\n            'f': \"0.0\",\n        },\n{\n            'v': 40.0,\n            'f': \"40.0\",\n        },\n{\n            'v': 39,\n            'f': \"39\",\n        },\n{\n            'v': 0,\n            'f': \"0\",\n        }],\n [{\n            'v': 14,\n            'f': \"14\",\n        },\n{\n            'v': 70.0,\n            'f': \"70.0\",\n        },\n{\n            'v': 4,\n            'f': \"4\",\n        },\n{\n            'v': 216390.0,\n            'f': \"216390.0\",\n        },\n{\n            'v': 6,\n            'f': \"6\",\n        },\n{\n            'v': 5.0,\n            'f': \"5.0\",\n        },\n{\n            'v': 2,\n            'f': \"2\",\n        },\n{\n            'v': 7,\n            'f': \"7\",\n        },\n{\n            'v': 5,\n            'f': \"5\",\n        },\n{\n            'v': 4,\n            'f': \"4\",\n        },\n{\n            'v': 0,\n            'f': \"0\",\n        },\n{\n            'v': 2653.0,\n            'f': \"2653.0\",\n        },\n{\n            'v': 0.0,\n            'f': \"0.0\",\n        },\n{\n            'v': 40.0,\n            'f': \"40.0\",\n        },\n{\n            'v': 39,\n            'f': \"39\",\n        },\n{\n            'v': 0,\n            'f': \"0\",\n        }],\n [{\n            'v': 15,\n            'f': \"15\",\n        },\n{\n            'v': 77.0,\n            'f': \"77.0\",\n        },\n{\n            'v': 4,\n            'f': \"4\",\n        },\n{\n            'v': 344425.0,\n            'f': \"344425.0\",\n        },\n{\n            'v': 6,\n            'f': \"6\",\n        },\n{\n            'v': 5.0,\n            'f': \"5.0\",\n        },\n{\n            'v': 2,\n            'f': \"2\",\n        },\n{\n            'v': 9,\n            'f': \"9\",\n        },\n{\n            'v': 5,\n            'f': \"5\",\n        },\n{\n            'v': 2,\n            'f': \"2\",\n        },\n{\n            'v': 0,\n            'f': \"0\",\n        },\n{\n            'v': 0.0,\n            'f': \"0.0\",\n        },\n{\n            'v': 0.0,\n            'f': \"0.0\",\n        },\n{\n            'v': 10.0,\n            'f': \"10.0\",\n        },\n{\n            'v': 39,\n            'f': \"39\",\n        },\n{\n            'v': 0,\n            'f': \"0\",\n        }],\n [{\n            'v': 16,\n            'f': \"16\",\n        },\n{\n            'v': 38.0,\n            'f': \"38.0\",\n        },\n{\n            'v': 4,\n            'f': \"4\",\n        },\n{\n            'v': 131461.0,\n            'f': \"131461.0\",\n        },\n{\n            'v': 6,\n            'f': \"6\",\n        },\n{\n            'v': 5.0,\n            'f': \"5.0\",\n        },\n{\n            'v': 2,\n            'f': \"2\",\n        },\n{\n            'v': 8,\n            'f': \"8\",\n        },\n{\n            'v': 5,\n            'f': \"5\",\n        },\n{\n            'v': 2,\n            'f': \"2\",\n        },\n{\n            'v': 0,\n            'f': \"0\",\n        },\n{\n            'v': 0.0,\n            'f': \"0.0\",\n        },\n{\n            'v': 0.0,\n            'f': \"0.0\",\n        },\n{\n            'v': 24.0,\n            'f': \"24.0\",\n        },\n{\n            'v': 14,\n            'f': \"14\",\n        },\n{\n            'v': 0,\n            'f': \"0\",\n        }],\n [{\n            'v': 17,\n            'f': \"17\",\n        },\n{\n            'v': 41.0,\n            'f': \"41.0\",\n        },\n{\n            'v': 5,\n            'f': \"5\",\n        },\n{\n            'v': 299813.0,\n            'f': \"299813.0\",\n        },\n{\n            'v': 6,\n            'f': \"6\",\n        },\n{\n            'v': 5.0,\n            'f': \"5.0\",\n        },\n{\n            'v': 2,\n            'f': \"2\",\n        },\n{\n            'v': 12,\n            'f': \"12\",\n        },\n{\n            'v': 5,\n            'f': \"5\",\n        },\n{\n            'v': 4,\n            'f': \"4\",\n        },\n{\n            'v': 0,\n            'f': \"0\",\n        },\n{\n            'v': 0.0,\n            'f': \"0.0\",\n        },\n{\n            'v': 0.0,\n            'f': \"0.0\",\n        },\n{\n            'v': 70.0,\n            'f': \"70.0\",\n        },\n{\n            'v': 6,\n            'f': \"6\",\n        },\n{\n            'v': 0,\n            'f': \"0\",\n        }],\n [{\n            'v': 18,\n            'f': \"18\",\n        },\n{\n            'v': 52.0,\n            'f': \"52.0\",\n        },\n{\n            'v': 2,\n            'f': \"2\",\n        },\n{\n            'v': 330799.0,\n            'f': \"330799.0\",\n        },\n{\n            'v': 6,\n            'f': \"6\",\n        },\n{\n            'v': 5.0,\n            'f': \"5.0\",\n        },\n{\n            'v': 2,\n            'f': \"2\",\n        },\n{\n            'v': 8,\n            'f': \"8\",\n        },\n{\n            'v': 5,\n            'f': \"5\",\n        },\n{\n            'v': 4,\n            'f': \"4\",\n        },\n{\n            'v': 0,\n            'f': \"0\",\n        },\n{\n            'v': 0.0,\n            'f': \"0.0\",\n        },\n{\n            'v': 0.0,\n            'f': \"0.0\",\n        },\n{\n            'v': 40.0,\n            'f': \"40.0\",\n        },\n{\n            'v': 39,\n            'f': \"39\",\n        },\n{\n            'v': 0,\n            'f': \"0\",\n        }],\n [{\n            'v': 19,\n            'f': \"19\",\n        },\n{\n            'v': 35.0,\n            'f': \"35.0\",\n        },\n{\n            'v': 4,\n            'f': \"4\",\n        },\n{\n            'v': 374716.0,\n            'f': \"374716.0\",\n        },\n{\n            'v': 6,\n            'f': \"6\",\n        },\n{\n            'v': 5.0,\n            'f': \"5.0\",\n        },\n{\n            'v': 2,\n            'f': \"2\",\n        },\n{\n            'v': 10,\n            'f': \"10\",\n        },\n{\n            'v': 5,\n            'f': \"5\",\n        },\n{\n            'v': 4,\n            'f': \"4\",\n        },\n{\n            'v': 0,\n            'f': \"0\",\n        },\n{\n            'v': 0.0,\n            'f': \"0.0\",\n        },\n{\n            'v': 0.0,\n            'f': \"0.0\",\n        },\n{\n            'v': 35.0,\n            'f': \"35.0\",\n        },\n{\n            'v': 39,\n            'f': \"39\",\n        },\n{\n            'v': 0,\n            'f': \"0\",\n        }],\n [{\n            'v': 20,\n            'f': \"20\",\n        },\n{\n            'v': 28.0,\n            'f': \"28.0\",\n        },\n{\n            'v': 4,\n            'f': \"4\",\n        },\n{\n            'v': 190350.0,\n            'f': \"190350.0\",\n        },\n{\n            'v': 6,\n            'f': \"6\",\n        },\n{\n            'v': 5.0,\n            'f': \"5.0\",\n        },\n{\n            'v': 2,\n            'f': \"2\",\n        },\n{\n            'v': 11,\n            'f': \"11\",\n        },\n{\n            'v': 5,\n            'f': \"5\",\n        },\n{\n            'v': 2,\n            'f': \"2\",\n        },\n{\n            'v': 0,\n            'f': \"0\",\n        },\n{\n            'v': 0.0,\n            'f': \"0.0\",\n        },\n{\n            'v': 0.0,\n            'f': \"0.0\",\n        },\n{\n            'v': 40.0,\n            'f': \"40.0\",\n        },\n{\n            'v': 39,\n            'f': \"39\",\n        },\n{\n            'v': 0,\n            'f': \"0\",\n        }],\n [{\n            'v': 21,\n            'f': \"21\",\n        },\n{\n            'v': 36.0,\n            'f': \"36.0\",\n        },\n{\n            'v': 4,\n            'f': \"4\",\n        },\n{\n            'v': 348022.0,\n            'f': \"348022.0\",\n        },\n{\n            'v': 0,\n            'f': \"0\",\n        },\n{\n            'v': 6.0,\n            'f': \"6.0\",\n        },\n{\n            'v': 2,\n            'f': \"2\",\n        },\n{\n            'v': 8,\n            'f': \"8\",\n        },\n{\n            'v': 5,\n            'f': \"5\",\n        },\n{\n            'v': 4,\n            'f': \"4\",\n        },\n{\n            'v': 0,\n            'f': \"0\",\n        },\n{\n            'v': 0.0,\n            'f': \"0.0\",\n        },\n{\n            'v': 0.0,\n            'f': \"0.0\",\n        },\n{\n            'v': 24.0,\n            'f': \"24.0\",\n        },\n{\n            'v': 39,\n            'f': \"39\",\n        },\n{\n            'v': 0,\n            'f': \"0\",\n        }],\n [{\n            'v': 22,\n            'f': \"22\",\n        },\n{\n            'v': 58.0,\n            'f': \"58.0\",\n        },\n{\n            'v': 4,\n            'f': \"4\",\n        },\n{\n            'v': 51662.0,\n            'f': \"51662.0\",\n        },\n{\n            'v': 0,\n            'f': \"0\",\n        },\n{\n            'v': 6.0,\n            'f': \"6.0\",\n        },\n{\n            'v': 2,\n            'f': \"2\",\n        },\n{\n            'v': 8,\n            'f': \"8\",\n        },\n{\n            'v': 5,\n            'f': \"5\",\n        },\n{\n            'v': 4,\n            'f': \"4\",\n        },\n{\n            'v': 0,\n            'f': \"0\",\n        },\n{\n            'v': 0.0,\n            'f': \"0.0\",\n        },\n{\n            'v': 0.0,\n            'f': \"0.0\",\n        },\n{\n            'v': 8.0,\n            'f': \"8.0\",\n        },\n{\n            'v': 39,\n            'f': \"39\",\n        },\n{\n            'v': 0,\n            'f': \"0\",\n        }],\n [{\n            'v': 23,\n            'f': \"23\",\n        },\n{\n            'v': 48.0,\n            'f': \"48.0\",\n        },\n{\n            'v': 4,\n            'f': \"4\",\n        },\n{\n            'v': 207848.0,\n            'f': \"207848.0\",\n        },\n{\n            'v': 0,\n            'f': \"0\",\n        },\n{\n            'v': 6.0,\n            'f': \"6.0\",\n        },\n{\n            'v': 2,\n            'f': \"2\",\n        },\n{\n            'v': 1,\n            'f': \"1\",\n        },\n{\n            'v': 5,\n            'f': \"5\",\n        },\n{\n            'v': 4,\n            'f': \"4\",\n        },\n{\n            'v': 0,\n            'f': \"0\",\n        },\n{\n            'v': 0.0,\n            'f': \"0.0\",\n        },\n{\n            'v': 0.0,\n            'f': \"0.0\",\n        },\n{\n            'v': 40.0,\n            'f': \"40.0\",\n        },\n{\n            'v': 39,\n            'f': \"39\",\n        },\n{\n            'v': 0,\n            'f': \"0\",\n        }],\n [{\n            'v': 24,\n            'f': \"24\",\n        },\n{\n            'v': 58.0,\n            'f': \"58.0\",\n        },\n{\n            'v': 5,\n            'f': \"5\",\n        },\n{\n            'v': 183870.0,\n            'f': \"183870.0\",\n        },\n{\n            'v': 0,\n            'f': \"0\",\n        },\n{\n            'v': 6.0,\n            'f': \"6.0\",\n        },\n{\n            'v': 2,\n            'f': \"2\",\n        },\n{\n            'v': 14,\n            'f': \"14\",\n        },\n{\n            'v': 5,\n            'f': \"5\",\n        },\n{\n            'v': 4,\n            'f': \"4\",\n        },\n{\n            'v': 0,\n            'f': \"0\",\n        },\n{\n            'v': 0.0,\n            'f': \"0.0\",\n        },\n{\n            'v': 0.0,\n            'f': \"0.0\",\n        },\n{\n            'v': 40.0,\n            'f': \"40.0\",\n        },\n{\n            'v': 39,\n            'f': \"39\",\n        },\n{\n            'v': 0,\n            'f': \"0\",\n        }],\n [{\n            'v': 25,\n            'f': \"25\",\n        },\n{\n            'v': 22.0,\n            'f': \"22.0\",\n        },\n{\n            'v': 4,\n            'f': \"4\",\n        },\n{\n            'v': 214731.0,\n            'f': \"214731.0\",\n        },\n{\n            'v': 0,\n            'f': \"0\",\n        },\n{\n            'v': 6.0,\n            'f': \"6.0\",\n        },\n{\n            'v': 2,\n            'f': \"2\",\n        },\n{\n            'v': 7,\n            'f': \"7\",\n        },\n{\n            'v': 5,\n            'f': \"5\",\n        },\n{\n            'v': 4,\n            'f': \"4\",\n        },\n{\n            'v': 0,\n            'f': \"0\",\n        },\n{\n            'v': 0.0,\n            'f': \"0.0\",\n        },\n{\n            'v': 0.0,\n            'f': \"0.0\",\n        },\n{\n            'v': 40.0,\n            'f': \"40.0\",\n        },\n{\n            'v': 39,\n            'f': \"39\",\n        },\n{\n            'v': 0,\n            'f': \"0\",\n        }],\n [{\n            'v': 26,\n            'f': \"26\",\n        },\n{\n            'v': 29.0,\n            'f': \"29.0\",\n        },\n{\n            'v': 4,\n            'f': \"4\",\n        },\n{\n            'v': 100405.0,\n            'f': \"100405.0\",\n        },\n{\n            'v': 0,\n            'f': \"0\",\n        },\n{\n            'v': 6.0,\n            'f': \"6.0\",\n        },\n{\n            'v': 2,\n            'f': \"2\",\n        },\n{\n            'v': 5,\n            'f': \"5\",\n        },\n{\n            'v': 5,\n            'f': \"5\",\n        },\n{\n            'v': 0,\n            'f': \"0\",\n        },\n{\n            'v': 0,\n            'f': \"0\",\n        },\n{\n            'v': 0.0,\n            'f': \"0.0\",\n        },\n{\n            'v': 0.0,\n            'f': \"0.0\",\n        },\n{\n            'v': 40.0,\n            'f': \"40.0\",\n        },\n{\n            'v': 39,\n            'f': \"39\",\n        },\n{\n            'v': 0,\n            'f': \"0\",\n        }],\n [{\n            'v': 27,\n            'f': \"27\",\n        },\n{\n            'v': 27.0,\n            'f': \"27.0\",\n        },\n{\n            'v': 4,\n            'f': \"4\",\n        },\n{\n            'v': 200641.0,\n            'f': \"200641.0\",\n        },\n{\n            'v': 0,\n            'f': \"0\",\n        },\n{\n            'v': 6.0,\n            'f': \"6.0\",\n        },\n{\n            'v': 2,\n            'f': \"2\",\n        },\n{\n            'v': 4,\n            'f': \"4\",\n        },\n{\n            'v': 5,\n            'f': \"5\",\n        },\n{\n            'v': 4,\n            'f': \"4\",\n        },\n{\n            'v': 0,\n            'f': \"0\",\n        },\n{\n            'v': 0.0,\n            'f': \"0.0\",\n        },\n{\n            'v': 0.0,\n            'f': \"0.0\",\n        },\n{\n            'v': 40.0,\n            'f': \"40.0\",\n        },\n{\n            'v': 26,\n            'f': \"26\",\n        },\n{\n            'v': 0,\n            'f': \"0\",\n        }],\n [{\n            'v': 28,\n            'f': \"28\",\n        },\n{\n            'v': 40.0,\n            'f': \"40.0\",\n        },\n{\n            'v': 4,\n            'f': \"4\",\n        },\n{\n            'v': 222848.0,\n            'f': \"222848.0\",\n        },\n{\n            'v': 0,\n            'f': \"0\",\n        },\n{\n            'v': 6.0,\n            'f': \"6.0\",\n        },\n{\n            'v': 2,\n            'f': \"2\",\n        },\n{\n            'v': 8,\n            'f': \"8\",\n        },\n{\n            'v': 5,\n            'f': \"5\",\n        },\n{\n            'v': 2,\n            'f': \"2\",\n        },\n{\n            'v': 0,\n            'f': \"0\",\n        },\n{\n            'v': 0.0,\n            'f': \"0.0\",\n        },\n{\n            'v': 0.0,\n            'f': \"0.0\",\n        },\n{\n            'v': 32.0,\n            'f': \"32.0\",\n        },\n{\n            'v': 39,\n            'f': \"39\",\n        },\n{\n            'v': 0,\n            'f': \"0\",\n        }],\n [{\n            'v': 29,\n            'f': \"29\",\n        },\n{\n            'v': 26.0,\n            'f': \"26.0\",\n        },\n{\n            'v': 4,\n            'f': \"4\",\n        },\n{\n            'v': 515025.0,\n            'f': \"515025.0\",\n        },\n{\n            'v': 0,\n            'f': \"0\",\n        },\n{\n            'v': 6.0,\n            'f': \"6.0\",\n        },\n{\n            'v': 2,\n            'f': \"2\",\n        },\n{\n            'v': 6,\n            'f': \"6\",\n        },\n{\n            'v': 5,\n            'f': \"5\",\n        },\n{\n            'v': 4,\n            'f': \"4\",\n        },\n{\n            'v': 0,\n            'f': \"0\",\n        },\n{\n            'v': 0.0,\n            'f': \"0.0\",\n        },\n{\n            'v': 0.0,\n            'f': \"0.0\",\n        },\n{\n            'v': 40.0,\n            'f': \"40.0\",\n        },\n{\n            'v': 39,\n            'f': \"39\",\n        },\n{\n            'v': 0,\n            'f': \"0\",\n        }],\n [{\n            'v': 30,\n            'f': \"30\",\n        },\n{\n            'v': 26.0,\n            'f': \"26.0\",\n        },\n{\n            'v': 4,\n            'f': \"4\",\n        },\n{\n            'v': 102106.0,\n            'f': \"102106.0\",\n        },\n{\n            'v': 0,\n            'f': \"0\",\n        },\n{\n            'v': 6.0,\n            'f': \"6.0\",\n        },\n{\n            'v': 2,\n            'f': \"2\",\n        },\n{\n            'v': 1,\n            'f': \"1\",\n        },\n{\n            'v': 5,\n            'f': \"5\",\n        },\n{\n            'v': 4,\n            'f': \"4\",\n        },\n{\n            'v': 0,\n            'f': \"0\",\n        },\n{\n            'v': 0.0,\n            'f': \"0.0\",\n        },\n{\n            'v': 0.0,\n            'f': \"0.0\",\n        },\n{\n            'v': 40.0,\n            'f': \"40.0\",\n        },\n{\n            'v': 39,\n            'f': \"39\",\n        },\n{\n            'v': 0,\n            'f': \"0\",\n        }],\n [{\n            'v': 31,\n            'f': \"31\",\n        },\n{\n            'v': 25.0,\n            'f': \"25.0\",\n        },\n{\n            'v': 4,\n            'f': \"4\",\n        },\n{\n            'v': 431307.0,\n            'f': \"431307.0\",\n        },\n{\n            'v': 0,\n            'f': \"0\",\n        },\n{\n            'v': 6.0,\n            'f': \"6.0\",\n        },\n{\n            'v': 2,\n            'f': \"2\",\n        },\n{\n            'v': 11,\n            'f': \"11\",\n        },\n{\n            'v': 5,\n            'f': \"5\",\n        },\n{\n            'v': 2,\n            'f': \"2\",\n        },\n{\n            'v': 0,\n            'f': \"0\",\n        },\n{\n            'v': 0.0,\n            'f': \"0.0\",\n        },\n{\n            'v': 0.0,\n            'f': \"0.0\",\n        },\n{\n            'v': 50.0,\n            'f': \"50.0\",\n        },\n{\n            'v': 39,\n            'f': \"39\",\n        },\n{\n            'v': 0,\n            'f': \"0\",\n        }],\n [{\n            'v': 32,\n            'f': \"32\",\n        },\n{\n            'v': 52.0,\n            'f': \"52.0\",\n        },\n{\n            'v': 4,\n            'f': \"4\",\n        },\n{\n            'v': 245275.0,\n            'f': \"245275.0\",\n        },\n{\n            'v': 0,\n            'f': \"0\",\n        },\n{\n            'v': 6.0,\n            'f': \"6.0\",\n        },\n{\n            'v': 2,\n            'f': \"2\",\n        },\n{\n            'v': 8,\n            'f': \"8\",\n        },\n{\n            'v': 5,\n            'f': \"5\",\n        },\n{\n            'v': 4,\n            'f': \"4\",\n        },\n{\n            'v': 0,\n            'f': \"0\",\n        },\n{\n            'v': 0.0,\n            'f': \"0.0\",\n        },\n{\n            'v': 0.0,\n            'f': \"0.0\",\n        },\n{\n            'v': 35.0,\n            'f': \"35.0\",\n        },\n{\n            'v': 39,\n            'f': \"39\",\n        },\n{\n            'v': 0,\n            'f': \"0\",\n        }],\n [{\n            'v': 33,\n            'f': \"33\",\n        },\n{\n            'v': 24.0,\n            'f': \"24.0\",\n        },\n{\n            'v': 4,\n            'f': \"4\",\n        },\n{\n            'v': 227070.0,\n            'f': \"227070.0\",\n        },\n{\n            'v': 0,\n            'f': \"0\",\n        },\n{\n            'v': 6.0,\n            'f': \"6.0\",\n        },\n{\n            'v': 2,\n            'f': \"2\",\n        },\n{\n            'v': 7,\n            'f': \"7\",\n        },\n{\n            'v': 5,\n            'f': \"5\",\n        },\n{\n            'v': 4,\n            'f': \"4\",\n        },\n{\n            'v': 0,\n            'f': \"0\",\n        },\n{\n            'v': 0.0,\n            'f': \"0.0\",\n        },\n{\n            'v': 0.0,\n            'f': \"0.0\",\n        },\n{\n            'v': 40.0,\n            'f': \"40.0\",\n        },\n{\n            'v': 39,\n            'f': \"39\",\n        },\n{\n            'v': 0,\n            'f': \"0\",\n        }],\n [{\n            'v': 34,\n            'f': \"34\",\n        },\n{\n            'v': 28.0,\n            'f': \"28.0\",\n        },\n{\n            'v': 4,\n            'f': \"4\",\n        },\n{\n            'v': 118861.0,\n            'f': \"118861.0\",\n        },\n{\n            'v': 0,\n            'f': \"0\",\n        },\n{\n            'v': 6.0,\n            'f': \"6.0\",\n        },\n{\n            'v': 2,\n            'f': \"2\",\n        },\n{\n            'v': 3,\n            'f': \"3\",\n        },\n{\n            'v': 5,\n            'f': \"5\",\n        },\n{\n            'v': 3,\n            'f': \"3\",\n        },\n{\n            'v': 0,\n            'f': \"0\",\n        },\n{\n            'v': 0.0,\n            'f': \"0.0\",\n        },\n{\n            'v': 0.0,\n            'f': \"0.0\",\n        },\n{\n            'v': 48.0,\n            'f': \"48.0\",\n        },\n{\n            'v': 13,\n            'f': \"13\",\n        },\n{\n            'v': 0,\n            'f': \"0\",\n        }],\n [{\n            'v': 35,\n            'f': \"35\",\n        },\n{\n            'v': 57.0,\n            'f': \"57.0\",\n        },\n{\n            'v': 4,\n            'f': \"4\",\n        },\n{\n            'v': 334585.0,\n            'f': \"334585.0\",\n        },\n{\n            'v': 0,\n            'f': \"0\",\n        },\n{\n            'v': 6.0,\n            'f': \"6.0\",\n        },\n{\n            'v': 2,\n            'f': \"2\",\n        },\n{\n            'v': 10,\n            'f': \"10\",\n        },\n{\n            'v': 5,\n            'f': \"5\",\n        },\n{\n            'v': 4,\n            'f': \"4\",\n        },\n{\n            'v': 0,\n            'f': \"0\",\n        },\n{\n            'v': 0.0,\n            'f': \"0.0\",\n        },\n{\n            'v': 0.0,\n            'f': \"0.0\",\n        },\n{\n            'v': 40.0,\n            'f': \"40.0\",\n        },\n{\n            'v': 39,\n            'f': \"39\",\n        },\n{\n            'v': 0,\n            'f': \"0\",\n        }],\n [{\n            'v': 36,\n            'f': \"36\",\n        },\n{\n            'v': 29.0,\n            'f': \"29.0\",\n        },\n{\n            'v': 4,\n            'f': \"4\",\n        },\n{\n            'v': 253752.0,\n            'f': \"253752.0\",\n        },\n{\n            'v': 0,\n            'f': \"0\",\n        },\n{\n            'v': 6.0,\n            'f': \"6.0\",\n        },\n{\n            'v': 2,\n            'f': \"2\",\n        },\n{\n            'v': 5,\n            'f': \"5\",\n        },\n{\n            'v': 5,\n            'f': \"5\",\n        },\n{\n            'v': 4,\n            'f': \"4\",\n        },\n{\n            'v': 0,\n            'f': \"0\",\n        },\n{\n            'v': 0.0,\n            'f': \"0.0\",\n        },\n{\n            'v': 0.0,\n            'f': \"0.0\",\n        },\n{\n            'v': 40.0,\n            'f': \"40.0\",\n        },\n{\n            'v': 39,\n            'f': \"39\",\n        },\n{\n            'v': 0,\n            'f': \"0\",\n        }],\n [{\n            'v': 37,\n            'f': \"37\",\n        },\n{\n            'v': 37.0,\n            'f': \"37.0\",\n        },\n{\n            'v': 6,\n            'f': \"6\",\n        },\n{\n            'v': 192251.0,\n            'f': \"192251.0\",\n        },\n{\n            'v': 0,\n            'f': \"0\",\n        },\n{\n            'v': 6.0,\n            'f': \"6.0\",\n        },\n{\n            'v': 2,\n            'f': \"2\",\n        },\n{\n            'v': 8,\n            'f': \"8\",\n        },\n{\n            'v': 5,\n            'f': \"5\",\n        },\n{\n            'v': 4,\n            'f': \"4\",\n        },\n{\n            'v': 0,\n            'f': \"0\",\n        },\n{\n            'v': 2635.0,\n            'f': \"2635.0\",\n        },\n{\n            'v': 0.0,\n            'f': \"0.0\",\n        },\n{\n            'v': 40.0,\n            'f': \"40.0\",\n        },\n{\n            'v': 39,\n            'f': \"39\",\n        },\n{\n            'v': 0,\n            'f': \"0\",\n        }],\n [{\n            'v': 38,\n            'f': \"38\",\n        },\n{\n            'v': 32.0,\n            'f': \"32.0\",\n        },\n{\n            'v': 4,\n            'f': \"4\",\n        },\n{\n            'v': 311764.0,\n            'f': \"311764.0\",\n        },\n{\n            'v': 0,\n            'f': \"0\",\n        },\n{\n            'v': 6.0,\n            'f': \"6.0\",\n        },\n{\n            'v': 2,\n            'f': \"2\",\n        },\n{\n            'v': 4,\n            'f': \"4\",\n        },\n{\n            'v': 5,\n            'f': \"5\",\n        },\n{\n            'v': 4,\n            'f': \"4\",\n        },\n{\n            'v': 0,\n            'f': \"0\",\n        },\n{\n            'v': 0.0,\n            'f': \"0.0\",\n        },\n{\n            'v': 0.0,\n            'f': \"0.0\",\n        },\n{\n            'v': 35.0,\n            'f': \"35.0\",\n        },\n{\n            'v': 39,\n            'f': \"39\",\n        },\n{\n            'v': 0,\n            'f': \"0\",\n        }],\n [{\n            'v': 39,\n            'f': \"39\",\n        },\n{\n            'v': 47.0,\n            'f': \"47.0\",\n        },\n{\n            'v': 4,\n            'f': \"4\",\n        },\n{\n            'v': 178013.0,\n            'f': \"178013.0\",\n        },\n{\n            'v': 0,\n            'f': \"0\",\n        },\n{\n            'v': 6.0,\n            'f': \"6.0\",\n        },\n{\n            'v': 2,\n            'f': \"2\",\n        },\n{\n            'v': 10,\n            'f': \"10\",\n        },\n{\n            'v': 5,\n            'f': \"5\",\n        },\n{\n            'v': 4,\n            'f': \"4\",\n        },\n{\n            'v': 0,\n            'f': \"0\",\n        },\n{\n            'v': 0.0,\n            'f': \"0.0\",\n        },\n{\n            'v': 0.0,\n            'f': \"0.0\",\n        },\n{\n            'v': 20.0,\n            'f': \"20.0\",\n        },\n{\n            'v': 5,\n            'f': \"5\",\n        },\n{\n            'v': 0,\n            'f': \"0\",\n        }],\n [{\n            'v': 40,\n            'f': \"40\",\n        },\n{\n            'v': 32.0,\n            'f': \"32.0\",\n        },\n{\n            'v': 4,\n            'f': \"4\",\n        },\n{\n            'v': 143162.0,\n            'f': \"143162.0\",\n        },\n{\n            'v': 0,\n            'f': \"0\",\n        },\n{\n            'v': 6.0,\n            'f': \"6.0\",\n        },\n{\n            'v': 2,\n            'f': \"2\",\n        },\n{\n            'v': 10,\n            'f': \"10\",\n        },\n{\n            'v': 5,\n            'f': \"5\",\n        },\n{\n            'v': 4,\n            'f': \"4\",\n        },\n{\n            'v': 0,\n            'f': \"0\",\n        },\n{\n            'v': 0.0,\n            'f': \"0.0\",\n        },\n{\n            'v': 0.0,\n            'f': \"0.0\",\n        },\n{\n            'v': 40.0,\n            'f': \"40.0\",\n        },\n{\n            'v': 39,\n            'f': \"39\",\n        },\n{\n            'v': 0,\n            'f': \"0\",\n        }],\n [{\n            'v': 41,\n            'f': \"41\",\n        },\n{\n            'v': 81.0,\n            'f': \"81.0\",\n        },\n{\n            'v': 5,\n            'f': \"5\",\n        },\n{\n            'v': 247232.0,\n            'f': \"247232.0\",\n        },\n{\n            'v': 0,\n            'f': \"0\",\n        },\n{\n            'v': 6.0,\n            'f': \"6.0\",\n        },\n{\n            'v': 2,\n            'f': \"2\",\n        },\n{\n            'v': 4,\n            'f': \"4\",\n        },\n{\n            'v': 5,\n            'f': \"5\",\n        },\n{\n            'v': 4,\n            'f': \"4\",\n        },\n{\n            'v': 0,\n            'f': \"0\",\n        },\n{\n            'v': 2936.0,\n            'f': \"2936.0\",\n        },\n{\n            'v': 0.0,\n            'f': \"0.0\",\n        },\n{\n            'v': 28.0,\n            'f': \"28.0\",\n        },\n{\n            'v': 39,\n            'f': \"39\",\n        },\n{\n            'v': 0,\n            'f': \"0\",\n        }],\n [{\n            'v': 42,\n            'f': \"42\",\n        },\n{\n            'v': 55.0,\n            'f': \"55.0\",\n        },\n{\n            'v': 4,\n            'f': \"4\",\n        },\n{\n            'v': 205422.0,\n            'f': \"205422.0\",\n        },\n{\n            'v': 0,\n            'f': \"0\",\n        },\n{\n            'v': 6.0,\n            'f': \"6.0\",\n        },\n{\n            'v': 2,\n            'f': \"2\",\n        },\n{\n            'v': 8,\n            'f': \"8\",\n        },\n{\n            'v': 5,\n            'f': \"5\",\n        },\n{\n            'v': 2,\n            'f': \"2\",\n        },\n{\n            'v': 0,\n            'f': \"0\",\n        },\n{\n            'v': 0.0,\n            'f': \"0.0\",\n        },\n{\n            'v': 0.0,\n            'f': \"0.0\",\n        },\n{\n            'v': 40.0,\n            'f': \"40.0\",\n        },\n{\n            'v': 39,\n            'f': \"39\",\n        },\n{\n            'v': 0,\n            'f': \"0\",\n        }],\n [{\n            'v': 43,\n            'f': \"43\",\n        },\n{\n            'v': 58.0,\n            'f': \"58.0\",\n        },\n{\n            'v': 6,\n            'f': \"6\",\n        },\n{\n            'v': 147653.0,\n            'f': \"147653.0\",\n        },\n{\n            'v': 0,\n            'f': \"0\",\n        },\n{\n            'v': 6.0,\n            'f': \"6.0\",\n        },\n{\n            'v': 2,\n            'f': \"2\",\n        },\n{\n            'v': 3,\n            'f': \"3\",\n        },\n{\n            'v': 5,\n            'f': \"5\",\n        },\n{\n            'v': 4,\n            'f': \"4\",\n        },\n{\n            'v': 0,\n            'f': \"0\",\n        },\n{\n            'v': 0.0,\n            'f': \"0.0\",\n        },\n{\n            'v': 1977.0,\n            'f': \"1977.0\",\n        },\n{\n            'v': 35.0,\n            'f': \"35.0\",\n        },\n{\n            'v': 39,\n            'f': \"39\",\n        },\n{\n            'v': 1,\n            'f': \"1\",\n        }],\n [{\n            'v': 44,\n            'f': \"44\",\n        },\n{\n            'v': 56.0,\n            'f': \"56.0\",\n        },\n{\n            'v': 4,\n            'f': \"4\",\n        },\n{\n            'v': 99894.0,\n            'f': \"99894.0\",\n        },\n{\n            'v': 0,\n            'f': \"0\",\n        },\n{\n            'v': 6.0,\n            'f': \"6.0\",\n        },\n{\n            'v': 2,\n            'f': \"2\",\n        },\n{\n            'v': 12,\n            'f': \"12\",\n        },\n{\n            'v': 5,\n            'f': \"5\",\n        },\n{\n            'v': 1,\n            'f': \"1\",\n        },\n{\n            'v': 0,\n            'f': \"0\",\n        },\n{\n            'v': 0.0,\n            'f': \"0.0\",\n        },\n{\n            'v': 0.0,\n            'f': \"0.0\",\n        },\n{\n            'v': 30.0,\n            'f': \"30.0\",\n        },\n{\n            'v': 24,\n            'f': \"24\",\n        },\n{\n            'v': 1,\n            'f': \"1\",\n        }],\n [{\n            'v': 45,\n            'f': \"45\",\n        },\n{\n            'v': 48.0,\n            'f': \"48.0\",\n        },\n{\n            'v': 4,\n            'f': \"4\",\n        },\n{\n            'v': 112860.0,\n            'f': \"112860.0\",\n        },\n{\n            'v': 0,\n            'f': \"0\",\n        },\n{\n            'v': 6.0,\n            'f': \"6.0\",\n        },\n{\n            'v': 2,\n            'f': \"2\",\n        },\n{\n            'v': 10,\n            'f': \"10\",\n        },\n{\n            'v': 5,\n            'f': \"5\",\n        },\n{\n            'v': 2,\n            'f': \"2\",\n        },\n{\n            'v': 0,\n            'f': \"0\",\n        },\n{\n            'v': 0.0,\n            'f': \"0.0\",\n        },\n{\n            'v': 0.0,\n            'f': \"0.0\",\n        },\n{\n            'v': 35.0,\n            'f': \"35.0\",\n        },\n{\n            'v': 39,\n            'f': \"39\",\n        },\n{\n            'v': 0,\n            'f': \"0\",\n        }],\n [{\n            'v': 46,\n            'f': \"46\",\n        },\n{\n            'v': 59.0,\n            'f': \"59.0\",\n        },\n{\n            'v': 6,\n            'f': \"6\",\n        },\n{\n            'v': 119344.0,\n            'f': \"119344.0\",\n        },\n{\n            'v': 0,\n            'f': \"0\",\n        },\n{\n            'v': 6.0,\n            'f': \"6.0\",\n        },\n{\n            'v': 2,\n            'f': \"2\",\n        },\n{\n            'v': 4,\n            'f': \"4\",\n        },\n{\n            'v': 5,\n            'f': \"5\",\n        },\n{\n            'v': 4,\n            'f': \"4\",\n        },\n{\n            'v': 0,\n            'f': \"0\",\n        },\n{\n            'v': 0.0,\n            'f': \"0.0\",\n        },\n{\n            'v': 0.0,\n            'f': \"0.0\",\n        },\n{\n            'v': 36.0,\n            'f': \"36.0\",\n        },\n{\n            'v': 39,\n            'f': \"39\",\n        },\n{\n            'v': 0,\n            'f': \"0\",\n        }],\n [{\n            'v': 47,\n            'f': \"47\",\n        },\n{\n            'v': 22.0,\n            'f': \"22.0\",\n        },\n{\n            'v': 4,\n            'f': \"4\",\n        },\n{\n            'v': 134746.0,\n            'f': \"134746.0\",\n        },\n{\n            'v': 0,\n            'f': \"0\",\n        },\n{\n            'v': 6.0,\n            'f': \"6.0\",\n        },\n{\n            'v': 2,\n            'f': \"2\",\n        },\n{\n            'v': 12,\n            'f': \"12\",\n        },\n{\n            'v': 5,\n            'f': \"5\",\n        },\n{\n            'v': 4,\n            'f': \"4\",\n        },\n{\n            'v': 0,\n            'f': \"0\",\n        },\n{\n            'v': 0.0,\n            'f': \"0.0\",\n        },\n{\n            'v': 0.0,\n            'f': \"0.0\",\n        },\n{\n            'v': 40.0,\n            'f': \"40.0\",\n        },\n{\n            'v': 39,\n            'f': \"39\",\n        },\n{\n            'v': 0,\n            'f': \"0\",\n        }],\n [{\n            'v': 48,\n            'f': \"48\",\n        },\n{\n            'v': 25.0,\n            'f': \"25.0\",\n        },\n{\n            'v': 4,\n            'f': \"4\",\n        },\n{\n            'v': 47353.0,\n            'f': \"47353.0\",\n        },\n{\n            'v': 0,\n            'f': \"0\",\n        },\n{\n            'v': 6.0,\n            'f': \"6.0\",\n        },\n{\n            'v': 2,\n            'f': \"2\",\n        },\n{\n            'v': 8,\n            'f': \"8\",\n        },\n{\n            'v': 5,\n            'f': \"5\",\n        },\n{\n            'v': 4,\n            'f': \"4\",\n        },\n{\n            'v': 0,\n            'f': \"0\",\n        },\n{\n            'v': 0.0,\n            'f': \"0.0\",\n        },\n{\n            'v': 0.0,\n            'f': \"0.0\",\n        },\n{\n            'v': 40.0,\n            'f': \"40.0\",\n        },\n{\n            'v': 39,\n            'f': \"39\",\n        },\n{\n            'v': 0,\n            'f': \"0\",\n        }],\n [{\n            'v': 49,\n            'f': \"49\",\n        },\n{\n            'v': 28.0,\n            'f': \"28.0\",\n        },\n{\n            'v': 1,\n            'f': \"1\",\n        },\n{\n            'v': 24153.0,\n            'f': \"24153.0\",\n        },\n{\n            'v': 0,\n            'f': \"0\",\n        },\n{\n            'v': 6.0,\n            'f': \"6.0\",\n        },\n{\n            'v': 2,\n            'f': \"2\",\n        },\n{\n            'v': 8,\n            'f': \"8\",\n        },\n{\n            'v': 5,\n            'f': \"5\",\n        },\n{\n            'v': 0,\n            'f': \"0\",\n        },\n{\n            'v': 0,\n            'f': \"0\",\n        },\n{\n            'v': 0.0,\n            'f': \"0.0\",\n        },\n{\n            'v': 0.0,\n            'f': \"0.0\",\n        },\n{\n            'v': 40.0,\n            'f': \"40.0\",\n        },\n{\n            'v': 39,\n            'f': \"39\",\n        },\n{\n            'v': 0,\n            'f': \"0\",\n        }]],\n        columns: [[\"number\", \"index\"], [\"number\", \"age\"], [\"number\", \"workclass\"], [\"number\", \"functional_weight\"], [\"number\", \"education\"], [\"number\", \"education_num\"], [\"number\", \"marital_status\"], [\"number\", \"occupation\"], [\"number\", \"relationship\"], [\"number\", \"race\"], [\"number\", \"sex\"], [\"number\", \"capital_gain\"], [\"number\", \"capital_loss\"], [\"number\", \"hours_per_week\"], [\"number\", \"native_country\"], [\"number\", \"income_bracket\"]],\n        columnOptions: [{\"width\": \"1px\", \"className\": \"index_column\"}],\n        rowsPerPage: 25,\n        helpUrl: \"https://colab.research.google.com/notebooks/data_table.ipynb\",\n        suppressOutputScrolling: true,\n        minimumWidth: undefined,\n      });\n    ",
            "text/html": [
              "<div>\n",
              "<style scoped>\n",
              "    .dataframe tbody tr th:only-of-type {\n",
              "        vertical-align: middle;\n",
              "    }\n",
              "\n",
              "    .dataframe tbody tr th {\n",
              "        vertical-align: top;\n",
              "    }\n",
              "\n",
              "    .dataframe thead th {\n",
              "        text-align: right;\n",
              "    }\n",
              "</style>\n",
              "<table border=\"1\" class=\"dataframe\">\n",
              "  <thead>\n",
              "    <tr style=\"text-align: right;\">\n",
              "      <th></th>\n",
              "      <th>age</th>\n",
              "      <th>workclass</th>\n",
              "      <th>functional_weight</th>\n",
              "      <th>education</th>\n",
              "      <th>education_num</th>\n",
              "      <th>marital_status</th>\n",
              "      <th>occupation</th>\n",
              "      <th>relationship</th>\n",
              "      <th>race</th>\n",
              "      <th>sex</th>\n",
              "      <th>capital_gain</th>\n",
              "      <th>capital_loss</th>\n",
              "      <th>hours_per_week</th>\n",
              "      <th>native_country</th>\n",
              "      <th>income_bracket</th>\n",
              "    </tr>\n",
              "  </thead>\n",
              "  <tbody>\n",
              "    <tr>\n",
              "      <th>0</th>\n",
              "      <td>39.0</td>\n",
              "      <td>4</td>\n",
              "      <td>297847.0</td>\n",
              "      <td>6</td>\n",
              "      <td>5.0</td>\n",
              "      <td>2</td>\n",
              "      <td>8</td>\n",
              "      <td>5</td>\n",
              "      <td>2</td>\n",
              "      <td>0</td>\n",
              "      <td>3411.0</td>\n",
              "      <td>0.0</td>\n",
              "      <td>34.0</td>\n",
              "      <td>39</td>\n",
              "      <td>0</td>\n",
              "    </tr>\n",
              "    <tr>\n",
              "      <th>1</th>\n",
              "      <td>72.0</td>\n",
              "      <td>4</td>\n",
              "      <td>74141.0</td>\n",
              "      <td>6</td>\n",
              "      <td>5.0</td>\n",
              "      <td>2</td>\n",
              "      <td>4</td>\n",
              "      <td>5</td>\n",
              "      <td>1</td>\n",
              "      <td>0</td>\n",
              "      <td>0.0</td>\n",
              "      <td>0.0</td>\n",
              "      <td>48.0</td>\n",
              "      <td>39</td>\n",
              "      <td>1</td>\n",
              "    </tr>\n",
              "    <tr>\n",
              "      <th>2</th>\n",
              "      <td>45.0</td>\n",
              "      <td>4</td>\n",
              "      <td>178215.0</td>\n",
              "      <td>6</td>\n",
              "      <td>5.0</td>\n",
              "      <td>2</td>\n",
              "      <td>7</td>\n",
              "      <td>5</td>\n",
              "      <td>4</td>\n",
              "      <td>0</td>\n",
              "      <td>0.0</td>\n",
              "      <td>0.0</td>\n",
              "      <td>40.0</td>\n",
              "      <td>39</td>\n",
              "      <td>1</td>\n",
              "    </tr>\n",
              "    <tr>\n",
              "      <th>3</th>\n",
              "      <td>31.0</td>\n",
              "      <td>4</td>\n",
              "      <td>86958.0</td>\n",
              "      <td>6</td>\n",
              "      <td>5.0</td>\n",
              "      <td>2</td>\n",
              "      <td>4</td>\n",
              "      <td>5</td>\n",
              "      <td>4</td>\n",
              "      <td>0</td>\n",
              "      <td>0.0</td>\n",
              "      <td>0.0</td>\n",
              "      <td>40.0</td>\n",
              "      <td>39</td>\n",
              "      <td>0</td>\n",
              "    </tr>\n",
              "    <tr>\n",
              "      <th>4</th>\n",
              "      <td>55.0</td>\n",
              "      <td>4</td>\n",
              "      <td>176012.0</td>\n",
              "      <td>6</td>\n",
              "      <td>5.0</td>\n",
              "      <td>2</td>\n",
              "      <td>13</td>\n",
              "      <td>5</td>\n",
              "      <td>4</td>\n",
              "      <td>0</td>\n",
              "      <td>0.0</td>\n",
              "      <td>0.0</td>\n",
              "      <td>23.0</td>\n",
              "      <td>39</td>\n",
              "      <td>0</td>\n",
              "    </tr>\n",
              "    <tr>\n",
              "      <th>5</th>\n",
              "      <td>30.0</td>\n",
              "      <td>4</td>\n",
              "      <td>61272.0</td>\n",
              "      <td>6</td>\n",
              "      <td>5.0</td>\n",
              "      <td>2</td>\n",
              "      <td>7</td>\n",
              "      <td>5</td>\n",
              "      <td>4</td>\n",
              "      <td>0</td>\n",
              "      <td>0.0</td>\n",
              "      <td>0.0</td>\n",
              "      <td>40.0</td>\n",
              "      <td>32</td>\n",
              "      <td>0</td>\n",
              "    </tr>\n",
              "    <tr>\n",
              "      <th>6</th>\n",
              "      <td>46.0</td>\n",
              "      <td>5</td>\n",
              "      <td>161386.0</td>\n",
              "      <td>6</td>\n",
              "      <td>5.0</td>\n",
              "      <td>2</td>\n",
              "      <td>1</td>\n",
              "      <td>5</td>\n",
              "      <td>4</td>\n",
              "      <td>0</td>\n",
              "      <td>0.0</td>\n",
              "      <td>0.0</td>\n",
              "      <td>50.0</td>\n",
              "      <td>39</td>\n",
              "      <td>0</td>\n",
              "    </tr>\n",
              "    <tr>\n",
              "      <th>7</th>\n",
              "      <td>28.0</td>\n",
              "      <td>4</td>\n",
              "      <td>209801.0</td>\n",
              "      <td>6</td>\n",
              "      <td>5.0</td>\n",
              "      <td>2</td>\n",
              "      <td>7</td>\n",
              "      <td>5</td>\n",
              "      <td>4</td>\n",
              "      <td>0</td>\n",
              "      <td>0.0</td>\n",
              "      <td>0.0</td>\n",
              "      <td>40.0</td>\n",
              "      <td>39</td>\n",
              "      <td>0</td>\n",
              "    </tr>\n",
              "    <tr>\n",
              "      <th>8</th>\n",
              "      <td>37.0</td>\n",
              "      <td>4</td>\n",
              "      <td>171090.0</td>\n",
              "      <td>6</td>\n",
              "      <td>5.0</td>\n",
              "      <td>2</td>\n",
              "      <td>7</td>\n",
              "      <td>5</td>\n",
              "      <td>2</td>\n",
              "      <td>0</td>\n",
              "      <td>0.0</td>\n",
              "      <td>0.0</td>\n",
              "      <td>48.0</td>\n",
              "      <td>39</td>\n",
              "      <td>0</td>\n",
              "    </tr>\n",
              "    <tr>\n",
              "      <th>9</th>\n",
              "      <td>40.0</td>\n",
              "      <td>2</td>\n",
              "      <td>183096.0</td>\n",
              "      <td>6</td>\n",
              "      <td>5.0</td>\n",
              "      <td>2</td>\n",
              "      <td>8</td>\n",
              "      <td>5</td>\n",
              "      <td>4</td>\n",
              "      <td>0</td>\n",
              "      <td>0.0</td>\n",
              "      <td>0.0</td>\n",
              "      <td>40.0</td>\n",
              "      <td>41</td>\n",
              "      <td>1</td>\n",
              "    </tr>\n",
              "    <tr>\n",
              "      <th>10</th>\n",
              "      <td>41.0</td>\n",
              "      <td>4</td>\n",
              "      <td>217921.0</td>\n",
              "      <td>6</td>\n",
              "      <td>5.0</td>\n",
              "      <td>2</td>\n",
              "      <td>10</td>\n",
              "      <td>5</td>\n",
              "      <td>1</td>\n",
              "      <td>0</td>\n",
              "      <td>0.0</td>\n",
              "      <td>0.0</td>\n",
              "      <td>40.0</td>\n",
              "      <td>17</td>\n",
              "      <td>0</td>\n",
              "    </tr>\n",
              "    <tr>\n",
              "      <th>11</th>\n",
              "      <td>27.0</td>\n",
              "      <td>4</td>\n",
              "      <td>109611.0</td>\n",
              "      <td>6</td>\n",
              "      <td>5.0</td>\n",
              "      <td>2</td>\n",
              "      <td>7</td>\n",
              "      <td>5</td>\n",
              "      <td>4</td>\n",
              "      <td>0</td>\n",
              "      <td>0.0</td>\n",
              "      <td>0.0</td>\n",
              "      <td>37.0</td>\n",
              "      <td>32</td>\n",
              "      <td>0</td>\n",
              "    </tr>\n",
              "    <tr>\n",
              "      <th>12</th>\n",
              "      <td>31.0</td>\n",
              "      <td>4</td>\n",
              "      <td>399052.0</td>\n",
              "      <td>6</td>\n",
              "      <td>5.0</td>\n",
              "      <td>2</td>\n",
              "      <td>5</td>\n",
              "      <td>5</td>\n",
              "      <td>4</td>\n",
              "      <td>0</td>\n",
              "      <td>0.0</td>\n",
              "      <td>0.0</td>\n",
              "      <td>42.0</td>\n",
              "      <td>39</td>\n",
              "      <td>0</td>\n",
              "    </tr>\n",
              "    <tr>\n",
              "      <th>13</th>\n",
              "      <td>46.0</td>\n",
              "      <td>4</td>\n",
              "      <td>184883.0</td>\n",
              "      <td>6</td>\n",
              "      <td>5.0</td>\n",
              "      <td>2</td>\n",
              "      <td>7</td>\n",
              "      <td>5</td>\n",
              "      <td>4</td>\n",
              "      <td>0</td>\n",
              "      <td>0.0</td>\n",
              "      <td>0.0</td>\n",
              "      <td>40.0</td>\n",
              "      <td>39</td>\n",
              "      <td>0</td>\n",
              "    </tr>\n",
              "    <tr>\n",
              "      <th>14</th>\n",
              "      <td>70.0</td>\n",
              "      <td>4</td>\n",
              "      <td>216390.0</td>\n",
              "      <td>6</td>\n",
              "      <td>5.0</td>\n",
              "      <td>2</td>\n",
              "      <td>7</td>\n",
              "      <td>5</td>\n",
              "      <td>4</td>\n",
              "      <td>0</td>\n",
              "      <td>2653.0</td>\n",
              "      <td>0.0</td>\n",
              "      <td>40.0</td>\n",
              "      <td>39</td>\n",
              "      <td>0</td>\n",
              "    </tr>\n",
              "    <tr>\n",
              "      <th>15</th>\n",
              "      <td>77.0</td>\n",
              "      <td>4</td>\n",
              "      <td>344425.0</td>\n",
              "      <td>6</td>\n",
              "      <td>5.0</td>\n",
              "      <td>2</td>\n",
              "      <td>9</td>\n",
              "      <td>5</td>\n",
              "      <td>2</td>\n",
              "      <td>0</td>\n",
              "      <td>0.0</td>\n",
              "      <td>0.0</td>\n",
              "      <td>10.0</td>\n",
              "      <td>39</td>\n",
              "      <td>0</td>\n",
              "    </tr>\n",
              "    <tr>\n",
              "      <th>16</th>\n",
              "      <td>38.0</td>\n",
              "      <td>4</td>\n",
              "      <td>131461.0</td>\n",
              "      <td>6</td>\n",
              "      <td>5.0</td>\n",
              "      <td>2</td>\n",
              "      <td>8</td>\n",
              "      <td>5</td>\n",
              "      <td>2</td>\n",
              "      <td>0</td>\n",
              "      <td>0.0</td>\n",
              "      <td>0.0</td>\n",
              "      <td>24.0</td>\n",
              "      <td>14</td>\n",
              "      <td>0</td>\n",
              "    </tr>\n",
              "    <tr>\n",
              "      <th>17</th>\n",
              "      <td>41.0</td>\n",
              "      <td>5</td>\n",
              "      <td>299813.0</td>\n",
              "      <td>6</td>\n",
              "      <td>5.0</td>\n",
              "      <td>2</td>\n",
              "      <td>12</td>\n",
              "      <td>5</td>\n",
              "      <td>4</td>\n",
              "      <td>0</td>\n",
              "      <td>0.0</td>\n",
              "      <td>0.0</td>\n",
              "      <td>70.0</td>\n",
              "      <td>6</td>\n",
              "      <td>0</td>\n",
              "    </tr>\n",
              "    <tr>\n",
              "      <th>18</th>\n",
              "      <td>52.0</td>\n",
              "      <td>2</td>\n",
              "      <td>330799.0</td>\n",
              "      <td>6</td>\n",
              "      <td>5.0</td>\n",
              "      <td>2</td>\n",
              "      <td>8</td>\n",
              "      <td>5</td>\n",
              "      <td>4</td>\n",
              "      <td>0</td>\n",
              "      <td>0.0</td>\n",
              "      <td>0.0</td>\n",
              "      <td>40.0</td>\n",
              "      <td>39</td>\n",
              "      <td>0</td>\n",
              "    </tr>\n",
              "    <tr>\n",
              "      <th>19</th>\n",
              "      <td>35.0</td>\n",
              "      <td>4</td>\n",
              "      <td>374716.0</td>\n",
              "      <td>6</td>\n",
              "      <td>5.0</td>\n",
              "      <td>2</td>\n",
              "      <td>10</td>\n",
              "      <td>5</td>\n",
              "      <td>4</td>\n",
              "      <td>0</td>\n",
              "      <td>0.0</td>\n",
              "      <td>0.0</td>\n",
              "      <td>35.0</td>\n",
              "      <td>39</td>\n",
              "      <td>0</td>\n",
              "    </tr>\n",
              "    <tr>\n",
              "      <th>20</th>\n",
              "      <td>28.0</td>\n",
              "      <td>4</td>\n",
              "      <td>190350.0</td>\n",
              "      <td>6</td>\n",
              "      <td>5.0</td>\n",
              "      <td>2</td>\n",
              "      <td>11</td>\n",
              "      <td>5</td>\n",
              "      <td>2</td>\n",
              "      <td>0</td>\n",
              "      <td>0.0</td>\n",
              "      <td>0.0</td>\n",
              "      <td>40.0</td>\n",
              "      <td>39</td>\n",
              "      <td>0</td>\n",
              "    </tr>\n",
              "    <tr>\n",
              "      <th>21</th>\n",
              "      <td>36.0</td>\n",
              "      <td>4</td>\n",
              "      <td>348022.0</td>\n",
              "      <td>0</td>\n",
              "      <td>6.0</td>\n",
              "      <td>2</td>\n",
              "      <td>8</td>\n",
              "      <td>5</td>\n",
              "      <td>4</td>\n",
              "      <td>0</td>\n",
              "      <td>0.0</td>\n",
              "      <td>0.0</td>\n",
              "      <td>24.0</td>\n",
              "      <td>39</td>\n",
              "      <td>0</td>\n",
              "    </tr>\n",
              "    <tr>\n",
              "      <th>22</th>\n",
              "      <td>58.0</td>\n",
              "      <td>4</td>\n",
              "      <td>51662.0</td>\n",
              "      <td>0</td>\n",
              "      <td>6.0</td>\n",
              "      <td>2</td>\n",
              "      <td>8</td>\n",
              "      <td>5</td>\n",
              "      <td>4</td>\n",
              "      <td>0</td>\n",
              "      <td>0.0</td>\n",
              "      <td>0.0</td>\n",
              "      <td>8.0</td>\n",
              "      <td>39</td>\n",
              "      <td>0</td>\n",
              "    </tr>\n",
              "    <tr>\n",
              "      <th>23</th>\n",
              "      <td>48.0</td>\n",
              "      <td>4</td>\n",
              "      <td>207848.0</td>\n",
              "      <td>0</td>\n",
              "      <td>6.0</td>\n",
              "      <td>2</td>\n",
              "      <td>1</td>\n",
              "      <td>5</td>\n",
              "      <td>4</td>\n",
              "      <td>0</td>\n",
              "      <td>0.0</td>\n",
              "      <td>0.0</td>\n",
              "      <td>40.0</td>\n",
              "      <td>39</td>\n",
              "      <td>0</td>\n",
              "    </tr>\n",
              "    <tr>\n",
              "      <th>24</th>\n",
              "      <td>58.0</td>\n",
              "      <td>5</td>\n",
              "      <td>183870.0</td>\n",
              "      <td>0</td>\n",
              "      <td>6.0</td>\n",
              "      <td>2</td>\n",
              "      <td>14</td>\n",
              "      <td>5</td>\n",
              "      <td>4</td>\n",
              "      <td>0</td>\n",
              "      <td>0.0</td>\n",
              "      <td>0.0</td>\n",
              "      <td>40.0</td>\n",
              "      <td>39</td>\n",
              "      <td>0</td>\n",
              "    </tr>\n",
              "    <tr>\n",
              "      <th>25</th>\n",
              "      <td>22.0</td>\n",
              "      <td>4</td>\n",
              "      <td>214731.0</td>\n",
              "      <td>0</td>\n",
              "      <td>6.0</td>\n",
              "      <td>2</td>\n",
              "      <td>7</td>\n",
              "      <td>5</td>\n",
              "      <td>4</td>\n",
              "      <td>0</td>\n",
              "      <td>0.0</td>\n",
              "      <td>0.0</td>\n",
              "      <td>40.0</td>\n",
              "      <td>39</td>\n",
              "      <td>0</td>\n",
              "    </tr>\n",
              "    <tr>\n",
              "      <th>26</th>\n",
              "      <td>29.0</td>\n",
              "      <td>4</td>\n",
              "      <td>100405.0</td>\n",
              "      <td>0</td>\n",
              "      <td>6.0</td>\n",
              "      <td>2</td>\n",
              "      <td>5</td>\n",
              "      <td>5</td>\n",
              "      <td>0</td>\n",
              "      <td>0</td>\n",
              "      <td>0.0</td>\n",
              "      <td>0.0</td>\n",
              "      <td>40.0</td>\n",
              "      <td>39</td>\n",
              "      <td>0</td>\n",
              "    </tr>\n",
              "    <tr>\n",
              "      <th>27</th>\n",
              "      <td>27.0</td>\n",
              "      <td>4</td>\n",
              "      <td>200641.0</td>\n",
              "      <td>0</td>\n",
              "      <td>6.0</td>\n",
              "      <td>2</td>\n",
              "      <td>4</td>\n",
              "      <td>5</td>\n",
              "      <td>4</td>\n",
              "      <td>0</td>\n",
              "      <td>0.0</td>\n",
              "      <td>0.0</td>\n",
              "      <td>40.0</td>\n",
              "      <td>26</td>\n",
              "      <td>0</td>\n",
              "    </tr>\n",
              "    <tr>\n",
              "      <th>28</th>\n",
              "      <td>40.0</td>\n",
              "      <td>4</td>\n",
              "      <td>222848.0</td>\n",
              "      <td>0</td>\n",
              "      <td>6.0</td>\n",
              "      <td>2</td>\n",
              "      <td>8</td>\n",
              "      <td>5</td>\n",
              "      <td>2</td>\n",
              "      <td>0</td>\n",
              "      <td>0.0</td>\n",
              "      <td>0.0</td>\n",
              "      <td>32.0</td>\n",
              "      <td>39</td>\n",
              "      <td>0</td>\n",
              "    </tr>\n",
              "    <tr>\n",
              "      <th>29</th>\n",
              "      <td>26.0</td>\n",
              "      <td>4</td>\n",
              "      <td>515025.0</td>\n",
              "      <td>0</td>\n",
              "      <td>6.0</td>\n",
              "      <td>2</td>\n",
              "      <td>6</td>\n",
              "      <td>5</td>\n",
              "      <td>4</td>\n",
              "      <td>0</td>\n",
              "      <td>0.0</td>\n",
              "      <td>0.0</td>\n",
              "      <td>40.0</td>\n",
              "      <td>39</td>\n",
              "      <td>0</td>\n",
              "    </tr>\n",
              "    <tr>\n",
              "      <th>30</th>\n",
              "      <td>26.0</td>\n",
              "      <td>4</td>\n",
              "      <td>102106.0</td>\n",
              "      <td>0</td>\n",
              "      <td>6.0</td>\n",
              "      <td>2</td>\n",
              "      <td>1</td>\n",
              "      <td>5</td>\n",
              "      <td>4</td>\n",
              "      <td>0</td>\n",
              "      <td>0.0</td>\n",
              "      <td>0.0</td>\n",
              "      <td>40.0</td>\n",
              "      <td>39</td>\n",
              "      <td>0</td>\n",
              "    </tr>\n",
              "    <tr>\n",
              "      <th>31</th>\n",
              "      <td>25.0</td>\n",
              "      <td>4</td>\n",
              "      <td>431307.0</td>\n",
              "      <td>0</td>\n",
              "      <td>6.0</td>\n",
              "      <td>2</td>\n",
              "      <td>11</td>\n",
              "      <td>5</td>\n",
              "      <td>2</td>\n",
              "      <td>0</td>\n",
              "      <td>0.0</td>\n",
              "      <td>0.0</td>\n",
              "      <td>50.0</td>\n",
              "      <td>39</td>\n",
              "      <td>0</td>\n",
              "    </tr>\n",
              "    <tr>\n",
              "      <th>32</th>\n",
              "      <td>52.0</td>\n",
              "      <td>4</td>\n",
              "      <td>245275.0</td>\n",
              "      <td>0</td>\n",
              "      <td>6.0</td>\n",
              "      <td>2</td>\n",
              "      <td>8</td>\n",
              "      <td>5</td>\n",
              "      <td>4</td>\n",
              "      <td>0</td>\n",
              "      <td>0.0</td>\n",
              "      <td>0.0</td>\n",
              "      <td>35.0</td>\n",
              "      <td>39</td>\n",
              "      <td>0</td>\n",
              "    </tr>\n",
              "    <tr>\n",
              "      <th>33</th>\n",
              "      <td>24.0</td>\n",
              "      <td>4</td>\n",
              "      <td>227070.0</td>\n",
              "      <td>0</td>\n",
              "      <td>6.0</td>\n",
              "      <td>2</td>\n",
              "      <td>7</td>\n",
              "      <td>5</td>\n",
              "      <td>4</td>\n",
              "      <td>0</td>\n",
              "      <td>0.0</td>\n",
              "      <td>0.0</td>\n",
              "      <td>40.0</td>\n",
              "      <td>39</td>\n",
              "      <td>0</td>\n",
              "    </tr>\n",
              "    <tr>\n",
              "      <th>34</th>\n",
              "      <td>28.0</td>\n",
              "      <td>4</td>\n",
              "      <td>118861.0</td>\n",
              "      <td>0</td>\n",
              "      <td>6.0</td>\n",
              "      <td>2</td>\n",
              "      <td>3</td>\n",
              "      <td>5</td>\n",
              "      <td>3</td>\n",
              "      <td>0</td>\n",
              "      <td>0.0</td>\n",
              "      <td>0.0</td>\n",
              "      <td>48.0</td>\n",
              "      <td>13</td>\n",
              "      <td>0</td>\n",
              "    </tr>\n",
              "    <tr>\n",
              "      <th>35</th>\n",
              "      <td>57.0</td>\n",
              "      <td>4</td>\n",
              "      <td>334585.0</td>\n",
              "      <td>0</td>\n",
              "      <td>6.0</td>\n",
              "      <td>2</td>\n",
              "      <td>10</td>\n",
              "      <td>5</td>\n",
              "      <td>4</td>\n",
              "      <td>0</td>\n",
              "      <td>0.0</td>\n",
              "      <td>0.0</td>\n",
              "      <td>40.0</td>\n",
              "      <td>39</td>\n",
              "      <td>0</td>\n",
              "    </tr>\n",
              "    <tr>\n",
              "      <th>36</th>\n",
              "      <td>29.0</td>\n",
              "      <td>4</td>\n",
              "      <td>253752.0</td>\n",
              "      <td>0</td>\n",
              "      <td>6.0</td>\n",
              "      <td>2</td>\n",
              "      <td>5</td>\n",
              "      <td>5</td>\n",
              "      <td>4</td>\n",
              "      <td>0</td>\n",
              "      <td>0.0</td>\n",
              "      <td>0.0</td>\n",
              "      <td>40.0</td>\n",
              "      <td>39</td>\n",
              "      <td>0</td>\n",
              "    </tr>\n",
              "    <tr>\n",
              "      <th>37</th>\n",
              "      <td>37.0</td>\n",
              "      <td>6</td>\n",
              "      <td>192251.0</td>\n",
              "      <td>0</td>\n",
              "      <td>6.0</td>\n",
              "      <td>2</td>\n",
              "      <td>8</td>\n",
              "      <td>5</td>\n",
              "      <td>4</td>\n",
              "      <td>0</td>\n",
              "      <td>2635.0</td>\n",
              "      <td>0.0</td>\n",
              "      <td>40.0</td>\n",
              "      <td>39</td>\n",
              "      <td>0</td>\n",
              "    </tr>\n",
              "    <tr>\n",
              "      <th>38</th>\n",
              "      <td>32.0</td>\n",
              "      <td>4</td>\n",
              "      <td>311764.0</td>\n",
              "      <td>0</td>\n",
              "      <td>6.0</td>\n",
              "      <td>2</td>\n",
              "      <td>4</td>\n",
              "      <td>5</td>\n",
              "      <td>4</td>\n",
              "      <td>0</td>\n",
              "      <td>0.0</td>\n",
              "      <td>0.0</td>\n",
              "      <td>35.0</td>\n",
              "      <td>39</td>\n",
              "      <td>0</td>\n",
              "    </tr>\n",
              "    <tr>\n",
              "      <th>39</th>\n",
              "      <td>47.0</td>\n",
              "      <td>4</td>\n",
              "      <td>178013.0</td>\n",
              "      <td>0</td>\n",
              "      <td>6.0</td>\n",
              "      <td>2</td>\n",
              "      <td>10</td>\n",
              "      <td>5</td>\n",
              "      <td>4</td>\n",
              "      <td>0</td>\n",
              "      <td>0.0</td>\n",
              "      <td>0.0</td>\n",
              "      <td>20.0</td>\n",
              "      <td>5</td>\n",
              "      <td>0</td>\n",
              "    </tr>\n",
              "    <tr>\n",
              "      <th>40</th>\n",
              "      <td>32.0</td>\n",
              "      <td>4</td>\n",
              "      <td>143162.0</td>\n",
              "      <td>0</td>\n",
              "      <td>6.0</td>\n",
              "      <td>2</td>\n",
              "      <td>10</td>\n",
              "      <td>5</td>\n",
              "      <td>4</td>\n",
              "      <td>0</td>\n",
              "      <td>0.0</td>\n",
              "      <td>0.0</td>\n",
              "      <td>40.0</td>\n",
              "      <td>39</td>\n",
              "      <td>0</td>\n",
              "    </tr>\n",
              "    <tr>\n",
              "      <th>41</th>\n",
              "      <td>81.0</td>\n",
              "      <td>5</td>\n",
              "      <td>247232.0</td>\n",
              "      <td>0</td>\n",
              "      <td>6.0</td>\n",
              "      <td>2</td>\n",
              "      <td>4</td>\n",
              "      <td>5</td>\n",
              "      <td>4</td>\n",
              "      <td>0</td>\n",
              "      <td>2936.0</td>\n",
              "      <td>0.0</td>\n",
              "      <td>28.0</td>\n",
              "      <td>39</td>\n",
              "      <td>0</td>\n",
              "    </tr>\n",
              "    <tr>\n",
              "      <th>42</th>\n",
              "      <td>55.0</td>\n",
              "      <td>4</td>\n",
              "      <td>205422.0</td>\n",
              "      <td>0</td>\n",
              "      <td>6.0</td>\n",
              "      <td>2</td>\n",
              "      <td>8</td>\n",
              "      <td>5</td>\n",
              "      <td>2</td>\n",
              "      <td>0</td>\n",
              "      <td>0.0</td>\n",
              "      <td>0.0</td>\n",
              "      <td>40.0</td>\n",
              "      <td>39</td>\n",
              "      <td>0</td>\n",
              "    </tr>\n",
              "    <tr>\n",
              "      <th>43</th>\n",
              "      <td>58.0</td>\n",
              "      <td>6</td>\n",
              "      <td>147653.0</td>\n",
              "      <td>0</td>\n",
              "      <td>6.0</td>\n",
              "      <td>2</td>\n",
              "      <td>3</td>\n",
              "      <td>5</td>\n",
              "      <td>4</td>\n",
              "      <td>0</td>\n",
              "      <td>0.0</td>\n",
              "      <td>1977.0</td>\n",
              "      <td>35.0</td>\n",
              "      <td>39</td>\n",
              "      <td>1</td>\n",
              "    </tr>\n",
              "    <tr>\n",
              "      <th>44</th>\n",
              "      <td>56.0</td>\n",
              "      <td>4</td>\n",
              "      <td>99894.0</td>\n",
              "      <td>0</td>\n",
              "      <td>6.0</td>\n",
              "      <td>2</td>\n",
              "      <td>12</td>\n",
              "      <td>5</td>\n",
              "      <td>1</td>\n",
              "      <td>0</td>\n",
              "      <td>0.0</td>\n",
              "      <td>0.0</td>\n",
              "      <td>30.0</td>\n",
              "      <td>24</td>\n",
              "      <td>1</td>\n",
              "    </tr>\n",
              "    <tr>\n",
              "      <th>45</th>\n",
              "      <td>48.0</td>\n",
              "      <td>4</td>\n",
              "      <td>112860.0</td>\n",
              "      <td>0</td>\n",
              "      <td>6.0</td>\n",
              "      <td>2</td>\n",
              "      <td>10</td>\n",
              "      <td>5</td>\n",
              "      <td>2</td>\n",
              "      <td>0</td>\n",
              "      <td>0.0</td>\n",
              "      <td>0.0</td>\n",
              "      <td>35.0</td>\n",
              "      <td>39</td>\n",
              "      <td>0</td>\n",
              "    </tr>\n",
              "    <tr>\n",
              "      <th>46</th>\n",
              "      <td>59.0</td>\n",
              "      <td>6</td>\n",
              "      <td>119344.0</td>\n",
              "      <td>0</td>\n",
              "      <td>6.0</td>\n",
              "      <td>2</td>\n",
              "      <td>4</td>\n",
              "      <td>5</td>\n",
              "      <td>4</td>\n",
              "      <td>0</td>\n",
              "      <td>0.0</td>\n",
              "      <td>0.0</td>\n",
              "      <td>36.0</td>\n",
              "      <td>39</td>\n",
              "      <td>0</td>\n",
              "    </tr>\n",
              "    <tr>\n",
              "      <th>47</th>\n",
              "      <td>22.0</td>\n",
              "      <td>4</td>\n",
              "      <td>134746.0</td>\n",
              "      <td>0</td>\n",
              "      <td>6.0</td>\n",
              "      <td>2</td>\n",
              "      <td>12</td>\n",
              "      <td>5</td>\n",
              "      <td>4</td>\n",
              "      <td>0</td>\n",
              "      <td>0.0</td>\n",
              "      <td>0.0</td>\n",
              "      <td>40.0</td>\n",
              "      <td>39</td>\n",
              "      <td>0</td>\n",
              "    </tr>\n",
              "    <tr>\n",
              "      <th>48</th>\n",
              "      <td>25.0</td>\n",
              "      <td>4</td>\n",
              "      <td>47353.0</td>\n",
              "      <td>0</td>\n",
              "      <td>6.0</td>\n",
              "      <td>2</td>\n",
              "      <td>8</td>\n",
              "      <td>5</td>\n",
              "      <td>4</td>\n",
              "      <td>0</td>\n",
              "      <td>0.0</td>\n",
              "      <td>0.0</td>\n",
              "      <td>40.0</td>\n",
              "      <td>39</td>\n",
              "      <td>0</td>\n",
              "    </tr>\n",
              "    <tr>\n",
              "      <th>49</th>\n",
              "      <td>28.0</td>\n",
              "      <td>1</td>\n",
              "      <td>24153.0</td>\n",
              "      <td>0</td>\n",
              "      <td>6.0</td>\n",
              "      <td>2</td>\n",
              "      <td>8</td>\n",
              "      <td>5</td>\n",
              "      <td>0</td>\n",
              "      <td>0</td>\n",
              "      <td>0.0</td>\n",
              "      <td>0.0</td>\n",
              "      <td>40.0</td>\n",
              "      <td>39</td>\n",
              "      <td>0</td>\n",
              "    </tr>\n",
              "  </tbody>\n",
              "</table>\n",
              "</div>"
            ],
            "text/plain": [
              "     age  workclass  ...  native_country  income_bracket\n",
              "0   39.0          4  ...              39               0\n",
              "1   72.0          4  ...              39               1\n",
              "2   45.0          4  ...              39               1\n",
              "3   31.0          4  ...              39               0\n",
              "4   55.0          4  ...              39               0\n",
              "5   30.0          4  ...              32               0\n",
              "6   46.0          5  ...              39               0\n",
              "7   28.0          4  ...              39               0\n",
              "8   37.0          4  ...              39               0\n",
              "9   40.0          2  ...              41               1\n",
              "10  41.0          4  ...              17               0\n",
              "11  27.0          4  ...              32               0\n",
              "12  31.0          4  ...              39               0\n",
              "13  46.0          4  ...              39               0\n",
              "14  70.0          4  ...              39               0\n",
              "15  77.0          4  ...              39               0\n",
              "16  38.0          4  ...              14               0\n",
              "17  41.0          5  ...               6               0\n",
              "18  52.0          2  ...              39               0\n",
              "19  35.0          4  ...              39               0\n",
              "20  28.0          4  ...              39               0\n",
              "21  36.0          4  ...              39               0\n",
              "22  58.0          4  ...              39               0\n",
              "23  48.0          4  ...              39               0\n",
              "24  58.0          5  ...              39               0\n",
              "25  22.0          4  ...              39               0\n",
              "26  29.0          4  ...              39               0\n",
              "27  27.0          4  ...              26               0\n",
              "28  40.0          4  ...              39               0\n",
              "29  26.0          4  ...              39               0\n",
              "30  26.0          4  ...              39               0\n",
              "31  25.0          4  ...              39               0\n",
              "32  52.0          4  ...              39               0\n",
              "33  24.0          4  ...              39               0\n",
              "34  28.0          4  ...              13               0\n",
              "35  57.0          4  ...              39               0\n",
              "36  29.0          4  ...              39               0\n",
              "37  37.0          6  ...              39               0\n",
              "38  32.0          4  ...              39               0\n",
              "39  47.0          4  ...               5               0\n",
              "40  32.0          4  ...              39               0\n",
              "41  81.0          5  ...              39               0\n",
              "42  55.0          4  ...              39               0\n",
              "43  58.0          6  ...              39               1\n",
              "44  56.0          4  ...              24               1\n",
              "45  48.0          4  ...              39               0\n",
              "46  59.0          6  ...              39               0\n",
              "47  22.0          4  ...              39               0\n",
              "48  25.0          4  ...              39               0\n",
              "49  28.0          1  ...              39               0\n",
              "\n",
              "[50 rows x 15 columns]"
            ]
          },
          "metadata": {
            "tags": []
          },
          "execution_count": 46
        }
      ]
    },
    {
      "cell_type": "code",
      "metadata": {
        "colab": {
          "base_uri": "https://localhost:8080/"
        },
        "id": "u8AiXAb0siOC",
        "outputId": "b834fe14-2def-43c0-e18c-6294d9069d0a"
      },
      "source": [
        "target=df_census_encoded['income_bracket']\n",
        "target.head()"
      ],
      "execution_count": 47,
      "outputs": [
        {
          "output_type": "execute_result",
          "data": {
            "text/plain": [
              "0    0\n",
              "1    1\n",
              "2    1\n",
              "3    0\n",
              "4    0\n",
              "Name: income_bracket, dtype: int64"
            ]
          },
          "metadata": {
            "tags": []
          },
          "execution_count": 47
        }
      ]
    },
    {
      "cell_type": "code",
      "metadata": {
        "colab": {
          "base_uri": "https://localhost:8080/",
          "height": 194
        },
        "id": "avgqeNrbsiPH",
        "outputId": "663bfd2d-dcd6-49f8-ae87-32c648beb5df"
      },
      "source": [
        "df_census_encoded=df_census_encoded.drop(columns=['income_bracket'])\n",
        "df_census_encoded.head()"
      ],
      "execution_count": 48,
      "outputs": [
        {
          "output_type": "execute_result",
          "data": {
            "application/vnd.google.colaboratory.module+javascript": "\n      import \"https://ssl.gstatic.com/colaboratory/data_table/a6224c040fa35dcf/data_table.js\";\n\n      window.createDataTable({\n        data: [[{\n            'v': 0,\n            'f': \"0\",\n        },\n{\n            'v': 39.0,\n            'f': \"39.0\",\n        },\n{\n            'v': 4,\n            'f': \"4\",\n        },\n{\n            'v': 297847.0,\n            'f': \"297847.0\",\n        },\n{\n            'v': 6,\n            'f': \"6\",\n        },\n{\n            'v': 5.0,\n            'f': \"5.0\",\n        },\n{\n            'v': 2,\n            'f': \"2\",\n        },\n{\n            'v': 8,\n            'f': \"8\",\n        },\n{\n            'v': 5,\n            'f': \"5\",\n        },\n{\n            'v': 2,\n            'f': \"2\",\n        },\n{\n            'v': 0,\n            'f': \"0\",\n        },\n{\n            'v': 3411.0,\n            'f': \"3411.0\",\n        },\n{\n            'v': 0.0,\n            'f': \"0.0\",\n        },\n{\n            'v': 34.0,\n            'f': \"34.0\",\n        },\n{\n            'v': 39,\n            'f': \"39\",\n        }],\n [{\n            'v': 1,\n            'f': \"1\",\n        },\n{\n            'v': 72.0,\n            'f': \"72.0\",\n        },\n{\n            'v': 4,\n            'f': \"4\",\n        },\n{\n            'v': 74141.0,\n            'f': \"74141.0\",\n        },\n{\n            'v': 6,\n            'f': \"6\",\n        },\n{\n            'v': 5.0,\n            'f': \"5.0\",\n        },\n{\n            'v': 2,\n            'f': \"2\",\n        },\n{\n            'v': 4,\n            'f': \"4\",\n        },\n{\n            'v': 5,\n            'f': \"5\",\n        },\n{\n            'v': 1,\n            'f': \"1\",\n        },\n{\n            'v': 0,\n            'f': \"0\",\n        },\n{\n            'v': 0.0,\n            'f': \"0.0\",\n        },\n{\n            'v': 0.0,\n            'f': \"0.0\",\n        },\n{\n            'v': 48.0,\n            'f': \"48.0\",\n        },\n{\n            'v': 39,\n            'f': \"39\",\n        }],\n [{\n            'v': 2,\n            'f': \"2\",\n        },\n{\n            'v': 45.0,\n            'f': \"45.0\",\n        },\n{\n            'v': 4,\n            'f': \"4\",\n        },\n{\n            'v': 178215.0,\n            'f': \"178215.0\",\n        },\n{\n            'v': 6,\n            'f': \"6\",\n        },\n{\n            'v': 5.0,\n            'f': \"5.0\",\n        },\n{\n            'v': 2,\n            'f': \"2\",\n        },\n{\n            'v': 7,\n            'f': \"7\",\n        },\n{\n            'v': 5,\n            'f': \"5\",\n        },\n{\n            'v': 4,\n            'f': \"4\",\n        },\n{\n            'v': 0,\n            'f': \"0\",\n        },\n{\n            'v': 0.0,\n            'f': \"0.0\",\n        },\n{\n            'v': 0.0,\n            'f': \"0.0\",\n        },\n{\n            'v': 40.0,\n            'f': \"40.0\",\n        },\n{\n            'v': 39,\n            'f': \"39\",\n        }],\n [{\n            'v': 3,\n            'f': \"3\",\n        },\n{\n            'v': 31.0,\n            'f': \"31.0\",\n        },\n{\n            'v': 4,\n            'f': \"4\",\n        },\n{\n            'v': 86958.0,\n            'f': \"86958.0\",\n        },\n{\n            'v': 6,\n            'f': \"6\",\n        },\n{\n            'v': 5.0,\n            'f': \"5.0\",\n        },\n{\n            'v': 2,\n            'f': \"2\",\n        },\n{\n            'v': 4,\n            'f': \"4\",\n        },\n{\n            'v': 5,\n            'f': \"5\",\n        },\n{\n            'v': 4,\n            'f': \"4\",\n        },\n{\n            'v': 0,\n            'f': \"0\",\n        },\n{\n            'v': 0.0,\n            'f': \"0.0\",\n        },\n{\n            'v': 0.0,\n            'f': \"0.0\",\n        },\n{\n            'v': 40.0,\n            'f': \"40.0\",\n        },\n{\n            'v': 39,\n            'f': \"39\",\n        }],\n [{\n            'v': 4,\n            'f': \"4\",\n        },\n{\n            'v': 55.0,\n            'f': \"55.0\",\n        },\n{\n            'v': 4,\n            'f': \"4\",\n        },\n{\n            'v': 176012.0,\n            'f': \"176012.0\",\n        },\n{\n            'v': 6,\n            'f': \"6\",\n        },\n{\n            'v': 5.0,\n            'f': \"5.0\",\n        },\n{\n            'v': 2,\n            'f': \"2\",\n        },\n{\n            'v': 13,\n            'f': \"13\",\n        },\n{\n            'v': 5,\n            'f': \"5\",\n        },\n{\n            'v': 4,\n            'f': \"4\",\n        },\n{\n            'v': 0,\n            'f': \"0\",\n        },\n{\n            'v': 0.0,\n            'f': \"0.0\",\n        },\n{\n            'v': 0.0,\n            'f': \"0.0\",\n        },\n{\n            'v': 23.0,\n            'f': \"23.0\",\n        },\n{\n            'v': 39,\n            'f': \"39\",\n        }]],\n        columns: [[\"number\", \"index\"], [\"number\", \"age\"], [\"number\", \"workclass\"], [\"number\", \"functional_weight\"], [\"number\", \"education\"], [\"number\", \"education_num\"], [\"number\", \"marital_status\"], [\"number\", \"occupation\"], [\"number\", \"relationship\"], [\"number\", \"race\"], [\"number\", \"sex\"], [\"number\", \"capital_gain\"], [\"number\", \"capital_loss\"], [\"number\", \"hours_per_week\"], [\"number\", \"native_country\"]],\n        columnOptions: [{\"width\": \"1px\", \"className\": \"index_column\"}],\n        rowsPerPage: 25,\n        helpUrl: \"https://colab.research.google.com/notebooks/data_table.ipynb\",\n        suppressOutputScrolling: true,\n        minimumWidth: undefined,\n      });\n    ",
            "text/html": [
              "<div>\n",
              "<style scoped>\n",
              "    .dataframe tbody tr th:only-of-type {\n",
              "        vertical-align: middle;\n",
              "    }\n",
              "\n",
              "    .dataframe tbody tr th {\n",
              "        vertical-align: top;\n",
              "    }\n",
              "\n",
              "    .dataframe thead th {\n",
              "        text-align: right;\n",
              "    }\n",
              "</style>\n",
              "<table border=\"1\" class=\"dataframe\">\n",
              "  <thead>\n",
              "    <tr style=\"text-align: right;\">\n",
              "      <th></th>\n",
              "      <th>age</th>\n",
              "      <th>workclass</th>\n",
              "      <th>functional_weight</th>\n",
              "      <th>education</th>\n",
              "      <th>education_num</th>\n",
              "      <th>marital_status</th>\n",
              "      <th>occupation</th>\n",
              "      <th>relationship</th>\n",
              "      <th>race</th>\n",
              "      <th>sex</th>\n",
              "      <th>capital_gain</th>\n",
              "      <th>capital_loss</th>\n",
              "      <th>hours_per_week</th>\n",
              "      <th>native_country</th>\n",
              "    </tr>\n",
              "  </thead>\n",
              "  <tbody>\n",
              "    <tr>\n",
              "      <th>0</th>\n",
              "      <td>39.0</td>\n",
              "      <td>4</td>\n",
              "      <td>297847.0</td>\n",
              "      <td>6</td>\n",
              "      <td>5.0</td>\n",
              "      <td>2</td>\n",
              "      <td>8</td>\n",
              "      <td>5</td>\n",
              "      <td>2</td>\n",
              "      <td>0</td>\n",
              "      <td>3411.0</td>\n",
              "      <td>0.0</td>\n",
              "      <td>34.0</td>\n",
              "      <td>39</td>\n",
              "    </tr>\n",
              "    <tr>\n",
              "      <th>1</th>\n",
              "      <td>72.0</td>\n",
              "      <td>4</td>\n",
              "      <td>74141.0</td>\n",
              "      <td>6</td>\n",
              "      <td>5.0</td>\n",
              "      <td>2</td>\n",
              "      <td>4</td>\n",
              "      <td>5</td>\n",
              "      <td>1</td>\n",
              "      <td>0</td>\n",
              "      <td>0.0</td>\n",
              "      <td>0.0</td>\n",
              "      <td>48.0</td>\n",
              "      <td>39</td>\n",
              "    </tr>\n",
              "    <tr>\n",
              "      <th>2</th>\n",
              "      <td>45.0</td>\n",
              "      <td>4</td>\n",
              "      <td>178215.0</td>\n",
              "      <td>6</td>\n",
              "      <td>5.0</td>\n",
              "      <td>2</td>\n",
              "      <td>7</td>\n",
              "      <td>5</td>\n",
              "      <td>4</td>\n",
              "      <td>0</td>\n",
              "      <td>0.0</td>\n",
              "      <td>0.0</td>\n",
              "      <td>40.0</td>\n",
              "      <td>39</td>\n",
              "    </tr>\n",
              "    <tr>\n",
              "      <th>3</th>\n",
              "      <td>31.0</td>\n",
              "      <td>4</td>\n",
              "      <td>86958.0</td>\n",
              "      <td>6</td>\n",
              "      <td>5.0</td>\n",
              "      <td>2</td>\n",
              "      <td>4</td>\n",
              "      <td>5</td>\n",
              "      <td>4</td>\n",
              "      <td>0</td>\n",
              "      <td>0.0</td>\n",
              "      <td>0.0</td>\n",
              "      <td>40.0</td>\n",
              "      <td>39</td>\n",
              "    </tr>\n",
              "    <tr>\n",
              "      <th>4</th>\n",
              "      <td>55.0</td>\n",
              "      <td>4</td>\n",
              "      <td>176012.0</td>\n",
              "      <td>6</td>\n",
              "      <td>5.0</td>\n",
              "      <td>2</td>\n",
              "      <td>13</td>\n",
              "      <td>5</td>\n",
              "      <td>4</td>\n",
              "      <td>0</td>\n",
              "      <td>0.0</td>\n",
              "      <td>0.0</td>\n",
              "      <td>23.0</td>\n",
              "      <td>39</td>\n",
              "    </tr>\n",
              "  </tbody>\n",
              "</table>\n",
              "</div>"
            ],
            "text/plain": [
              "    age  workclass  ...  hours_per_week  native_country\n",
              "0  39.0          4  ...            34.0              39\n",
              "1  72.0          4  ...            48.0              39\n",
              "2  45.0          4  ...            40.0              39\n",
              "3  31.0          4  ...            40.0              39\n",
              "4  55.0          4  ...            23.0              39\n",
              "\n",
              "[5 rows x 14 columns]"
            ]
          },
          "metadata": {
            "tags": []
          },
          "execution_count": 48
        }
      ]
    },
    {
      "cell_type": "markdown",
      "metadata": {
        "id": "CeP2LC2ZsnSH"
      },
      "source": [
        "Perfrom Classification\n"
      ]
    },
    {
      "cell_type": "code",
      "metadata": {
        "colab": {
          "base_uri": "https://localhost:8080/"
        },
        "id": "44cd6fhgsp8w",
        "outputId": "ffea420a-973c-456f-999e-a072c4407576"
      },
      "source": [
        "from sklearn.model_selection import train_test_split\n",
        "X_train, X_test, Y_train, Y_test = train_test_split(df_census_encoded, target, train_size = 0.7)\n",
        "X_train.shape, X_test.shape, Y_train.shape, Y_test.shape"
      ],
      "execution_count": 49,
      "outputs": [
        {
          "output_type": "execute_result",
          "data": {
            "text/plain": [
              "((22792, 14), (9769, 14), (22792,), (9769,))"
            ]
          },
          "metadata": {
            "tags": []
          },
          "execution_count": 49
        }
      ]
    },
    {
      "cell_type": "code",
      "metadata": {
        "colab": {
          "base_uri": "https://localhost:8080/"
        },
        "id": "1bSW0D-BssrV",
        "outputId": "9eb030fb-172f-4983-db05-a0b4c4115149"
      },
      "source": [
        "from sklearn.linear_model import LogisticRegression\n",
        "lgreg=LogisticRegression(max_iter=200)\n",
        "lgreg.fit(X_train, Y_train)"
      ],
      "execution_count": 50,
      "outputs": [
        {
          "output_type": "stream",
          "text": [
            "/usr/local/lib/python3.7/dist-packages/sklearn/linear_model/_logistic.py:940: ConvergenceWarning: lbfgs failed to converge (status=1):\n",
            "STOP: TOTAL NO. of ITERATIONS REACHED LIMIT.\n",
            "\n",
            "Increase the number of iterations (max_iter) or scale the data as shown in:\n",
            "    https://scikit-learn.org/stable/modules/preprocessing.html\n",
            "Please also refer to the documentation for alternative solver options:\n",
            "    https://scikit-learn.org/stable/modules/linear_model.html#logistic-regression\n",
            "  extra_warning_msg=_LOGISTIC_SOLVER_CONVERGENCE_MSG)\n"
          ],
          "name": "stderr"
        },
        {
          "output_type": "execute_result",
          "data": {
            "text/plain": [
              "LogisticRegression(C=1.0, class_weight=None, dual=False, fit_intercept=True,\n",
              "                   intercept_scaling=1, l1_ratio=None, max_iter=200,\n",
              "                   multi_class='auto', n_jobs=None, penalty='l2',\n",
              "                   random_state=None, solver='lbfgs', tol=0.0001, verbose=0,\n",
              "                   warm_start=False)"
            ]
          },
          "metadata": {
            "tags": []
          },
          "execution_count": 50
        }
      ]
    },
    {
      "cell_type": "code",
      "metadata": {
        "id": "cdVsgJEKsuOZ"
      },
      "source": [
        "y_pred=lgreg.predict(X_test)"
      ],
      "execution_count": 51,
      "outputs": []
    },
    {
      "cell_type": "code",
      "metadata": {
        "colab": {
          "base_uri": "https://localhost:8080/"
        },
        "id": "o1L3HQl-suP4",
        "outputId": "943ae390-9ee8-47d6-bc78-153c6cc07673"
      },
      "source": [
        "from sklearn.metrics import classification_report\n",
        "print(classification_report(Y_test, y_pred))"
      ],
      "execution_count": 52,
      "outputs": [
        {
          "output_type": "stream",
          "text": [
            "              precision    recall  f1-score   support\n",
            "\n",
            "           0       0.82      0.94      0.88      7433\n",
            "           1       0.66      0.36      0.47      2336\n",
            "\n",
            "    accuracy                           0.80      9769\n",
            "   macro avg       0.74      0.65      0.67      9769\n",
            "weighted avg       0.79      0.80      0.78      9769\n",
            "\n"
          ],
          "name": "stdout"
        }
      ]
    },
    {
      "cell_type": "code",
      "metadata": {
        "colab": {
          "base_uri": "https://localhost:8080/"
        },
        "id": "CcXdP-UyswdC",
        "outputId": "bc40de00-bd3c-4bde-d29d-b6a60d9dc6fb"
      },
      "source": [
        "from sklearn.metrics import roc_auc_score\n",
        "from sklearn.metrics import f1_score\n",
        "print(\"roc_auc_score: \", roc_auc_score(Y_test, y_pred))\n",
        "print(\"f1 score: \", f1_score(Y_test, y_pred))"
      ],
      "execution_count": 53,
      "outputs": [
        {
          "output_type": "stream",
          "text": [
            "roc_auc_score:  0.6515788475218803\n",
            "f1 score:  0.46729490022172954\n"
          ],
          "name": "stdout"
        }
      ]
    },
    {
      "cell_type": "code",
      "metadata": {
        "colab": {
          "base_uri": "https://localhost:8080/"
        },
        "id": "1DFmHobOswkO",
        "outputId": "290bb197-2e5f-4d88-c617-540cab219696"
      },
      "source": [
        "from sklearn.neighbors import KNeighborsClassifier\n",
        "knclassifier=KNeighborsClassifier()\n",
        "knclassifier.fit(X_train, Y_train)\n",
        "y_pred = knclassifier.predict(X_test)\n",
        "\n",
        "#print('Logistic Regression accuracy score with all the features: {0:0.4f}'. format(accuracy_score(Y_test, y_pred)))\n",
        "from sklearn.metrics import classification_report\n",
        "print(classification_report(Y_test, y_pred))\n",
        "print(\"roc_auc_score: \", roc_auc_score(Y_test, y_pred))\n",
        "print(\"f1 score: \", f1_score(Y_test, y_pred))"
      ],
      "execution_count": 54,
      "outputs": [
        {
          "output_type": "stream",
          "text": [
            "              precision    recall  f1-score   support\n",
            "\n",
            "           0       0.81      0.92      0.86      7433\n",
            "           1       0.54      0.31      0.39      2336\n",
            "\n",
            "    accuracy                           0.77      9769\n",
            "   macro avg       0.67      0.61      0.63      9769\n",
            "weighted avg       0.74      0.77      0.75      9769\n",
            "\n",
            "roc_auc_score:  0.6131681030908076\n",
            "f1 score:  0.3931391233324258\n"
          ],
          "name": "stdout"
        }
      ]
    }
  ]
}